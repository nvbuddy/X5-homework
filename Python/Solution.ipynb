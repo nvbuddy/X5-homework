{
 "cells": [
  {
   "attachments": {},
   "cell_type": "markdown",
   "metadata": {},
   "source": [
    "## Overview результатов и интересные инсайды"
   ]
  },
  {
   "attachments": {},
   "cell_type": "markdown",
   "metadata": {},
   "source": [
    "1. Большая часть пользователей не из Московского региона\n",
    "2. Больше трети пользователей незарегистрировано ни в одной из компаний\n",
    "3. Чуть больше половины пользователей зарегистрировано только в одной компании, а не в нескольких\n",
    "4. Пользователь может иметь аккаунт в нескольких компаниях\n",
    "5. Большая часть пользователей из Red Company\n",
    "6. Если сравнивать Blue, Green и Black, то у Blue больше всего пользователей, но они приносят меньше всего GVM\n",
    "7. в Green и Black есть прослойка пользователей, которая не пользуется ни одним из девайсов, но всё также приносит GVM\n",
    "8. Ни местонахождение (Москва или Регионы), ни тип девайса не влияют на GVM"
   ]
  },
  {
   "attachments": {},
   "cell_type": "markdown",
   "metadata": {},
   "source": [
    "## Импорт данных"
   ]
  },
  {
   "cell_type": "code",
   "execution_count": 1,
   "metadata": {},
   "outputs": [],
   "source": [
    "import pandas as pd\n",
    "import numpy as np\n",
    "import plotly.graph_objects as go"
   ]
  },
  {
   "cell_type": "code",
   "execution_count": 2,
   "metadata": {},
   "outputs": [],
   "source": [
    "df = pd.read_excel('test_file.xlsx', header=1, index_col=0)"
   ]
  },
  {
   "attachments": {},
   "cell_type": "markdown",
   "metadata": {},
   "source": [
    "## Небольшое Data Quality"
   ]
  },
  {
   "attachments": {},
   "cell_type": "markdown",
   "metadata": {},
   "source": [
    "Проверка на NaN values"
   ]
  },
  {
   "cell_type": "code",
   "execution_count": 3,
   "metadata": {},
   "outputs": [
    {
     "data": {
      "text/plain": [
       "hid                      False\n",
       "active_Red               False\n",
       "has_Green_id             False\n",
       "has_Black_id             False\n",
       "has_Blue_id              False\n",
       "Blue_activity_count      False\n",
       "Blue_gmv_total            True\n",
       "Green_gvm_total          False\n",
       "Green_gvm_order_count    False\n",
       "Black_gvm_total          False\n",
       "Black_gvm_order_count    False\n",
       "Red_android              False\n",
       "Green_android            False\n",
       "Black_android            False\n",
       "Blue_android             False\n",
       "Red_apple                False\n",
       "Green_apple              False\n",
       "Black_apple              False\n",
       "Blue_apple               False\n",
       "is_msk                   False\n",
       "Red_web                  False\n",
       "Green_web                False\n",
       "Black_web                False\n",
       "Blue_web                 False\n",
       "dtype: bool"
      ]
     },
     "execution_count": 3,
     "metadata": {},
     "output_type": "execute_result"
    }
   ],
   "source": [
    "df.isna().any()"
   ]
  },
  {
   "cell_type": "code",
   "execution_count": 4,
   "metadata": {},
   "outputs": [
    {
     "data": {
      "text/html": [
       "<div>\n",
       "<style scoped>\n",
       "    .dataframe tbody tr th:only-of-type {\n",
       "        vertical-align: middle;\n",
       "    }\n",
       "\n",
       "    .dataframe tbody tr th {\n",
       "        vertical-align: top;\n",
       "    }\n",
       "\n",
       "    .dataframe thead th {\n",
       "        text-align: right;\n",
       "    }\n",
       "</style>\n",
       "<table border=\"1\" class=\"dataframe\">\n",
       "  <thead>\n",
       "    <tr style=\"text-align: right;\">\n",
       "      <th></th>\n",
       "      <th>hid</th>\n",
       "      <th>active_Red</th>\n",
       "      <th>has_Green_id</th>\n",
       "      <th>has_Black_id</th>\n",
       "      <th>has_Blue_id</th>\n",
       "      <th>Blue_activity_count</th>\n",
       "      <th>Blue_gmv_total</th>\n",
       "      <th>Green_gvm_total</th>\n",
       "      <th>Green_gvm_order_count</th>\n",
       "      <th>Black_gvm_total</th>\n",
       "      <th>...</th>\n",
       "      <th>Blue_android</th>\n",
       "      <th>Red_apple</th>\n",
       "      <th>Green_apple</th>\n",
       "      <th>Black_apple</th>\n",
       "      <th>Blue_apple</th>\n",
       "      <th>is_msk</th>\n",
       "      <th>Red_web</th>\n",
       "      <th>Green_web</th>\n",
       "      <th>Black_web</th>\n",
       "      <th>Blue_web</th>\n",
       "    </tr>\n",
       "  </thead>\n",
       "  <tbody>\n",
       "    <tr>\n",
       "      <th>68383</th>\n",
       "      <td>18f44eb8c1abb256416294171fb63cba</td>\n",
       "      <td>0.0</td>\n",
       "      <td>1.0</td>\n",
       "      <td>0.0</td>\n",
       "      <td>3.0</td>\n",
       "      <td>4.0</td>\n",
       "      <td>NaN</td>\n",
       "      <td>820.0</td>\n",
       "      <td>1.0</td>\n",
       "      <td>0.0</td>\n",
       "      <td>...</td>\n",
       "      <td>0.0</td>\n",
       "      <td>0.0</td>\n",
       "      <td>0.0</td>\n",
       "      <td>0.0</td>\n",
       "      <td>0.0</td>\n",
       "      <td>1.0</td>\n",
       "      <td>0.0</td>\n",
       "      <td>0.0</td>\n",
       "      <td>0.0</td>\n",
       "      <td>0.0</td>\n",
       "    </tr>\n",
       "  </tbody>\n",
       "</table>\n",
       "<p>1 rows × 24 columns</p>\n",
       "</div>"
      ],
      "text/plain": [
       "                                    hid  active_Red  has_Green_id  \\\n",
       "68383  18f44eb8c1abb256416294171fb63cba         0.0           1.0   \n",
       "\n",
       "       has_Black_id  has_Blue_id Blue_activity_count  Blue_gmv_total  \\\n",
       "68383           0.0          3.0                 4.0             NaN   \n",
       "\n",
       "       Green_gvm_total Green_gvm_order_count  Black_gvm_total  ...  \\\n",
       "68383            820.0                   1.0              0.0  ...   \n",
       "\n",
       "      Blue_android  Red_apple  Green_apple  Black_apple  Blue_apple  is_msk  \\\n",
       "68383          0.0        0.0          0.0          0.0         0.0     1.0   \n",
       "\n",
       "       Red_web  Green_web  Black_web  Blue_web  \n",
       "68383      0.0        0.0        0.0       0.0  \n",
       "\n",
       "[1 rows x 24 columns]"
      ]
     },
     "execution_count": 4,
     "metadata": {},
     "output_type": "execute_result"
    }
   ],
   "source": [
    "df[df['Blue_gmv_total'].isna()]"
   ]
  },
  {
   "attachments": {},
   "cell_type": "markdown",
   "metadata": {},
   "source": [
    "Так как кейс всего один и то он относится к косячному кейсу, который я описал ниже, заменять никак NaN я не буду, строчка просто удалиться далее"
   ]
  },
  {
   "attachments": {},
   "cell_type": "markdown",
   "metadata": {},
   "source": [
    "Судя по документации, принадлежность пользователя к компании, городу (is_msk) и девайсу (Яблоко, АндроЕд, десктопная версия) это бинарное значение, которое может принимать 0, либо 1.\n",
    "<br> Необходимо проверить так ли это на самом деле и косячные кейсы исключить"
   ]
  },
  {
   "cell_type": "code",
   "execution_count": 5,
   "metadata": {},
   "outputs": [],
   "source": [
    "columns_to_check = ['active_Red', \n",
    "                    'has_Green_id', \n",
    "                    'has_Black_id', \n",
    "                    'has_Blue_id', \n",
    "                    'Red_android', \n",
    "                    'Green_android',\n",
    "                    'Black_android',\n",
    "                    'Blue_android',\n",
    "                    'Red_apple',\n",
    "                    'Green_apple',\n",
    "                    'Black_apple',\n",
    "                    'Blue_apple',\n",
    "                    'is_msk',\n",
    "                    'Red_web',\n",
    "                    'Green_web',\n",
    "                    'Black_web',\n",
    "                    'Blue_web']"
   ]
  },
  {
   "cell_type": "code",
   "execution_count": 6,
   "metadata": {},
   "outputs": [],
   "source": [
    "clean_df = df[~(df[columns_to_check] > 1).any(axis=1)]"
   ]
  },
  {
   "attachments": {},
   "cell_type": "markdown",
   "metadata": {},
   "source": [
    "Также в некоторых числовых по смыслу колонках в исходном датасете были замечены datetime объекты, что я также буду считать ошибочными значениями.\n",
    "<br> Так как некоторые такие колонки имеют тип object я поменяю их тип на float64 как и остальные, а в тех случаях, где выдаст ошибку - исправлю"
   ]
  },
  {
   "cell_type": "code",
   "execution_count": 7,
   "metadata": {},
   "outputs": [
    {
     "data": {
      "text/plain": [
       "hid                       object\n",
       "active_Red               float64\n",
       "has_Green_id             float64\n",
       "has_Black_id             float64\n",
       "has_Blue_id              float64\n",
       "Blue_activity_count       object\n",
       "Blue_gmv_total           float64\n",
       "Green_gvm_total          float64\n",
       "Green_gvm_order_count     object\n",
       "Black_gvm_total          float64\n",
       "Black_gvm_order_count     object\n",
       "Red_android              float64\n",
       "Green_android            float64\n",
       "Black_android            float64\n",
       "Blue_android             float64\n",
       "Red_apple                float64\n",
       "Green_apple              float64\n",
       "Black_apple              float64\n",
       "Blue_apple               float64\n",
       "is_msk                   float64\n",
       "Red_web                  float64\n",
       "Green_web                float64\n",
       "Black_web                float64\n",
       "Blue_web                 float64\n",
       "dtype: object"
      ]
     },
     "execution_count": 7,
     "metadata": {},
     "output_type": "execute_result"
    }
   ],
   "source": [
    "clean_df.dtypes"
   ]
  },
  {
   "cell_type": "code",
   "execution_count": 8,
   "metadata": {},
   "outputs": [],
   "source": [
    "columns_to_convert = ['Blue_activity_count', 'Green_gvm_order_count', 'Black_gvm_order_count']"
   ]
  },
  {
   "cell_type": "code",
   "execution_count": 9,
   "metadata": {},
   "outputs": [
    {
     "name": "stderr",
     "output_type": "stream",
     "text": [
      "C:\\Users\\60112813\\AppData\\Local\\Temp\\ipykernel_22120\\567450683.py:1: SettingWithCopyWarning: \n",
      "A value is trying to be set on a copy of a slice from a DataFrame.\n",
      "Try using .loc[row_indexer,col_indexer] = value instead\n",
      "\n",
      "See the caveats in the documentation: https://pandas.pydata.org/pandas-docs/stable/user_guide/indexing.html#returning-a-view-versus-a-copy\n",
      "  clean_df[columns_to_convert] = clean_df[columns_to_convert].astype('float64')\n"
     ]
    }
   ],
   "source": [
    "clean_df[columns_to_convert] = clean_df[columns_to_convert].astype('float64')"
   ]
  },
  {
   "cell_type": "code",
   "execution_count": 10,
   "metadata": {},
   "outputs": [
    {
     "data": {
      "text/plain": [
       "hid                       object\n",
       "active_Red               float64\n",
       "has_Green_id             float64\n",
       "has_Black_id             float64\n",
       "has_Blue_id              float64\n",
       "Blue_activity_count      float64\n",
       "Blue_gmv_total           float64\n",
       "Green_gvm_total          float64\n",
       "Green_gvm_order_count    float64\n",
       "Black_gvm_total          float64\n",
       "Black_gvm_order_count    float64\n",
       "Red_android              float64\n",
       "Green_android            float64\n",
       "Black_android            float64\n",
       "Blue_android             float64\n",
       "Red_apple                float64\n",
       "Green_apple              float64\n",
       "Black_apple              float64\n",
       "Blue_apple               float64\n",
       "is_msk                   float64\n",
       "Red_web                  float64\n",
       "Green_web                float64\n",
       "Black_web                float64\n",
       "Blue_web                 float64\n",
       "dtype: object"
      ]
     },
     "execution_count": 10,
     "metadata": {},
     "output_type": "execute_result"
    }
   ],
   "source": [
    "clean_df.dtypes"
   ]
  },
  {
   "attachments": {},
   "cell_type": "markdown",
   "metadata": {},
   "source": [
    "Ошибок никаких не было при конвертации, все колонки имеют нужный тип данных по логике, можно переходить к EDA"
   ]
  },
  {
   "attachments": {},
   "cell_type": "markdown",
   "metadata": {},
   "source": [
    "## EDA Анализ"
   ]
  },
  {
   "attachments": {},
   "cell_type": "markdown",
   "metadata": {},
   "source": [
    "### Кол-во пользователей"
   ]
  },
  {
   "cell_type": "code",
   "execution_count": 11,
   "metadata": {},
   "outputs": [
    {
     "data": {
      "text/plain": [
       "99475"
      ]
     },
     "execution_count": 11,
     "metadata": {},
     "output_type": "execute_result"
    }
   ],
   "source": [
    "clean_df['hid'].nunique()"
   ]
  },
  {
   "cell_type": "code",
   "execution_count": 12,
   "metadata": {},
   "outputs": [
    {
     "data": {
      "text/plain": [
       "False"
      ]
     },
     "execution_count": 12,
     "metadata": {},
     "output_type": "execute_result"
    }
   ],
   "source": [
    "clean_df['hid'].duplicated().any()"
   ]
  },
  {
   "attachments": {},
   "cell_type": "markdown",
   "metadata": {},
   "source": [
    "Всего у нас 99 475 уникальных пользователей, дубликатных значений их ID нет"
   ]
  },
  {
   "cell_type": "code",
   "execution_count": 13,
   "metadata": {},
   "outputs": [
    {
     "data": {
      "text/plain": [
       "38354"
      ]
     },
     "execution_count": 13,
     "metadata": {},
     "output_type": "execute_result"
    }
   ],
   "source": [
    "clean_df[clean_df[['active_Red', 'has_Green_id', 'has_Black_id', 'has_Blue_id']].sum(axis=1) == 0]['hid'].nunique()"
   ]
  },
  {
   "cell_type": "code",
   "execution_count": 14,
   "metadata": {},
   "outputs": [
    {
     "data": {
      "text/plain": [
       "52491"
      ]
     },
     "execution_count": 14,
     "metadata": {},
     "output_type": "execute_result"
    }
   ],
   "source": [
    "clean_df[clean_df[['active_Red', 'has_Green_id', 'has_Black_id', 'has_Blue_id']].sum(axis=1) == 1]['hid'].nunique()"
   ]
  },
  {
   "cell_type": "code",
   "execution_count": 15,
   "metadata": {},
   "outputs": [
    {
     "data": {
      "text/plain": [
       "8255"
      ]
     },
     "execution_count": 15,
     "metadata": {},
     "output_type": "execute_result"
    }
   ],
   "source": [
    "clean_df[clean_df[['active_Red', 'has_Green_id', 'has_Black_id', 'has_Blue_id']].sum(axis=1) == 2]['hid'].nunique()"
   ]
  },
  {
   "cell_type": "code",
   "execution_count": 16,
   "metadata": {},
   "outputs": [
    {
     "data": {
      "text/plain": [
       "357"
      ]
     },
     "execution_count": 16,
     "metadata": {},
     "output_type": "execute_result"
    }
   ],
   "source": [
    "clean_df[clean_df[['active_Red', 'has_Green_id', 'has_Black_id', 'has_Blue_id']].sum(axis=1) == 3]['hid'].nunique()"
   ]
  },
  {
   "cell_type": "code",
   "execution_count": 17,
   "metadata": {},
   "outputs": [
    {
     "data": {
      "text/plain": [
       "18"
      ]
     },
     "execution_count": 17,
     "metadata": {},
     "output_type": "execute_result"
    }
   ],
   "source": [
    "clean_df[clean_df[['active_Red', 'has_Green_id', 'has_Black_id', 'has_Blue_id']].sum(axis=1) == 4]['hid'].nunique()"
   ]
  },
  {
   "attachments": {},
   "cell_type": "markdown",
   "metadata": {},
   "source": [
    "Из них 38 354 не имеют зарегистрированного аккаунта нигде, 52 491 имеют аккаунт только в одной компании, 8 255 - в двух компаниях, 357 - в трёх и всего 18 пользователей во всех четырех\n",
    "<br> Для наглядности - график ниже. Предполагаем, что пользователь на нём может входить в несколько компаний"
   ]
  },
  {
   "cell_type": "code",
   "execution_count": 226,
   "metadata": {},
   "outputs": [
    {
     "data": {
      "application/vnd.plotly.v1+json": {
       "config": {
        "plotlyServerURL": "https://plot.ly"
       },
       "data": [
        {
         "text": [
          "38354",
          "52491",
          "8255",
          "357",
          "18"
         ],
         "type": "bar",
         "x": [
          "Не зарегистрирован",
          "В 1-ой компании",
          "В 2-ух компаниях",
          "В 3-х компаниях",
          "В 4-х компаниях"
         ],
         "y": [
          38354,
          52491,
          8255,
          357,
          18
         ]
        }
       ],
       "layout": {
        "template": {
         "data": {
          "bar": [
           {
            "error_x": {
             "color": "#2a3f5f"
            },
            "error_y": {
             "color": "#2a3f5f"
            },
            "marker": {
             "line": {
              "color": "#E5ECF6",
              "width": 0.5
             },
             "pattern": {
              "fillmode": "overlay",
              "size": 10,
              "solidity": 0.2
             }
            },
            "type": "bar"
           }
          ],
          "barpolar": [
           {
            "marker": {
             "line": {
              "color": "#E5ECF6",
              "width": 0.5
             },
             "pattern": {
              "fillmode": "overlay",
              "size": 10,
              "solidity": 0.2
             }
            },
            "type": "barpolar"
           }
          ],
          "carpet": [
           {
            "aaxis": {
             "endlinecolor": "#2a3f5f",
             "gridcolor": "white",
             "linecolor": "white",
             "minorgridcolor": "white",
             "startlinecolor": "#2a3f5f"
            },
            "baxis": {
             "endlinecolor": "#2a3f5f",
             "gridcolor": "white",
             "linecolor": "white",
             "minorgridcolor": "white",
             "startlinecolor": "#2a3f5f"
            },
            "type": "carpet"
           }
          ],
          "choropleth": [
           {
            "colorbar": {
             "outlinewidth": 0,
             "ticks": ""
            },
            "type": "choropleth"
           }
          ],
          "contour": [
           {
            "colorbar": {
             "outlinewidth": 0,
             "ticks": ""
            },
            "colorscale": [
             [
              0,
              "#0d0887"
             ],
             [
              0.1111111111111111,
              "#46039f"
             ],
             [
              0.2222222222222222,
              "#7201a8"
             ],
             [
              0.3333333333333333,
              "#9c179e"
             ],
             [
              0.4444444444444444,
              "#bd3786"
             ],
             [
              0.5555555555555556,
              "#d8576b"
             ],
             [
              0.6666666666666666,
              "#ed7953"
             ],
             [
              0.7777777777777778,
              "#fb9f3a"
             ],
             [
              0.8888888888888888,
              "#fdca26"
             ],
             [
              1,
              "#f0f921"
             ]
            ],
            "type": "contour"
           }
          ],
          "contourcarpet": [
           {
            "colorbar": {
             "outlinewidth": 0,
             "ticks": ""
            },
            "type": "contourcarpet"
           }
          ],
          "heatmap": [
           {
            "colorbar": {
             "outlinewidth": 0,
             "ticks": ""
            },
            "colorscale": [
             [
              0,
              "#0d0887"
             ],
             [
              0.1111111111111111,
              "#46039f"
             ],
             [
              0.2222222222222222,
              "#7201a8"
             ],
             [
              0.3333333333333333,
              "#9c179e"
             ],
             [
              0.4444444444444444,
              "#bd3786"
             ],
             [
              0.5555555555555556,
              "#d8576b"
             ],
             [
              0.6666666666666666,
              "#ed7953"
             ],
             [
              0.7777777777777778,
              "#fb9f3a"
             ],
             [
              0.8888888888888888,
              "#fdca26"
             ],
             [
              1,
              "#f0f921"
             ]
            ],
            "type": "heatmap"
           }
          ],
          "heatmapgl": [
           {
            "colorbar": {
             "outlinewidth": 0,
             "ticks": ""
            },
            "colorscale": [
             [
              0,
              "#0d0887"
             ],
             [
              0.1111111111111111,
              "#46039f"
             ],
             [
              0.2222222222222222,
              "#7201a8"
             ],
             [
              0.3333333333333333,
              "#9c179e"
             ],
             [
              0.4444444444444444,
              "#bd3786"
             ],
             [
              0.5555555555555556,
              "#d8576b"
             ],
             [
              0.6666666666666666,
              "#ed7953"
             ],
             [
              0.7777777777777778,
              "#fb9f3a"
             ],
             [
              0.8888888888888888,
              "#fdca26"
             ],
             [
              1,
              "#f0f921"
             ]
            ],
            "type": "heatmapgl"
           }
          ],
          "histogram": [
           {
            "marker": {
             "pattern": {
              "fillmode": "overlay",
              "size": 10,
              "solidity": 0.2
             }
            },
            "type": "histogram"
           }
          ],
          "histogram2d": [
           {
            "colorbar": {
             "outlinewidth": 0,
             "ticks": ""
            },
            "colorscale": [
             [
              0,
              "#0d0887"
             ],
             [
              0.1111111111111111,
              "#46039f"
             ],
             [
              0.2222222222222222,
              "#7201a8"
             ],
             [
              0.3333333333333333,
              "#9c179e"
             ],
             [
              0.4444444444444444,
              "#bd3786"
             ],
             [
              0.5555555555555556,
              "#d8576b"
             ],
             [
              0.6666666666666666,
              "#ed7953"
             ],
             [
              0.7777777777777778,
              "#fb9f3a"
             ],
             [
              0.8888888888888888,
              "#fdca26"
             ],
             [
              1,
              "#f0f921"
             ]
            ],
            "type": "histogram2d"
           }
          ],
          "histogram2dcontour": [
           {
            "colorbar": {
             "outlinewidth": 0,
             "ticks": ""
            },
            "colorscale": [
             [
              0,
              "#0d0887"
             ],
             [
              0.1111111111111111,
              "#46039f"
             ],
             [
              0.2222222222222222,
              "#7201a8"
             ],
             [
              0.3333333333333333,
              "#9c179e"
             ],
             [
              0.4444444444444444,
              "#bd3786"
             ],
             [
              0.5555555555555556,
              "#d8576b"
             ],
             [
              0.6666666666666666,
              "#ed7953"
             ],
             [
              0.7777777777777778,
              "#fb9f3a"
             ],
             [
              0.8888888888888888,
              "#fdca26"
             ],
             [
              1,
              "#f0f921"
             ]
            ],
            "type": "histogram2dcontour"
           }
          ],
          "mesh3d": [
           {
            "colorbar": {
             "outlinewidth": 0,
             "ticks": ""
            },
            "type": "mesh3d"
           }
          ],
          "parcoords": [
           {
            "line": {
             "colorbar": {
              "outlinewidth": 0,
              "ticks": ""
             }
            },
            "type": "parcoords"
           }
          ],
          "pie": [
           {
            "automargin": true,
            "type": "pie"
           }
          ],
          "scatter": [
           {
            "fillpattern": {
             "fillmode": "overlay",
             "size": 10,
             "solidity": 0.2
            },
            "type": "scatter"
           }
          ],
          "scatter3d": [
           {
            "line": {
             "colorbar": {
              "outlinewidth": 0,
              "ticks": ""
             }
            },
            "marker": {
             "colorbar": {
              "outlinewidth": 0,
              "ticks": ""
             }
            },
            "type": "scatter3d"
           }
          ],
          "scattercarpet": [
           {
            "marker": {
             "colorbar": {
              "outlinewidth": 0,
              "ticks": ""
             }
            },
            "type": "scattercarpet"
           }
          ],
          "scattergeo": [
           {
            "marker": {
             "colorbar": {
              "outlinewidth": 0,
              "ticks": ""
             }
            },
            "type": "scattergeo"
           }
          ],
          "scattergl": [
           {
            "marker": {
             "colorbar": {
              "outlinewidth": 0,
              "ticks": ""
             }
            },
            "type": "scattergl"
           }
          ],
          "scattermapbox": [
           {
            "marker": {
             "colorbar": {
              "outlinewidth": 0,
              "ticks": ""
             }
            },
            "type": "scattermapbox"
           }
          ],
          "scatterpolar": [
           {
            "marker": {
             "colorbar": {
              "outlinewidth": 0,
              "ticks": ""
             }
            },
            "type": "scatterpolar"
           }
          ],
          "scatterpolargl": [
           {
            "marker": {
             "colorbar": {
              "outlinewidth": 0,
              "ticks": ""
             }
            },
            "type": "scatterpolargl"
           }
          ],
          "scatterternary": [
           {
            "marker": {
             "colorbar": {
              "outlinewidth": 0,
              "ticks": ""
             }
            },
            "type": "scatterternary"
           }
          ],
          "surface": [
           {
            "colorbar": {
             "outlinewidth": 0,
             "ticks": ""
            },
            "colorscale": [
             [
              0,
              "#0d0887"
             ],
             [
              0.1111111111111111,
              "#46039f"
             ],
             [
              0.2222222222222222,
              "#7201a8"
             ],
             [
              0.3333333333333333,
              "#9c179e"
             ],
             [
              0.4444444444444444,
              "#bd3786"
             ],
             [
              0.5555555555555556,
              "#d8576b"
             ],
             [
              0.6666666666666666,
              "#ed7953"
             ],
             [
              0.7777777777777778,
              "#fb9f3a"
             ],
             [
              0.8888888888888888,
              "#fdca26"
             ],
             [
              1,
              "#f0f921"
             ]
            ],
            "type": "surface"
           }
          ],
          "table": [
           {
            "cells": {
             "fill": {
              "color": "#EBF0F8"
             },
             "line": {
              "color": "white"
             }
            },
            "header": {
             "fill": {
              "color": "#C8D4E3"
             },
             "line": {
              "color": "white"
             }
            },
            "type": "table"
           }
          ]
         },
         "layout": {
          "annotationdefaults": {
           "arrowcolor": "#2a3f5f",
           "arrowhead": 0,
           "arrowwidth": 1
          },
          "autotypenumbers": "strict",
          "coloraxis": {
           "colorbar": {
            "outlinewidth": 0,
            "ticks": ""
           }
          },
          "colorscale": {
           "diverging": [
            [
             0,
             "#8e0152"
            ],
            [
             0.1,
             "#c51b7d"
            ],
            [
             0.2,
             "#de77ae"
            ],
            [
             0.3,
             "#f1b6da"
            ],
            [
             0.4,
             "#fde0ef"
            ],
            [
             0.5,
             "#f7f7f7"
            ],
            [
             0.6,
             "#e6f5d0"
            ],
            [
             0.7,
             "#b8e186"
            ],
            [
             0.8,
             "#7fbc41"
            ],
            [
             0.9,
             "#4d9221"
            ],
            [
             1,
             "#276419"
            ]
           ],
           "sequential": [
            [
             0,
             "#0d0887"
            ],
            [
             0.1111111111111111,
             "#46039f"
            ],
            [
             0.2222222222222222,
             "#7201a8"
            ],
            [
             0.3333333333333333,
             "#9c179e"
            ],
            [
             0.4444444444444444,
             "#bd3786"
            ],
            [
             0.5555555555555556,
             "#d8576b"
            ],
            [
             0.6666666666666666,
             "#ed7953"
            ],
            [
             0.7777777777777778,
             "#fb9f3a"
            ],
            [
             0.8888888888888888,
             "#fdca26"
            ],
            [
             1,
             "#f0f921"
            ]
           ],
           "sequentialminus": [
            [
             0,
             "#0d0887"
            ],
            [
             0.1111111111111111,
             "#46039f"
            ],
            [
             0.2222222222222222,
             "#7201a8"
            ],
            [
             0.3333333333333333,
             "#9c179e"
            ],
            [
             0.4444444444444444,
             "#bd3786"
            ],
            [
             0.5555555555555556,
             "#d8576b"
            ],
            [
             0.6666666666666666,
             "#ed7953"
            ],
            [
             0.7777777777777778,
             "#fb9f3a"
            ],
            [
             0.8888888888888888,
             "#fdca26"
            ],
            [
             1,
             "#f0f921"
            ]
           ]
          },
          "colorway": [
           "#636efa",
           "#EF553B",
           "#00cc96",
           "#ab63fa",
           "#FFA15A",
           "#19d3f3",
           "#FF6692",
           "#B6E880",
           "#FF97FF",
           "#FECB52"
          ],
          "font": {
           "color": "#2a3f5f"
          },
          "geo": {
           "bgcolor": "white",
           "lakecolor": "white",
           "landcolor": "#E5ECF6",
           "showlakes": true,
           "showland": true,
           "subunitcolor": "white"
          },
          "hoverlabel": {
           "align": "left"
          },
          "hovermode": "closest",
          "mapbox": {
           "style": "light"
          },
          "paper_bgcolor": "white",
          "plot_bgcolor": "#E5ECF6",
          "polar": {
           "angularaxis": {
            "gridcolor": "white",
            "linecolor": "white",
            "ticks": ""
           },
           "bgcolor": "#E5ECF6",
           "radialaxis": {
            "gridcolor": "white",
            "linecolor": "white",
            "ticks": ""
           }
          },
          "scene": {
           "xaxis": {
            "backgroundcolor": "#E5ECF6",
            "gridcolor": "white",
            "gridwidth": 2,
            "linecolor": "white",
            "showbackground": true,
            "ticks": "",
            "zerolinecolor": "white"
           },
           "yaxis": {
            "backgroundcolor": "#E5ECF6",
            "gridcolor": "white",
            "gridwidth": 2,
            "linecolor": "white",
            "showbackground": true,
            "ticks": "",
            "zerolinecolor": "white"
           },
           "zaxis": {
            "backgroundcolor": "#E5ECF6",
            "gridcolor": "white",
            "gridwidth": 2,
            "linecolor": "white",
            "showbackground": true,
            "ticks": "",
            "zerolinecolor": "white"
           }
          },
          "shapedefaults": {
           "line": {
            "color": "#2a3f5f"
           }
          },
          "ternary": {
           "aaxis": {
            "gridcolor": "white",
            "linecolor": "white",
            "ticks": ""
           },
           "baxis": {
            "gridcolor": "white",
            "linecolor": "white",
            "ticks": ""
           },
           "bgcolor": "#E5ECF6",
           "caxis": {
            "gridcolor": "white",
            "linecolor": "white",
            "ticks": ""
           }
          },
          "title": {
           "x": 0.05
          },
          "xaxis": {
           "automargin": true,
           "gridcolor": "white",
           "linecolor": "white",
           "ticks": "",
           "title": {
            "standoff": 15
           },
           "zerolinecolor": "white",
           "zerolinewidth": 2
          },
          "yaxis": {
           "automargin": true,
           "gridcolor": "white",
           "linecolor": "white",
           "ticks": "",
           "title": {
            "standoff": 15
           },
           "zerolinecolor": "white",
           "zerolinewidth": 2
          }
         }
        },
        "title": {
         "text": "Кол-во зарегистрированных пользователей в компаниях"
        },
        "xaxis": {
         "title": {
          "text": "Кол-во компаний"
         }
        },
        "yaxis": {
         "title": {
          "text": "Кол-во пол-ей"
         }
        }
       }
      }
     },
     "metadata": {},
     "output_type": "display_data"
    }
   ],
   "source": [
    "values = [\n",
    "    clean_df[clean_df[['active_Red', 'has_Green_id', 'has_Black_id', 'has_Blue_id']].sum(axis=1) == 0]['hid'].nunique(),\n",
    "    clean_df[clean_df[['active_Red', 'has_Green_id', 'has_Black_id', 'has_Blue_id']].sum(axis=1) == 1]['hid'].nunique(),\n",
    "    clean_df[clean_df[['active_Red', 'has_Green_id', 'has_Black_id', 'has_Blue_id']].sum(axis=1) == 2]['hid'].nunique(),\n",
    "    clean_df[clean_df[['active_Red', 'has_Green_id', 'has_Black_id', 'has_Blue_id']].sum(axis=1) == 3]['hid'].nunique(),\n",
    "    clean_df[clean_df[['active_Red', 'has_Green_id', 'has_Black_id', 'has_Blue_id']].sum(axis=1) == 4]['hid'].nunique()\n",
    "]\n",
    "bin_names = ['Не зарегистрирован', 'В 1-ой компании', 'В 2-ух компаниях', 'В 3-х компаниях', 'В 4-х компаниях']\n",
    "\n",
    "trace = go.Bar(x=bin_names, y=values, text=values)\n",
    "\n",
    "layout = go.Layout(\n",
    "    title='Кол-во зарегистрированных пользователей в компаниях',\n",
    "    xaxis=dict(title='Кол-во компаний'),\n",
    "    yaxis=dict(title='Кол-во пол-ей')\n",
    ")\n",
    "\n",
    "figure = go.Figure(data=trace, layout=layout)\n",
    "\n",
    "figure.show()"
   ]
  },
  {
   "attachments": {},
   "cell_type": "markdown",
   "metadata": {},
   "source": [
    "Теперь можно посмотреть кол-во пользователей в каждой из компаний. \n",
    "<br> Тут также предполагаем, что пользователь может входить в несколько компаний"
   ]
  },
  {
   "cell_type": "code",
   "execution_count": 19,
   "metadata": {},
   "outputs": [],
   "source": [
    "number_of_users = (clean_df[['hid','active_Red', 'has_Green_id', 'has_Black_id', 'has_Blue_id']]\n",
    " .groupby(['active_Red', 'has_Green_id', 'has_Black_id', 'has_Blue_id']).agg({'hid' : 'nunique'})\n",
    ").reset_index()"
   ]
  },
  {
   "cell_type": "code",
   "execution_count": 20,
   "metadata": {},
   "outputs": [],
   "source": [
    "renamed_columns = {\n",
    "    'active_Red' : 'RC',\n",
    "    'has_Green_id' : 'GC',\n",
    "    'has_Black_id' : 'Black C',\n",
    "    'has_Blue_id' : 'Blue C',\n",
    "    'hid' : 'User ID'\n",
    "}"
   ]
  },
  {
   "cell_type": "code",
   "execution_count": 21,
   "metadata": {},
   "outputs": [],
   "source": [
    "number_of_users.rename(columns=renamed_columns, inplace=True)"
   ]
  },
  {
   "cell_type": "code",
   "execution_count": 22,
   "metadata": {},
   "outputs": [
    {
     "data": {
      "text/html": [
       "<div>\n",
       "<style scoped>\n",
       "    .dataframe tbody tr th:only-of-type {\n",
       "        vertical-align: middle;\n",
       "    }\n",
       "\n",
       "    .dataframe tbody tr th {\n",
       "        vertical-align: top;\n",
       "    }\n",
       "\n",
       "    .dataframe thead th {\n",
       "        text-align: right;\n",
       "    }\n",
       "</style>\n",
       "<table border=\"1\" class=\"dataframe\">\n",
       "  <thead>\n",
       "    <tr style=\"text-align: right;\">\n",
       "      <th></th>\n",
       "      <th>RC</th>\n",
       "      <th>GC</th>\n",
       "      <th>Black C</th>\n",
       "      <th>Blue C</th>\n",
       "      <th>User ID</th>\n",
       "    </tr>\n",
       "  </thead>\n",
       "  <tbody>\n",
       "    <tr>\n",
       "      <th>0</th>\n",
       "      <td>0.0</td>\n",
       "      <td>0.0</td>\n",
       "      <td>0.0</td>\n",
       "      <td>0.0</td>\n",
       "      <td>38354</td>\n",
       "    </tr>\n",
       "    <tr>\n",
       "      <th>1</th>\n",
       "      <td>0.0</td>\n",
       "      <td>0.0</td>\n",
       "      <td>0.0</td>\n",
       "      <td>1.0</td>\n",
       "      <td>4819</td>\n",
       "    </tr>\n",
       "    <tr>\n",
       "      <th>2</th>\n",
       "      <td>0.0</td>\n",
       "      <td>0.0</td>\n",
       "      <td>1.0</td>\n",
       "      <td>0.0</td>\n",
       "      <td>331</td>\n",
       "    </tr>\n",
       "    <tr>\n",
       "      <th>3</th>\n",
       "      <td>0.0</td>\n",
       "      <td>0.0</td>\n",
       "      <td>1.0</td>\n",
       "      <td>1.0</td>\n",
       "      <td>29</td>\n",
       "    </tr>\n",
       "    <tr>\n",
       "      <th>4</th>\n",
       "      <td>0.0</td>\n",
       "      <td>1.0</td>\n",
       "      <td>0.0</td>\n",
       "      <td>0.0</td>\n",
       "      <td>390</td>\n",
       "    </tr>\n",
       "    <tr>\n",
       "      <th>5</th>\n",
       "      <td>0.0</td>\n",
       "      <td>1.0</td>\n",
       "      <td>0.0</td>\n",
       "      <td>1.0</td>\n",
       "      <td>40</td>\n",
       "    </tr>\n",
       "    <tr>\n",
       "      <th>6</th>\n",
       "      <td>0.0</td>\n",
       "      <td>1.0</td>\n",
       "      <td>1.0</td>\n",
       "      <td>0.0</td>\n",
       "      <td>50</td>\n",
       "    </tr>\n",
       "    <tr>\n",
       "      <th>7</th>\n",
       "      <td>0.0</td>\n",
       "      <td>1.0</td>\n",
       "      <td>1.0</td>\n",
       "      <td>1.0</td>\n",
       "      <td>3</td>\n",
       "    </tr>\n",
       "    <tr>\n",
       "      <th>8</th>\n",
       "      <td>1.0</td>\n",
       "      <td>0.0</td>\n",
       "      <td>0.0</td>\n",
       "      <td>0.0</td>\n",
       "      <td>46951</td>\n",
       "    </tr>\n",
       "    <tr>\n",
       "      <th>9</th>\n",
       "      <td>1.0</td>\n",
       "      <td>0.0</td>\n",
       "      <td>0.0</td>\n",
       "      <td>1.0</td>\n",
       "      <td>7528</td>\n",
       "    </tr>\n",
       "    <tr>\n",
       "      <th>10</th>\n",
       "      <td>1.0</td>\n",
       "      <td>0.0</td>\n",
       "      <td>1.0</td>\n",
       "      <td>0.0</td>\n",
       "      <td>374</td>\n",
       "    </tr>\n",
       "    <tr>\n",
       "      <th>11</th>\n",
       "      <td>1.0</td>\n",
       "      <td>0.0</td>\n",
       "      <td>1.0</td>\n",
       "      <td>1.0</td>\n",
       "      <td>215</td>\n",
       "    </tr>\n",
       "    <tr>\n",
       "      <th>12</th>\n",
       "      <td>1.0</td>\n",
       "      <td>1.0</td>\n",
       "      <td>0.0</td>\n",
       "      <td>0.0</td>\n",
       "      <td>234</td>\n",
       "    </tr>\n",
       "    <tr>\n",
       "      <th>13</th>\n",
       "      <td>1.0</td>\n",
       "      <td>1.0</td>\n",
       "      <td>0.0</td>\n",
       "      <td>1.0</td>\n",
       "      <td>94</td>\n",
       "    </tr>\n",
       "    <tr>\n",
       "      <th>14</th>\n",
       "      <td>1.0</td>\n",
       "      <td>1.0</td>\n",
       "      <td>1.0</td>\n",
       "      <td>0.0</td>\n",
       "      <td>45</td>\n",
       "    </tr>\n",
       "    <tr>\n",
       "      <th>15</th>\n",
       "      <td>1.0</td>\n",
       "      <td>1.0</td>\n",
       "      <td>1.0</td>\n",
       "      <td>1.0</td>\n",
       "      <td>18</td>\n",
       "    </tr>\n",
       "  </tbody>\n",
       "</table>\n",
       "</div>"
      ],
      "text/plain": [
       "     RC   GC  Black C  Blue C  User ID\n",
       "0   0.0  0.0      0.0     0.0    38354\n",
       "1   0.0  0.0      0.0     1.0     4819\n",
       "2   0.0  0.0      1.0     0.0      331\n",
       "3   0.0  0.0      1.0     1.0       29\n",
       "4   0.0  1.0      0.0     0.0      390\n",
       "5   0.0  1.0      0.0     1.0       40\n",
       "6   0.0  1.0      1.0     0.0       50\n",
       "7   0.0  1.0      1.0     1.0        3\n",
       "8   1.0  0.0      0.0     0.0    46951\n",
       "9   1.0  0.0      0.0     1.0     7528\n",
       "10  1.0  0.0      1.0     0.0      374\n",
       "11  1.0  0.0      1.0     1.0      215\n",
       "12  1.0  1.0      0.0     0.0      234\n",
       "13  1.0  1.0      0.0     1.0       94\n",
       "14  1.0  1.0      1.0     0.0       45\n",
       "15  1.0  1.0      1.0     1.0       18"
      ]
     },
     "execution_count": 22,
     "metadata": {},
     "output_type": "execute_result"
    }
   ],
   "source": [
    "number_of_users"
   ]
  },
  {
   "cell_type": "code",
   "execution_count": 23,
   "metadata": {},
   "outputs": [],
   "source": [
    "number_of_users['Company'] = (\n",
    "    number_of_users.apply(lambda row: ', '.join([col for col in number_of_users.columns if row[col] == 1]), axis=1)\n",
    ")"
   ]
  },
  {
   "cell_type": "code",
   "execution_count": 24,
   "metadata": {},
   "outputs": [
    {
     "name": "stderr",
     "output_type": "stream",
     "text": [
      "C:\\Users\\60112813\\AppData\\Local\\Temp\\ipykernel_22120\\4278020537.py:1: SettingWithCopyWarning:\n",
      "\n",
      "\n",
      "A value is trying to be set on a copy of a slice from a DataFrame\n",
      "\n",
      "See the caveats in the documentation: https://pandas.pydata.org/pandas-docs/stable/user_guide/indexing.html#returning-a-view-versus-a-copy\n",
      "\n"
     ]
    }
   ],
   "source": [
    "number_of_users['Company'][0] = 'No Company'"
   ]
  },
  {
   "cell_type": "code",
   "execution_count": 25,
   "metadata": {},
   "outputs": [
    {
     "data": {
      "application/vnd.plotly.v1+json": {
       "config": {
        "plotlyServerURL": "https://plot.ly"
       },
       "data": [
        {
         "type": "bar",
         "x": [
          "No Company",
          "Blue C",
          "Black C",
          "Black C, Blue C",
          "GC",
          "GC, Blue C",
          "GC, Black C",
          "GC, Black C, Blue C",
          "RC",
          "RC, Blue C",
          "RC, Black C",
          "RC, Black C, Blue C",
          "RC, GC",
          "RC, GC, Blue C",
          "RC, GC, Black C",
          "RC, GC, Black C, Blue C"
         ],
         "y": [
          38354,
          4819,
          331,
          29,
          390,
          40,
          50,
          3,
          46951,
          7528,
          374,
          215,
          234,
          94,
          45,
          18
         ]
        }
       ],
       "layout": {
        "template": {
         "data": {
          "bar": [
           {
            "error_x": {
             "color": "#2a3f5f"
            },
            "error_y": {
             "color": "#2a3f5f"
            },
            "marker": {
             "line": {
              "color": "#E5ECF6",
              "width": 0.5
             },
             "pattern": {
              "fillmode": "overlay",
              "size": 10,
              "solidity": 0.2
             }
            },
            "type": "bar"
           }
          ],
          "barpolar": [
           {
            "marker": {
             "line": {
              "color": "#E5ECF6",
              "width": 0.5
             },
             "pattern": {
              "fillmode": "overlay",
              "size": 10,
              "solidity": 0.2
             }
            },
            "type": "barpolar"
           }
          ],
          "carpet": [
           {
            "aaxis": {
             "endlinecolor": "#2a3f5f",
             "gridcolor": "white",
             "linecolor": "white",
             "minorgridcolor": "white",
             "startlinecolor": "#2a3f5f"
            },
            "baxis": {
             "endlinecolor": "#2a3f5f",
             "gridcolor": "white",
             "linecolor": "white",
             "minorgridcolor": "white",
             "startlinecolor": "#2a3f5f"
            },
            "type": "carpet"
           }
          ],
          "choropleth": [
           {
            "colorbar": {
             "outlinewidth": 0,
             "ticks": ""
            },
            "type": "choropleth"
           }
          ],
          "contour": [
           {
            "colorbar": {
             "outlinewidth": 0,
             "ticks": ""
            },
            "colorscale": [
             [
              0,
              "#0d0887"
             ],
             [
              0.1111111111111111,
              "#46039f"
             ],
             [
              0.2222222222222222,
              "#7201a8"
             ],
             [
              0.3333333333333333,
              "#9c179e"
             ],
             [
              0.4444444444444444,
              "#bd3786"
             ],
             [
              0.5555555555555556,
              "#d8576b"
             ],
             [
              0.6666666666666666,
              "#ed7953"
             ],
             [
              0.7777777777777778,
              "#fb9f3a"
             ],
             [
              0.8888888888888888,
              "#fdca26"
             ],
             [
              1,
              "#f0f921"
             ]
            ],
            "type": "contour"
           }
          ],
          "contourcarpet": [
           {
            "colorbar": {
             "outlinewidth": 0,
             "ticks": ""
            },
            "type": "contourcarpet"
           }
          ],
          "heatmap": [
           {
            "colorbar": {
             "outlinewidth": 0,
             "ticks": ""
            },
            "colorscale": [
             [
              0,
              "#0d0887"
             ],
             [
              0.1111111111111111,
              "#46039f"
             ],
             [
              0.2222222222222222,
              "#7201a8"
             ],
             [
              0.3333333333333333,
              "#9c179e"
             ],
             [
              0.4444444444444444,
              "#bd3786"
             ],
             [
              0.5555555555555556,
              "#d8576b"
             ],
             [
              0.6666666666666666,
              "#ed7953"
             ],
             [
              0.7777777777777778,
              "#fb9f3a"
             ],
             [
              0.8888888888888888,
              "#fdca26"
             ],
             [
              1,
              "#f0f921"
             ]
            ],
            "type": "heatmap"
           }
          ],
          "heatmapgl": [
           {
            "colorbar": {
             "outlinewidth": 0,
             "ticks": ""
            },
            "colorscale": [
             [
              0,
              "#0d0887"
             ],
             [
              0.1111111111111111,
              "#46039f"
             ],
             [
              0.2222222222222222,
              "#7201a8"
             ],
             [
              0.3333333333333333,
              "#9c179e"
             ],
             [
              0.4444444444444444,
              "#bd3786"
             ],
             [
              0.5555555555555556,
              "#d8576b"
             ],
             [
              0.6666666666666666,
              "#ed7953"
             ],
             [
              0.7777777777777778,
              "#fb9f3a"
             ],
             [
              0.8888888888888888,
              "#fdca26"
             ],
             [
              1,
              "#f0f921"
             ]
            ],
            "type": "heatmapgl"
           }
          ],
          "histogram": [
           {
            "marker": {
             "pattern": {
              "fillmode": "overlay",
              "size": 10,
              "solidity": 0.2
             }
            },
            "type": "histogram"
           }
          ],
          "histogram2d": [
           {
            "colorbar": {
             "outlinewidth": 0,
             "ticks": ""
            },
            "colorscale": [
             [
              0,
              "#0d0887"
             ],
             [
              0.1111111111111111,
              "#46039f"
             ],
             [
              0.2222222222222222,
              "#7201a8"
             ],
             [
              0.3333333333333333,
              "#9c179e"
             ],
             [
              0.4444444444444444,
              "#bd3786"
             ],
             [
              0.5555555555555556,
              "#d8576b"
             ],
             [
              0.6666666666666666,
              "#ed7953"
             ],
             [
              0.7777777777777778,
              "#fb9f3a"
             ],
             [
              0.8888888888888888,
              "#fdca26"
             ],
             [
              1,
              "#f0f921"
             ]
            ],
            "type": "histogram2d"
           }
          ],
          "histogram2dcontour": [
           {
            "colorbar": {
             "outlinewidth": 0,
             "ticks": ""
            },
            "colorscale": [
             [
              0,
              "#0d0887"
             ],
             [
              0.1111111111111111,
              "#46039f"
             ],
             [
              0.2222222222222222,
              "#7201a8"
             ],
             [
              0.3333333333333333,
              "#9c179e"
             ],
             [
              0.4444444444444444,
              "#bd3786"
             ],
             [
              0.5555555555555556,
              "#d8576b"
             ],
             [
              0.6666666666666666,
              "#ed7953"
             ],
             [
              0.7777777777777778,
              "#fb9f3a"
             ],
             [
              0.8888888888888888,
              "#fdca26"
             ],
             [
              1,
              "#f0f921"
             ]
            ],
            "type": "histogram2dcontour"
           }
          ],
          "mesh3d": [
           {
            "colorbar": {
             "outlinewidth": 0,
             "ticks": ""
            },
            "type": "mesh3d"
           }
          ],
          "parcoords": [
           {
            "line": {
             "colorbar": {
              "outlinewidth": 0,
              "ticks": ""
             }
            },
            "type": "parcoords"
           }
          ],
          "pie": [
           {
            "automargin": true,
            "type": "pie"
           }
          ],
          "scatter": [
           {
            "fillpattern": {
             "fillmode": "overlay",
             "size": 10,
             "solidity": 0.2
            },
            "type": "scatter"
           }
          ],
          "scatter3d": [
           {
            "line": {
             "colorbar": {
              "outlinewidth": 0,
              "ticks": ""
             }
            },
            "marker": {
             "colorbar": {
              "outlinewidth": 0,
              "ticks": ""
             }
            },
            "type": "scatter3d"
           }
          ],
          "scattercarpet": [
           {
            "marker": {
             "colorbar": {
              "outlinewidth": 0,
              "ticks": ""
             }
            },
            "type": "scattercarpet"
           }
          ],
          "scattergeo": [
           {
            "marker": {
             "colorbar": {
              "outlinewidth": 0,
              "ticks": ""
             }
            },
            "type": "scattergeo"
           }
          ],
          "scattergl": [
           {
            "marker": {
             "colorbar": {
              "outlinewidth": 0,
              "ticks": ""
             }
            },
            "type": "scattergl"
           }
          ],
          "scattermapbox": [
           {
            "marker": {
             "colorbar": {
              "outlinewidth": 0,
              "ticks": ""
             }
            },
            "type": "scattermapbox"
           }
          ],
          "scatterpolar": [
           {
            "marker": {
             "colorbar": {
              "outlinewidth": 0,
              "ticks": ""
             }
            },
            "type": "scatterpolar"
           }
          ],
          "scatterpolargl": [
           {
            "marker": {
             "colorbar": {
              "outlinewidth": 0,
              "ticks": ""
             }
            },
            "type": "scatterpolargl"
           }
          ],
          "scatterternary": [
           {
            "marker": {
             "colorbar": {
              "outlinewidth": 0,
              "ticks": ""
             }
            },
            "type": "scatterternary"
           }
          ],
          "surface": [
           {
            "colorbar": {
             "outlinewidth": 0,
             "ticks": ""
            },
            "colorscale": [
             [
              0,
              "#0d0887"
             ],
             [
              0.1111111111111111,
              "#46039f"
             ],
             [
              0.2222222222222222,
              "#7201a8"
             ],
             [
              0.3333333333333333,
              "#9c179e"
             ],
             [
              0.4444444444444444,
              "#bd3786"
             ],
             [
              0.5555555555555556,
              "#d8576b"
             ],
             [
              0.6666666666666666,
              "#ed7953"
             ],
             [
              0.7777777777777778,
              "#fb9f3a"
             ],
             [
              0.8888888888888888,
              "#fdca26"
             ],
             [
              1,
              "#f0f921"
             ]
            ],
            "type": "surface"
           }
          ],
          "table": [
           {
            "cells": {
             "fill": {
              "color": "#EBF0F8"
             },
             "line": {
              "color": "white"
             }
            },
            "header": {
             "fill": {
              "color": "#C8D4E3"
             },
             "line": {
              "color": "white"
             }
            },
            "type": "table"
           }
          ]
         },
         "layout": {
          "annotationdefaults": {
           "arrowcolor": "#2a3f5f",
           "arrowhead": 0,
           "arrowwidth": 1
          },
          "autotypenumbers": "strict",
          "coloraxis": {
           "colorbar": {
            "outlinewidth": 0,
            "ticks": ""
           }
          },
          "colorscale": {
           "diverging": [
            [
             0,
             "#8e0152"
            ],
            [
             0.1,
             "#c51b7d"
            ],
            [
             0.2,
             "#de77ae"
            ],
            [
             0.3,
             "#f1b6da"
            ],
            [
             0.4,
             "#fde0ef"
            ],
            [
             0.5,
             "#f7f7f7"
            ],
            [
             0.6,
             "#e6f5d0"
            ],
            [
             0.7,
             "#b8e186"
            ],
            [
             0.8,
             "#7fbc41"
            ],
            [
             0.9,
             "#4d9221"
            ],
            [
             1,
             "#276419"
            ]
           ],
           "sequential": [
            [
             0,
             "#0d0887"
            ],
            [
             0.1111111111111111,
             "#46039f"
            ],
            [
             0.2222222222222222,
             "#7201a8"
            ],
            [
             0.3333333333333333,
             "#9c179e"
            ],
            [
             0.4444444444444444,
             "#bd3786"
            ],
            [
             0.5555555555555556,
             "#d8576b"
            ],
            [
             0.6666666666666666,
             "#ed7953"
            ],
            [
             0.7777777777777778,
             "#fb9f3a"
            ],
            [
             0.8888888888888888,
             "#fdca26"
            ],
            [
             1,
             "#f0f921"
            ]
           ],
           "sequentialminus": [
            [
             0,
             "#0d0887"
            ],
            [
             0.1111111111111111,
             "#46039f"
            ],
            [
             0.2222222222222222,
             "#7201a8"
            ],
            [
             0.3333333333333333,
             "#9c179e"
            ],
            [
             0.4444444444444444,
             "#bd3786"
            ],
            [
             0.5555555555555556,
             "#d8576b"
            ],
            [
             0.6666666666666666,
             "#ed7953"
            ],
            [
             0.7777777777777778,
             "#fb9f3a"
            ],
            [
             0.8888888888888888,
             "#fdca26"
            ],
            [
             1,
             "#f0f921"
            ]
           ]
          },
          "colorway": [
           "#636efa",
           "#EF553B",
           "#00cc96",
           "#ab63fa",
           "#FFA15A",
           "#19d3f3",
           "#FF6692",
           "#B6E880",
           "#FF97FF",
           "#FECB52"
          ],
          "font": {
           "color": "#2a3f5f"
          },
          "geo": {
           "bgcolor": "white",
           "lakecolor": "white",
           "landcolor": "#E5ECF6",
           "showlakes": true,
           "showland": true,
           "subunitcolor": "white"
          },
          "hoverlabel": {
           "align": "left"
          },
          "hovermode": "closest",
          "mapbox": {
           "style": "light"
          },
          "paper_bgcolor": "white",
          "plot_bgcolor": "#E5ECF6",
          "polar": {
           "angularaxis": {
            "gridcolor": "white",
            "linecolor": "white",
            "ticks": ""
           },
           "bgcolor": "#E5ECF6",
           "radialaxis": {
            "gridcolor": "white",
            "linecolor": "white",
            "ticks": ""
           }
          },
          "scene": {
           "xaxis": {
            "backgroundcolor": "#E5ECF6",
            "gridcolor": "white",
            "gridwidth": 2,
            "linecolor": "white",
            "showbackground": true,
            "ticks": "",
            "zerolinecolor": "white"
           },
           "yaxis": {
            "backgroundcolor": "#E5ECF6",
            "gridcolor": "white",
            "gridwidth": 2,
            "linecolor": "white",
            "showbackground": true,
            "ticks": "",
            "zerolinecolor": "white"
           },
           "zaxis": {
            "backgroundcolor": "#E5ECF6",
            "gridcolor": "white",
            "gridwidth": 2,
            "linecolor": "white",
            "showbackground": true,
            "ticks": "",
            "zerolinecolor": "white"
           }
          },
          "shapedefaults": {
           "line": {
            "color": "#2a3f5f"
           }
          },
          "ternary": {
           "aaxis": {
            "gridcolor": "white",
            "linecolor": "white",
            "ticks": ""
           },
           "baxis": {
            "gridcolor": "white",
            "linecolor": "white",
            "ticks": ""
           },
           "bgcolor": "#E5ECF6",
           "caxis": {
            "gridcolor": "white",
            "linecolor": "white",
            "ticks": ""
           }
          },
          "title": {
           "x": 0.05
          },
          "xaxis": {
           "automargin": true,
           "gridcolor": "white",
           "linecolor": "white",
           "ticks": "",
           "title": {
            "standoff": 15
           },
           "zerolinecolor": "white",
           "zerolinewidth": 2
          },
          "yaxis": {
           "automargin": true,
           "gridcolor": "white",
           "linecolor": "white",
           "ticks": "",
           "title": {
            "standoff": 15
           },
           "zerolinecolor": "white",
           "zerolinewidth": 2
          }
         }
        },
        "title": {
         "text": "Кол-во зарегистрированных пользователей в компаниях"
        },
        "xaxis": {
         "title": {
          "text": "Принадлежность к компании"
         }
        },
        "yaxis": {
         "title": {
          "text": "Кол-во пол-ей"
         }
        }
       }
      }
     },
     "metadata": {},
     "output_type": "display_data"
    }
   ],
   "source": [
    "trace = go.Bar(x=number_of_users['Company'], y=number_of_users['User ID'])\n",
    "\n",
    "layout = go.Layout(\n",
    "    title='Кол-во зарегистрированных пользователей в компаниях',\n",
    "    xaxis=dict(title='Принадлежность к компании'),\n",
    "    yaxis=dict(title='Кол-во пол-ей')\n",
    ")\n",
    "\n",
    "figure = go.Figure(data=[trace], layout=layout)\n",
    "\n",
    "figure.show()"
   ]
  },
  {
   "attachments": {},
   "cell_type": "markdown",
   "metadata": {},
   "source": [
    "В целом, что по сводной таблички, что по графику видно, что абсолютные лидеры по кол-ву пользователей это пользователи незарегистрированные нигде и пользователи из Red company.\n",
    "<br> Далее идут пользователи, которые одновременно принадлежат и к Red company, и к Blue company, и пользователи, которые имееют аккаунт только в Blue company. (Для удобства отображение \"Company\" Было сокращено до \"C\")\n",
    "<br> К сожалению, кол-во уникальных пользователей в каждой из компании не представляется возможным найти, так как нет даты регистрации в каждой из компаний, поэтому непонятно, в каком из сервисов пользователь зарегистрировался первее всего"
   ]
  },
  {
   "attachments": {},
   "cell_type": "markdown",
   "metadata": {},
   "source": [
    "### Распределение кол-ва успешных заказов в сервисе"
   ]
  },
  {
   "attachments": {},
   "cell_type": "markdown",
   "metadata": {},
   "source": [
    "К сожалению, датасет неполный и можно оценить кол-во успешных заказов и их доли только у компаний Green и Black\n",
    "<br> Для большей точности я оставляю только тех пользователей, которые зарегистрированы хотя бы в одном из этих сервисов"
   ]
  },
  {
   "cell_type": "code",
   "execution_count": 26,
   "metadata": {},
   "outputs": [],
   "source": [
    "orders_df = clean_df[['hid', 'Green_gvm_order_count', 'Black_gvm_order_count', 'has_Green_id', 'has_Black_id']]"
   ]
  },
  {
   "cell_type": "code",
   "execution_count": 27,
   "metadata": {},
   "outputs": [],
   "source": [
    "orders_df = orders_df[(orders_df['Green_gvm_order_count'] + orders_df['Black_gvm_order_count'] > 0)]"
   ]
  },
  {
   "cell_type": "code",
   "execution_count": 28,
   "metadata": {},
   "outputs": [
    {
     "data": {
      "text/plain": [
       "count    874.000000\n",
       "mean       8.756293\n",
       "std       15.872743\n",
       "min        1.000000\n",
       "25%        1.000000\n",
       "50%        4.000000\n",
       "75%        9.000000\n",
       "max      168.000000\n",
       "Name: Green_gvm_order_count, dtype: float64"
      ]
     },
     "execution_count": 28,
     "metadata": {},
     "output_type": "execute_result"
    }
   ],
   "source": [
    "orders_df[orders_df['has_Green_id'] > 0]['Green_gvm_order_count'].describe()"
   ]
  },
  {
   "cell_type": "code",
   "execution_count": 29,
   "metadata": {},
   "outputs": [
    {
     "data": {
      "text/plain": [
       "count    1065.000000\n",
       "mean        4.051643\n",
       "std         5.971751\n",
       "min         1.000000\n",
       "25%         1.000000\n",
       "50%         2.000000\n",
       "75%         4.000000\n",
       "max        60.000000\n",
       "Name: Black_gvm_order_count, dtype: float64"
      ]
     },
     "execution_count": 29,
     "metadata": {},
     "output_type": "execute_result"
    }
   ],
   "source": [
    "orders_df[orders_df['has_Black_id'] > 0]['Black_gvm_order_count'].describe()"
   ]
  },
  {
   "attachments": {},
   "cell_type": "markdown",
   "metadata": {},
   "source": [
    "Всего успешных заказов у компании Green 7 653, максимальный заказ - 168 абстрактных штук, а у компании Black 4 315, 60 абстрактных штук\n",
    "<br> Так как минимальное кол-во заказов в обоих компаниях равно одному, можно сказать, что в обоих компаниях каждый зарегистрированный пользователь заказывал хотя бы один раз, так что на долю успешных заказов в принципе в рамках компании смотреть бесполезно, она равно 100 %"
   ]
  },
  {
   "attachments": {},
   "cell_type": "markdown",
   "metadata": {},
   "source": [
    "### Распределение активных действий пол-тя в сервисе"
   ]
  },
  {
   "attachments": {},
   "cell_type": "markdown",
   "metadata": {},
   "source": [
    "К сожалению, опять же из-за неполноты датасеты, количество активных действий есть только у одной компании - Blue"
   ]
  },
  {
   "cell_type": "code",
   "execution_count": 30,
   "metadata": {},
   "outputs": [],
   "source": [
    "activity_counts = clean_df[['hid', 'Blue_activity_count', 'has_Blue_id']]"
   ]
  },
  {
   "cell_type": "code",
   "execution_count": 31,
   "metadata": {},
   "outputs": [],
   "source": [
    "activity_counts = activity_counts[activity_counts['has_Blue_id'] == 1]"
   ]
  },
  {
   "cell_type": "code",
   "execution_count": 32,
   "metadata": {},
   "outputs": [
    {
     "data": {
      "text/plain": [
       "count    12746.000000\n",
       "mean         1.493802\n",
       "std          5.484670\n",
       "min          0.000000\n",
       "25%          0.000000\n",
       "50%          0.000000\n",
       "75%          1.000000\n",
       "max        237.000000\n",
       "Name: Blue_activity_count, dtype: float64"
      ]
     },
     "execution_count": 32,
     "metadata": {},
     "output_type": "execute_result"
    }
   ],
   "source": [
    "activity_counts['Blue_activity_count'].describe()"
   ]
  },
  {
   "attachments": {},
   "cell_type": "markdown",
   "metadata": {},
   "source": [
    "Видим, что максимальное кол-во активных действий у пользователя 237, а минимальное 0. Тут долю активных/неактивных пол-ей посмотреть можно\n",
    "<br> <b>P.S.</b> Также брал только тех пользователей, которые зареганы в Blue"
   ]
  },
  {
   "cell_type": "code",
   "execution_count": 33,
   "metadata": {},
   "outputs": [
    {
     "data": {
      "text/plain": [
       "27.875411893927506"
      ]
     },
     "execution_count": 33,
     "metadata": {},
     "output_type": "execute_result"
    }
   ],
   "source": [
    "(activity_counts[activity_counts['Blue_activity_count'] > 0]['hid'].nunique() / activity_counts['hid'].nunique()) * 100"
   ]
  },
  {
   "attachments": {},
   "cell_type": "markdown",
   "metadata": {},
   "source": [
    "Процентная доля активных пользователей составляет почти 28 % от общего кол-ва пользователей, зарегистрированных в сервисе\n",
    "<br> Как будто сервис не очень популярный, если только около трети пользователей как-то в нем активничают"
   ]
  },
  {
   "attachments": {},
   "cell_type": "markdown",
   "metadata": {},
   "source": [
    "### Распределение GVM"
   ]
  },
  {
   "attachments": {},
   "cell_type": "markdown",
   "metadata": {},
   "source": [
    "Опять же, тут я оцениваю компании, если пользователь в ней зарегистрирован"
   ]
  },
  {
   "cell_type": "code",
   "execution_count": 34,
   "metadata": {},
   "outputs": [],
   "source": [
    "gvm_total = (clean_df[[\n",
    "    'hid', 'Blue_gmv_total', \n",
    "    'Green_gvm_total', 'Black_gvm_total', \n",
    "    'Blue_activity_count', 'Green_gvm_order_count', \n",
    "    'Black_gvm_order_count', 'has_Blue_id',\n",
    "    'has_Black_id', 'has_Green_id'\n",
    "    ]]\n",
    ")"
   ]
  },
  {
   "cell_type": "code",
   "execution_count": 35,
   "metadata": {},
   "outputs": [],
   "source": [
    "gvm_total_blue = gvm_total[gvm_total['has_Blue_id'] == 1]"
   ]
  },
  {
   "cell_type": "code",
   "execution_count": 36,
   "metadata": {},
   "outputs": [
    {
     "data": {
      "text/plain": [
       "hid                      00003c7fa5e57ce672f1801f2679f5c40001aede5ec5c9...\n",
       "Blue_gmv_total                                                    233704.0\n",
       "Green_gvm_total                                                   874218.0\n",
       "Black_gvm_total                                                  1990816.0\n",
       "Blue_activity_count                                                19040.0\n",
       "Green_gvm_order_count                                               1159.0\n",
       "Black_gvm_order_count                                                989.0\n",
       "has_Blue_id                                                        12746.0\n",
       "has_Black_id                                                         265.0\n",
       "has_Green_id                                                         155.0\n",
       "dtype: object"
      ]
     },
     "execution_count": 36,
     "metadata": {},
     "output_type": "execute_result"
    }
   ],
   "source": [
    "gvm_total_blue.sum()"
   ]
  },
  {
   "attachments": {},
   "cell_type": "markdown",
   "metadata": {},
   "source": [
    "Пользователи, зарегистрированные в компании Blue приносят тотальный GVM 233 704\n",
    "<br> Однако, также они могут быть зарегистрированы в компаниях Black или Green или (возможно) в обоих.\n",
    "<br> Компании Green они приносят 874 218 GVM, а компании Black больше всего - 1 990 816 GVM"
   ]
  },
  {
   "cell_type": "code",
   "execution_count": 37,
   "metadata": {},
   "outputs": [],
   "source": [
    "gvm_total_green = gvm_total[gvm_total['has_Green_id'] == 1]"
   ]
  },
  {
   "cell_type": "code",
   "execution_count": 38,
   "metadata": {},
   "outputs": [
    {
     "data": {
      "text/plain": [
       "hid                      00096dc15d53c959cbff731eba795dfb00272111ca0bf4...\n",
       "Blue_gmv_total                                                     15536.0\n",
       "Green_gvm_total                                                  5935926.0\n",
       "Black_gvm_total                                                  1556360.0\n",
       "Blue_activity_count                                                  371.0\n",
       "Green_gvm_order_count                                               7653.0\n",
       "Black_gvm_order_count                                                698.0\n",
       "has_Blue_id                                                          155.0\n",
       "has_Black_id                                                         116.0\n",
       "has_Green_id                                                         874.0\n",
       "dtype: object"
      ]
     },
     "execution_count": 38,
     "metadata": {},
     "output_type": "execute_result"
    }
   ],
   "source": [
    "gvm_total_green.sum()"
   ]
  },
  {
   "attachments": {},
   "cell_type": "markdown",
   "metadata": {},
   "source": [
    "Пользователи зарегистрированные в компании Green приносят ей 5 935 926 GVM,\n",
    "<br> Однако, они также могут быть зарегистрированы в двух других компаниях и приносят Blue 15 536 GVM и Black 1 556 360 GVM"
   ]
  },
  {
   "cell_type": "code",
   "execution_count": 39,
   "metadata": {},
   "outputs": [],
   "source": [
    "gvm_total_black = gvm_total[gvm_total['has_Black_id'] == 1]"
   ]
  },
  {
   "cell_type": "code",
   "execution_count": 40,
   "metadata": {},
   "outputs": [
    {
     "data": {
      "text/plain": [
       "hid                      001c3f004c05017d60fa91f00cdbcdda003017284d22a5...\n",
       "Blue_gmv_total                                                      6350.0\n",
       "Green_gvm_total                                                  1187054.0\n",
       "Black_gvm_total                                                  9354698.0\n",
       "Blue_activity_count                                                  689.0\n",
       "Green_gvm_order_count                                               1417.0\n",
       "Black_gvm_order_count                                               4315.0\n",
       "has_Blue_id                                                          265.0\n",
       "has_Black_id                                                        1065.0\n",
       "has_Green_id                                                         116.0\n",
       "dtype: object"
      ]
     },
     "execution_count": 40,
     "metadata": {},
     "output_type": "execute_result"
    }
   ],
   "source": [
    "gvm_total_black.sum()"
   ]
  },
  {
   "attachments": {},
   "cell_type": "markdown",
   "metadata": {},
   "source": [
    "Пользователи, зарегистрированные в компании Black приносят ей 9 354 698 GVM,\n",
    "Однако, ситуация такая же как и выше, поэтому Blue они также приносят 6 350 GVM, а Green 1 187 054 GVM"
   ]
  },
  {
   "attachments": {},
   "cell_type": "markdown",
   "metadata": {},
   "source": [
    "Для наглядности ниже построил график Кол-во пользователей - GVM Компании"
   ]
  },
  {
   "cell_type": "code",
   "execution_count": 41,
   "metadata": {},
   "outputs": [
    {
     "data": {
      "text/plain": [
       "12746"
      ]
     },
     "execution_count": 41,
     "metadata": {},
     "output_type": "execute_result"
    }
   ],
   "source": [
    "gvm_total[gvm_total['has_Blue_id'] == 1]['hid'].nunique()"
   ]
  },
  {
   "cell_type": "code",
   "execution_count": 42,
   "metadata": {},
   "outputs": [],
   "source": [
    "data = [\n",
    "        ['Blue', gvm_total[gvm_total['has_Blue_id'] == 1]['hid'].nunique(), gvm_total[gvm_total['has_Blue_id'] == 1]['Blue_gmv_total'].sum()],\n",
    "        ['Green', gvm_total[gvm_total['has_Green_id'] == 1]['hid'].nunique(), gvm_total[gvm_total['has_Green_id'] == 1]['Green_gvm_total'].sum()],\n",
    "        ['Black', gvm_total[gvm_total['has_Black_id'] == 1]['hid'].nunique(), gvm_total[gvm_total['has_Black_id'] == 1]['Black_gvm_total'].sum()]\n",
    "]"
   ]
  },
  {
   "cell_type": "code",
   "execution_count": 43,
   "metadata": {},
   "outputs": [],
   "source": [
    "rev_users = pd.DataFrame(data, columns=['Company name', 'Number of Users', 'GVM total'])"
   ]
  },
  {
   "cell_type": "code",
   "execution_count": 44,
   "metadata": {},
   "outputs": [
    {
     "data": {
      "application/vnd.plotly.v1+json": {
       "config": {
        "plotlyServerURL": "https://plot.ly"
       },
       "data": [
        {
         "name": "Number of Users",
         "type": "bar",
         "x": [
          "Blue",
          "Green",
          "Black"
         ],
         "xaxis": "x",
         "y": [
          12746,
          874,
          1065
         ],
         "yaxis": "y"
        },
        {
         "mode": "markers",
         "name": "GVM total",
         "type": "scatter",
         "x": [
          "Blue",
          "Green",
          "Black"
         ],
         "xaxis": "x",
         "y": [
          233704,
          5935926,
          9354698
         ],
         "yaxis": "y2"
        }
       ],
       "layout": {
        "template": {
         "data": {
          "bar": [
           {
            "error_x": {
             "color": "#2a3f5f"
            },
            "error_y": {
             "color": "#2a3f5f"
            },
            "marker": {
             "line": {
              "color": "#E5ECF6",
              "width": 0.5
             },
             "pattern": {
              "fillmode": "overlay",
              "size": 10,
              "solidity": 0.2
             }
            },
            "type": "bar"
           }
          ],
          "barpolar": [
           {
            "marker": {
             "line": {
              "color": "#E5ECF6",
              "width": 0.5
             },
             "pattern": {
              "fillmode": "overlay",
              "size": 10,
              "solidity": 0.2
             }
            },
            "type": "barpolar"
           }
          ],
          "carpet": [
           {
            "aaxis": {
             "endlinecolor": "#2a3f5f",
             "gridcolor": "white",
             "linecolor": "white",
             "minorgridcolor": "white",
             "startlinecolor": "#2a3f5f"
            },
            "baxis": {
             "endlinecolor": "#2a3f5f",
             "gridcolor": "white",
             "linecolor": "white",
             "minorgridcolor": "white",
             "startlinecolor": "#2a3f5f"
            },
            "type": "carpet"
           }
          ],
          "choropleth": [
           {
            "colorbar": {
             "outlinewidth": 0,
             "ticks": ""
            },
            "type": "choropleth"
           }
          ],
          "contour": [
           {
            "colorbar": {
             "outlinewidth": 0,
             "ticks": ""
            },
            "colorscale": [
             [
              0,
              "#0d0887"
             ],
             [
              0.1111111111111111,
              "#46039f"
             ],
             [
              0.2222222222222222,
              "#7201a8"
             ],
             [
              0.3333333333333333,
              "#9c179e"
             ],
             [
              0.4444444444444444,
              "#bd3786"
             ],
             [
              0.5555555555555556,
              "#d8576b"
             ],
             [
              0.6666666666666666,
              "#ed7953"
             ],
             [
              0.7777777777777778,
              "#fb9f3a"
             ],
             [
              0.8888888888888888,
              "#fdca26"
             ],
             [
              1,
              "#f0f921"
             ]
            ],
            "type": "contour"
           }
          ],
          "contourcarpet": [
           {
            "colorbar": {
             "outlinewidth": 0,
             "ticks": ""
            },
            "type": "contourcarpet"
           }
          ],
          "heatmap": [
           {
            "colorbar": {
             "outlinewidth": 0,
             "ticks": ""
            },
            "colorscale": [
             [
              0,
              "#0d0887"
             ],
             [
              0.1111111111111111,
              "#46039f"
             ],
             [
              0.2222222222222222,
              "#7201a8"
             ],
             [
              0.3333333333333333,
              "#9c179e"
             ],
             [
              0.4444444444444444,
              "#bd3786"
             ],
             [
              0.5555555555555556,
              "#d8576b"
             ],
             [
              0.6666666666666666,
              "#ed7953"
             ],
             [
              0.7777777777777778,
              "#fb9f3a"
             ],
             [
              0.8888888888888888,
              "#fdca26"
             ],
             [
              1,
              "#f0f921"
             ]
            ],
            "type": "heatmap"
           }
          ],
          "heatmapgl": [
           {
            "colorbar": {
             "outlinewidth": 0,
             "ticks": ""
            },
            "colorscale": [
             [
              0,
              "#0d0887"
             ],
             [
              0.1111111111111111,
              "#46039f"
             ],
             [
              0.2222222222222222,
              "#7201a8"
             ],
             [
              0.3333333333333333,
              "#9c179e"
             ],
             [
              0.4444444444444444,
              "#bd3786"
             ],
             [
              0.5555555555555556,
              "#d8576b"
             ],
             [
              0.6666666666666666,
              "#ed7953"
             ],
             [
              0.7777777777777778,
              "#fb9f3a"
             ],
             [
              0.8888888888888888,
              "#fdca26"
             ],
             [
              1,
              "#f0f921"
             ]
            ],
            "type": "heatmapgl"
           }
          ],
          "histogram": [
           {
            "marker": {
             "pattern": {
              "fillmode": "overlay",
              "size": 10,
              "solidity": 0.2
             }
            },
            "type": "histogram"
           }
          ],
          "histogram2d": [
           {
            "colorbar": {
             "outlinewidth": 0,
             "ticks": ""
            },
            "colorscale": [
             [
              0,
              "#0d0887"
             ],
             [
              0.1111111111111111,
              "#46039f"
             ],
             [
              0.2222222222222222,
              "#7201a8"
             ],
             [
              0.3333333333333333,
              "#9c179e"
             ],
             [
              0.4444444444444444,
              "#bd3786"
             ],
             [
              0.5555555555555556,
              "#d8576b"
             ],
             [
              0.6666666666666666,
              "#ed7953"
             ],
             [
              0.7777777777777778,
              "#fb9f3a"
             ],
             [
              0.8888888888888888,
              "#fdca26"
             ],
             [
              1,
              "#f0f921"
             ]
            ],
            "type": "histogram2d"
           }
          ],
          "histogram2dcontour": [
           {
            "colorbar": {
             "outlinewidth": 0,
             "ticks": ""
            },
            "colorscale": [
             [
              0,
              "#0d0887"
             ],
             [
              0.1111111111111111,
              "#46039f"
             ],
             [
              0.2222222222222222,
              "#7201a8"
             ],
             [
              0.3333333333333333,
              "#9c179e"
             ],
             [
              0.4444444444444444,
              "#bd3786"
             ],
             [
              0.5555555555555556,
              "#d8576b"
             ],
             [
              0.6666666666666666,
              "#ed7953"
             ],
             [
              0.7777777777777778,
              "#fb9f3a"
             ],
             [
              0.8888888888888888,
              "#fdca26"
             ],
             [
              1,
              "#f0f921"
             ]
            ],
            "type": "histogram2dcontour"
           }
          ],
          "mesh3d": [
           {
            "colorbar": {
             "outlinewidth": 0,
             "ticks": ""
            },
            "type": "mesh3d"
           }
          ],
          "parcoords": [
           {
            "line": {
             "colorbar": {
              "outlinewidth": 0,
              "ticks": ""
             }
            },
            "type": "parcoords"
           }
          ],
          "pie": [
           {
            "automargin": true,
            "type": "pie"
           }
          ],
          "scatter": [
           {
            "fillpattern": {
             "fillmode": "overlay",
             "size": 10,
             "solidity": 0.2
            },
            "type": "scatter"
           }
          ],
          "scatter3d": [
           {
            "line": {
             "colorbar": {
              "outlinewidth": 0,
              "ticks": ""
             }
            },
            "marker": {
             "colorbar": {
              "outlinewidth": 0,
              "ticks": ""
             }
            },
            "type": "scatter3d"
           }
          ],
          "scattercarpet": [
           {
            "marker": {
             "colorbar": {
              "outlinewidth": 0,
              "ticks": ""
             }
            },
            "type": "scattercarpet"
           }
          ],
          "scattergeo": [
           {
            "marker": {
             "colorbar": {
              "outlinewidth": 0,
              "ticks": ""
             }
            },
            "type": "scattergeo"
           }
          ],
          "scattergl": [
           {
            "marker": {
             "colorbar": {
              "outlinewidth": 0,
              "ticks": ""
             }
            },
            "type": "scattergl"
           }
          ],
          "scattermapbox": [
           {
            "marker": {
             "colorbar": {
              "outlinewidth": 0,
              "ticks": ""
             }
            },
            "type": "scattermapbox"
           }
          ],
          "scatterpolar": [
           {
            "marker": {
             "colorbar": {
              "outlinewidth": 0,
              "ticks": ""
             }
            },
            "type": "scatterpolar"
           }
          ],
          "scatterpolargl": [
           {
            "marker": {
             "colorbar": {
              "outlinewidth": 0,
              "ticks": ""
             }
            },
            "type": "scatterpolargl"
           }
          ],
          "scatterternary": [
           {
            "marker": {
             "colorbar": {
              "outlinewidth": 0,
              "ticks": ""
             }
            },
            "type": "scatterternary"
           }
          ],
          "surface": [
           {
            "colorbar": {
             "outlinewidth": 0,
             "ticks": ""
            },
            "colorscale": [
             [
              0,
              "#0d0887"
             ],
             [
              0.1111111111111111,
              "#46039f"
             ],
             [
              0.2222222222222222,
              "#7201a8"
             ],
             [
              0.3333333333333333,
              "#9c179e"
             ],
             [
              0.4444444444444444,
              "#bd3786"
             ],
             [
              0.5555555555555556,
              "#d8576b"
             ],
             [
              0.6666666666666666,
              "#ed7953"
             ],
             [
              0.7777777777777778,
              "#fb9f3a"
             ],
             [
              0.8888888888888888,
              "#fdca26"
             ],
             [
              1,
              "#f0f921"
             ]
            ],
            "type": "surface"
           }
          ],
          "table": [
           {
            "cells": {
             "fill": {
              "color": "#EBF0F8"
             },
             "line": {
              "color": "white"
             }
            },
            "header": {
             "fill": {
              "color": "#C8D4E3"
             },
             "line": {
              "color": "white"
             }
            },
            "type": "table"
           }
          ]
         },
         "layout": {
          "annotationdefaults": {
           "arrowcolor": "#2a3f5f",
           "arrowhead": 0,
           "arrowwidth": 1
          },
          "autotypenumbers": "strict",
          "coloraxis": {
           "colorbar": {
            "outlinewidth": 0,
            "ticks": ""
           }
          },
          "colorscale": {
           "diverging": [
            [
             0,
             "#8e0152"
            ],
            [
             0.1,
             "#c51b7d"
            ],
            [
             0.2,
             "#de77ae"
            ],
            [
             0.3,
             "#f1b6da"
            ],
            [
             0.4,
             "#fde0ef"
            ],
            [
             0.5,
             "#f7f7f7"
            ],
            [
             0.6,
             "#e6f5d0"
            ],
            [
             0.7,
             "#b8e186"
            ],
            [
             0.8,
             "#7fbc41"
            ],
            [
             0.9,
             "#4d9221"
            ],
            [
             1,
             "#276419"
            ]
           ],
           "sequential": [
            [
             0,
             "#0d0887"
            ],
            [
             0.1111111111111111,
             "#46039f"
            ],
            [
             0.2222222222222222,
             "#7201a8"
            ],
            [
             0.3333333333333333,
             "#9c179e"
            ],
            [
             0.4444444444444444,
             "#bd3786"
            ],
            [
             0.5555555555555556,
             "#d8576b"
            ],
            [
             0.6666666666666666,
             "#ed7953"
            ],
            [
             0.7777777777777778,
             "#fb9f3a"
            ],
            [
             0.8888888888888888,
             "#fdca26"
            ],
            [
             1,
             "#f0f921"
            ]
           ],
           "sequentialminus": [
            [
             0,
             "#0d0887"
            ],
            [
             0.1111111111111111,
             "#46039f"
            ],
            [
             0.2222222222222222,
             "#7201a8"
            ],
            [
             0.3333333333333333,
             "#9c179e"
            ],
            [
             0.4444444444444444,
             "#bd3786"
            ],
            [
             0.5555555555555556,
             "#d8576b"
            ],
            [
             0.6666666666666666,
             "#ed7953"
            ],
            [
             0.7777777777777778,
             "#fb9f3a"
            ],
            [
             0.8888888888888888,
             "#fdca26"
            ],
            [
             1,
             "#f0f921"
            ]
           ]
          },
          "colorway": [
           "#636efa",
           "#EF553B",
           "#00cc96",
           "#ab63fa",
           "#FFA15A",
           "#19d3f3",
           "#FF6692",
           "#B6E880",
           "#FF97FF",
           "#FECB52"
          ],
          "font": {
           "color": "#2a3f5f"
          },
          "geo": {
           "bgcolor": "white",
           "lakecolor": "white",
           "landcolor": "#E5ECF6",
           "showlakes": true,
           "showland": true,
           "subunitcolor": "white"
          },
          "hoverlabel": {
           "align": "left"
          },
          "hovermode": "closest",
          "mapbox": {
           "style": "light"
          },
          "paper_bgcolor": "white",
          "plot_bgcolor": "#E5ECF6",
          "polar": {
           "angularaxis": {
            "gridcolor": "white",
            "linecolor": "white",
            "ticks": ""
           },
           "bgcolor": "#E5ECF6",
           "radialaxis": {
            "gridcolor": "white",
            "linecolor": "white",
            "ticks": ""
           }
          },
          "scene": {
           "xaxis": {
            "backgroundcolor": "#E5ECF6",
            "gridcolor": "white",
            "gridwidth": 2,
            "linecolor": "white",
            "showbackground": true,
            "ticks": "",
            "zerolinecolor": "white"
           },
           "yaxis": {
            "backgroundcolor": "#E5ECF6",
            "gridcolor": "white",
            "gridwidth": 2,
            "linecolor": "white",
            "showbackground": true,
            "ticks": "",
            "zerolinecolor": "white"
           },
           "zaxis": {
            "backgroundcolor": "#E5ECF6",
            "gridcolor": "white",
            "gridwidth": 2,
            "linecolor": "white",
            "showbackground": true,
            "ticks": "",
            "zerolinecolor": "white"
           }
          },
          "shapedefaults": {
           "line": {
            "color": "#2a3f5f"
           }
          },
          "ternary": {
           "aaxis": {
            "gridcolor": "white",
            "linecolor": "white",
            "ticks": ""
           },
           "baxis": {
            "gridcolor": "white",
            "linecolor": "white",
            "ticks": ""
           },
           "bgcolor": "#E5ECF6",
           "caxis": {
            "gridcolor": "white",
            "linecolor": "white",
            "ticks": ""
           }
          },
          "title": {
           "x": 0.05
          },
          "xaxis": {
           "automargin": true,
           "gridcolor": "white",
           "linecolor": "white",
           "ticks": "",
           "title": {
            "standoff": 15
           },
           "zerolinecolor": "white",
           "zerolinewidth": 2
          },
          "yaxis": {
           "automargin": true,
           "gridcolor": "white",
           "linecolor": "white",
           "ticks": "",
           "title": {
            "standoff": 15
           },
           "zerolinecolor": "white",
           "zerolinewidth": 2
          }
         }
        },
        "title": {
         "text": "Number of Users and GVM total"
        },
        "xaxis": {
         "anchor": "y",
         "domain": [
          0,
          0.94
         ],
         "title": {
          "text": "Company name"
         }
        },
        "yaxis": {
         "anchor": "x",
         "domain": [
          0,
          1
         ],
         "title": {
          "text": "Number of Users"
         }
        },
        "yaxis2": {
         "anchor": "x",
         "overlaying": "y",
         "side": "right",
         "title": {
          "text": "GVM total"
         }
        }
       }
      }
     },
     "metadata": {},
     "output_type": "display_data"
    }
   ],
   "source": [
    "import plotly.graph_objects as go\n",
    "from plotly.subplots import make_subplots\n",
    "\n",
    "fig = make_subplots(specs=[[{\"secondary_y\": True}]])\n",
    "\n",
    "\n",
    "fig.add_trace(go.Bar(x=rev_users['Company name'], y=rev_users['Number of Users'], name='Number of Users'), secondary_y=False)\n",
    "\n",
    "# Add bar trace for revenue\n",
    "fig.add_trace(go.Scatter(x=rev_users['Company name'], y=rev_users['GVM total'], name='GVM total', mode='markers'), secondary_y=True)\n",
    "\n",
    "# Update layout\n",
    "fig.update_layout(title='Number of Users and GVM total',\n",
    "                  xaxis=dict(title='Company name'),\n",
    "                  yaxis=dict(title='Number of Users'),\n",
    "                  yaxis2=dict(title='GVM total', overlaying='y', side='right'))\n",
    "\n",
    "fig.show()"
   ]
  },
  {
   "attachments": {},
   "cell_type": "markdown",
   "metadata": {},
   "source": [
    "Как видим, несмотря на то что компания Blue абсолютный лидер по кол-ву пользователей, самый большой GVM у компании Black"
   ]
  },
  {
   "attachments": {},
   "cell_type": "markdown",
   "metadata": {},
   "source": [
    "### Определние связей между GVM и активностей пользователей"
   ]
  },
  {
   "attachments": {},
   "cell_type": "markdown",
   "metadata": {},
   "source": [
    "Хочется оценить влияет ли на GVM некоторая активность, как, например, в случае с Blue. К сожалению, у остальных компаний есть только связки кол-ва успешных заказов и GVM, что оценивать не стоит, так как там скорее всего прямая зависимость"
   ]
  },
  {
   "cell_type": "code",
   "execution_count": 129,
   "metadata": {},
   "outputs": [
    {
     "data": {
      "text/html": [
       "<div>\n",
       "<style scoped>\n",
       "    .dataframe tbody tr th:only-of-type {\n",
       "        vertical-align: middle;\n",
       "    }\n",
       "\n",
       "    .dataframe tbody tr th {\n",
       "        vertical-align: top;\n",
       "    }\n",
       "\n",
       "    .dataframe thead th {\n",
       "        text-align: right;\n",
       "    }\n",
       "</style>\n",
       "<table border=\"1\" class=\"dataframe\">\n",
       "  <thead>\n",
       "    <tr style=\"text-align: right;\">\n",
       "      <th></th>\n",
       "      <th>Blue_activity_count</th>\n",
       "      <th>Blue_gmv_total</th>\n",
       "    </tr>\n",
       "  </thead>\n",
       "  <tbody>\n",
       "    <tr>\n",
       "      <th>Blue_activity_count</th>\n",
       "      <td>1.000000</td>\n",
       "      <td>0.273668</td>\n",
       "    </tr>\n",
       "    <tr>\n",
       "      <th>Blue_gmv_total</th>\n",
       "      <td>0.273668</td>\n",
       "      <td>1.000000</td>\n",
       "    </tr>\n",
       "  </tbody>\n",
       "</table>\n",
       "</div>"
      ],
      "text/plain": [
       "                     Blue_activity_count  Blue_gmv_total\n",
       "Blue_activity_count             1.000000        0.273668\n",
       "Blue_gmv_total                  0.273668        1.000000"
      ]
     },
     "execution_count": 129,
     "metadata": {},
     "output_type": "execute_result"
    }
   ],
   "source": [
    "gvm_total_blue[['Blue_activity_count', 'Blue_gmv_total']].corr()"
   ]
  },
  {
   "cell_type": "code",
   "execution_count": 124,
   "metadata": {},
   "outputs": [],
   "source": [
    "graph_blue = gvm_total_blue[['hid','Blue_activity_count', 'Blue_gmv_total']].sample(100)"
   ]
  },
  {
   "cell_type": "code",
   "execution_count": 125,
   "metadata": {},
   "outputs": [],
   "source": [
    "hid_to_replace = list(range(1, len(graph_blue) + 1))"
   ]
  },
  {
   "cell_type": "code",
   "execution_count": 126,
   "metadata": {},
   "outputs": [],
   "source": [
    "graph_blue['hid'] = hid_to_replace"
   ]
  },
  {
   "cell_type": "code",
   "execution_count": 127,
   "metadata": {},
   "outputs": [
    {
     "data": {
      "application/vnd.plotly.v1+json": {
       "config": {
        "plotlyServerURL": "https://plot.ly"
       },
       "data": [
        {
         "name": "Кол-во активных действий",
         "type": "bar",
         "x": [
          1,
          2,
          3,
          4,
          5,
          6,
          7,
          8,
          9,
          10,
          11,
          12,
          13,
          14,
          15,
          16,
          17,
          18,
          19,
          20,
          21,
          22,
          23,
          24,
          25,
          26,
          27,
          28,
          29,
          30,
          31,
          32,
          33,
          34,
          35,
          36,
          37,
          38,
          39,
          40,
          41,
          42,
          43,
          44,
          45,
          46,
          47,
          48,
          49,
          50,
          51,
          52,
          53,
          54,
          55,
          56,
          57,
          58,
          59,
          60,
          61,
          62,
          63,
          64,
          65,
          66,
          67,
          68,
          69,
          70,
          71,
          72,
          73,
          74,
          75,
          76,
          77,
          78,
          79,
          80,
          81,
          82,
          83,
          84,
          85,
          86,
          87,
          88,
          89,
          90,
          91,
          92,
          93,
          94,
          95,
          96,
          97,
          98,
          99,
          100
         ],
         "xaxis": "x",
         "y": [
          0,
          0,
          3,
          6,
          1,
          1,
          0,
          1,
          0,
          0,
          0,
          0,
          0,
          0,
          0,
          0,
          10,
          0,
          0,
          0,
          1,
          0,
          21,
          0,
          0,
          1,
          0,
          1,
          3,
          9,
          0,
          0,
          3,
          1,
          0,
          1,
          0,
          2,
          0,
          0,
          0,
          0,
          1,
          0,
          13,
          0,
          0,
          12,
          0,
          0,
          0,
          0,
          0,
          0,
          0,
          2,
          0,
          12,
          6,
          1,
          0,
          0,
          0,
          0,
          0,
          0,
          0,
          0,
          0,
          0,
          3,
          9,
          0,
          0,
          1,
          0,
          0,
          18,
          2,
          0,
          0,
          0,
          0,
          0,
          28,
          0,
          0,
          0,
          6,
          4,
          5,
          0,
          0,
          0,
          1,
          0,
          3,
          0,
          0,
          0
         ],
         "yaxis": "y"
        },
        {
         "mode": "lines",
         "name": "Общее GVM",
         "type": "scatter",
         "x": [
          1,
          2,
          3,
          4,
          5,
          6,
          7,
          8,
          9,
          10,
          11,
          12,
          13,
          14,
          15,
          16,
          17,
          18,
          19,
          20,
          21,
          22,
          23,
          24,
          25,
          26,
          27,
          28,
          29,
          30,
          31,
          32,
          33,
          34,
          35,
          36,
          37,
          38,
          39,
          40,
          41,
          42,
          43,
          44,
          45,
          46,
          47,
          48,
          49,
          50,
          51,
          52,
          53,
          54,
          55,
          56,
          57,
          58,
          59,
          60,
          61,
          62,
          63,
          64,
          65,
          66,
          67,
          68,
          69,
          70,
          71,
          72,
          73,
          74,
          75,
          76,
          77,
          78,
          79,
          80,
          81,
          82,
          83,
          84,
          85,
          86,
          87,
          88,
          89,
          90,
          91,
          92,
          93,
          94,
          95,
          96,
          97,
          98,
          99,
          100
         ],
         "xaxis": "x",
         "y": [
          0,
          0,
          66,
          162,
          0,
          0,
          0,
          38,
          0,
          0,
          0,
          0,
          0,
          0,
          0,
          0,
          0,
          0,
          0,
          0,
          0,
          0,
          0,
          0,
          0,
          0,
          0,
          0,
          0,
          0,
          0,
          0,
          0,
          36,
          0,
          0,
          0,
          102,
          0,
          0,
          0,
          0,
          0,
          0,
          14,
          0,
          0,
          0,
          0,
          0,
          0,
          0,
          0,
          0,
          0,
          0,
          0,
          0,
          2,
          0,
          0,
          0,
          0,
          0,
          0,
          0,
          0,
          0,
          0,
          0,
          0,
          0,
          0,
          0,
          0,
          0,
          0,
          0,
          0,
          0,
          0,
          0,
          0,
          0,
          0,
          0,
          0,
          0,
          0,
          0,
          0,
          0,
          0,
          0,
          0,
          0,
          0,
          0,
          0,
          0
         ],
         "yaxis": "y2"
        }
       ],
       "layout": {
        "template": {
         "data": {
          "bar": [
           {
            "error_x": {
             "color": "#2a3f5f"
            },
            "error_y": {
             "color": "#2a3f5f"
            },
            "marker": {
             "line": {
              "color": "#E5ECF6",
              "width": 0.5
             },
             "pattern": {
              "fillmode": "overlay",
              "size": 10,
              "solidity": 0.2
             }
            },
            "type": "bar"
           }
          ],
          "barpolar": [
           {
            "marker": {
             "line": {
              "color": "#E5ECF6",
              "width": 0.5
             },
             "pattern": {
              "fillmode": "overlay",
              "size": 10,
              "solidity": 0.2
             }
            },
            "type": "barpolar"
           }
          ],
          "carpet": [
           {
            "aaxis": {
             "endlinecolor": "#2a3f5f",
             "gridcolor": "white",
             "linecolor": "white",
             "minorgridcolor": "white",
             "startlinecolor": "#2a3f5f"
            },
            "baxis": {
             "endlinecolor": "#2a3f5f",
             "gridcolor": "white",
             "linecolor": "white",
             "minorgridcolor": "white",
             "startlinecolor": "#2a3f5f"
            },
            "type": "carpet"
           }
          ],
          "choropleth": [
           {
            "colorbar": {
             "outlinewidth": 0,
             "ticks": ""
            },
            "type": "choropleth"
           }
          ],
          "contour": [
           {
            "colorbar": {
             "outlinewidth": 0,
             "ticks": ""
            },
            "colorscale": [
             [
              0,
              "#0d0887"
             ],
             [
              0.1111111111111111,
              "#46039f"
             ],
             [
              0.2222222222222222,
              "#7201a8"
             ],
             [
              0.3333333333333333,
              "#9c179e"
             ],
             [
              0.4444444444444444,
              "#bd3786"
             ],
             [
              0.5555555555555556,
              "#d8576b"
             ],
             [
              0.6666666666666666,
              "#ed7953"
             ],
             [
              0.7777777777777778,
              "#fb9f3a"
             ],
             [
              0.8888888888888888,
              "#fdca26"
             ],
             [
              1,
              "#f0f921"
             ]
            ],
            "type": "contour"
           }
          ],
          "contourcarpet": [
           {
            "colorbar": {
             "outlinewidth": 0,
             "ticks": ""
            },
            "type": "contourcarpet"
           }
          ],
          "heatmap": [
           {
            "colorbar": {
             "outlinewidth": 0,
             "ticks": ""
            },
            "colorscale": [
             [
              0,
              "#0d0887"
             ],
             [
              0.1111111111111111,
              "#46039f"
             ],
             [
              0.2222222222222222,
              "#7201a8"
             ],
             [
              0.3333333333333333,
              "#9c179e"
             ],
             [
              0.4444444444444444,
              "#bd3786"
             ],
             [
              0.5555555555555556,
              "#d8576b"
             ],
             [
              0.6666666666666666,
              "#ed7953"
             ],
             [
              0.7777777777777778,
              "#fb9f3a"
             ],
             [
              0.8888888888888888,
              "#fdca26"
             ],
             [
              1,
              "#f0f921"
             ]
            ],
            "type": "heatmap"
           }
          ],
          "heatmapgl": [
           {
            "colorbar": {
             "outlinewidth": 0,
             "ticks": ""
            },
            "colorscale": [
             [
              0,
              "#0d0887"
             ],
             [
              0.1111111111111111,
              "#46039f"
             ],
             [
              0.2222222222222222,
              "#7201a8"
             ],
             [
              0.3333333333333333,
              "#9c179e"
             ],
             [
              0.4444444444444444,
              "#bd3786"
             ],
             [
              0.5555555555555556,
              "#d8576b"
             ],
             [
              0.6666666666666666,
              "#ed7953"
             ],
             [
              0.7777777777777778,
              "#fb9f3a"
             ],
             [
              0.8888888888888888,
              "#fdca26"
             ],
             [
              1,
              "#f0f921"
             ]
            ],
            "type": "heatmapgl"
           }
          ],
          "histogram": [
           {
            "marker": {
             "pattern": {
              "fillmode": "overlay",
              "size": 10,
              "solidity": 0.2
             }
            },
            "type": "histogram"
           }
          ],
          "histogram2d": [
           {
            "colorbar": {
             "outlinewidth": 0,
             "ticks": ""
            },
            "colorscale": [
             [
              0,
              "#0d0887"
             ],
             [
              0.1111111111111111,
              "#46039f"
             ],
             [
              0.2222222222222222,
              "#7201a8"
             ],
             [
              0.3333333333333333,
              "#9c179e"
             ],
             [
              0.4444444444444444,
              "#bd3786"
             ],
             [
              0.5555555555555556,
              "#d8576b"
             ],
             [
              0.6666666666666666,
              "#ed7953"
             ],
             [
              0.7777777777777778,
              "#fb9f3a"
             ],
             [
              0.8888888888888888,
              "#fdca26"
             ],
             [
              1,
              "#f0f921"
             ]
            ],
            "type": "histogram2d"
           }
          ],
          "histogram2dcontour": [
           {
            "colorbar": {
             "outlinewidth": 0,
             "ticks": ""
            },
            "colorscale": [
             [
              0,
              "#0d0887"
             ],
             [
              0.1111111111111111,
              "#46039f"
             ],
             [
              0.2222222222222222,
              "#7201a8"
             ],
             [
              0.3333333333333333,
              "#9c179e"
             ],
             [
              0.4444444444444444,
              "#bd3786"
             ],
             [
              0.5555555555555556,
              "#d8576b"
             ],
             [
              0.6666666666666666,
              "#ed7953"
             ],
             [
              0.7777777777777778,
              "#fb9f3a"
             ],
             [
              0.8888888888888888,
              "#fdca26"
             ],
             [
              1,
              "#f0f921"
             ]
            ],
            "type": "histogram2dcontour"
           }
          ],
          "mesh3d": [
           {
            "colorbar": {
             "outlinewidth": 0,
             "ticks": ""
            },
            "type": "mesh3d"
           }
          ],
          "parcoords": [
           {
            "line": {
             "colorbar": {
              "outlinewidth": 0,
              "ticks": ""
             }
            },
            "type": "parcoords"
           }
          ],
          "pie": [
           {
            "automargin": true,
            "type": "pie"
           }
          ],
          "scatter": [
           {
            "fillpattern": {
             "fillmode": "overlay",
             "size": 10,
             "solidity": 0.2
            },
            "type": "scatter"
           }
          ],
          "scatter3d": [
           {
            "line": {
             "colorbar": {
              "outlinewidth": 0,
              "ticks": ""
             }
            },
            "marker": {
             "colorbar": {
              "outlinewidth": 0,
              "ticks": ""
             }
            },
            "type": "scatter3d"
           }
          ],
          "scattercarpet": [
           {
            "marker": {
             "colorbar": {
              "outlinewidth": 0,
              "ticks": ""
             }
            },
            "type": "scattercarpet"
           }
          ],
          "scattergeo": [
           {
            "marker": {
             "colorbar": {
              "outlinewidth": 0,
              "ticks": ""
             }
            },
            "type": "scattergeo"
           }
          ],
          "scattergl": [
           {
            "marker": {
             "colorbar": {
              "outlinewidth": 0,
              "ticks": ""
             }
            },
            "type": "scattergl"
           }
          ],
          "scattermapbox": [
           {
            "marker": {
             "colorbar": {
              "outlinewidth": 0,
              "ticks": ""
             }
            },
            "type": "scattermapbox"
           }
          ],
          "scatterpolar": [
           {
            "marker": {
             "colorbar": {
              "outlinewidth": 0,
              "ticks": ""
             }
            },
            "type": "scatterpolar"
           }
          ],
          "scatterpolargl": [
           {
            "marker": {
             "colorbar": {
              "outlinewidth": 0,
              "ticks": ""
             }
            },
            "type": "scatterpolargl"
           }
          ],
          "scatterternary": [
           {
            "marker": {
             "colorbar": {
              "outlinewidth": 0,
              "ticks": ""
             }
            },
            "type": "scatterternary"
           }
          ],
          "surface": [
           {
            "colorbar": {
             "outlinewidth": 0,
             "ticks": ""
            },
            "colorscale": [
             [
              0,
              "#0d0887"
             ],
             [
              0.1111111111111111,
              "#46039f"
             ],
             [
              0.2222222222222222,
              "#7201a8"
             ],
             [
              0.3333333333333333,
              "#9c179e"
             ],
             [
              0.4444444444444444,
              "#bd3786"
             ],
             [
              0.5555555555555556,
              "#d8576b"
             ],
             [
              0.6666666666666666,
              "#ed7953"
             ],
             [
              0.7777777777777778,
              "#fb9f3a"
             ],
             [
              0.8888888888888888,
              "#fdca26"
             ],
             [
              1,
              "#f0f921"
             ]
            ],
            "type": "surface"
           }
          ],
          "table": [
           {
            "cells": {
             "fill": {
              "color": "#EBF0F8"
             },
             "line": {
              "color": "white"
             }
            },
            "header": {
             "fill": {
              "color": "#C8D4E3"
             },
             "line": {
              "color": "white"
             }
            },
            "type": "table"
           }
          ]
         },
         "layout": {
          "annotationdefaults": {
           "arrowcolor": "#2a3f5f",
           "arrowhead": 0,
           "arrowwidth": 1
          },
          "autotypenumbers": "strict",
          "coloraxis": {
           "colorbar": {
            "outlinewidth": 0,
            "ticks": ""
           }
          },
          "colorscale": {
           "diverging": [
            [
             0,
             "#8e0152"
            ],
            [
             0.1,
             "#c51b7d"
            ],
            [
             0.2,
             "#de77ae"
            ],
            [
             0.3,
             "#f1b6da"
            ],
            [
             0.4,
             "#fde0ef"
            ],
            [
             0.5,
             "#f7f7f7"
            ],
            [
             0.6,
             "#e6f5d0"
            ],
            [
             0.7,
             "#b8e186"
            ],
            [
             0.8,
             "#7fbc41"
            ],
            [
             0.9,
             "#4d9221"
            ],
            [
             1,
             "#276419"
            ]
           ],
           "sequential": [
            [
             0,
             "#0d0887"
            ],
            [
             0.1111111111111111,
             "#46039f"
            ],
            [
             0.2222222222222222,
             "#7201a8"
            ],
            [
             0.3333333333333333,
             "#9c179e"
            ],
            [
             0.4444444444444444,
             "#bd3786"
            ],
            [
             0.5555555555555556,
             "#d8576b"
            ],
            [
             0.6666666666666666,
             "#ed7953"
            ],
            [
             0.7777777777777778,
             "#fb9f3a"
            ],
            [
             0.8888888888888888,
             "#fdca26"
            ],
            [
             1,
             "#f0f921"
            ]
           ],
           "sequentialminus": [
            [
             0,
             "#0d0887"
            ],
            [
             0.1111111111111111,
             "#46039f"
            ],
            [
             0.2222222222222222,
             "#7201a8"
            ],
            [
             0.3333333333333333,
             "#9c179e"
            ],
            [
             0.4444444444444444,
             "#bd3786"
            ],
            [
             0.5555555555555556,
             "#d8576b"
            ],
            [
             0.6666666666666666,
             "#ed7953"
            ],
            [
             0.7777777777777778,
             "#fb9f3a"
            ],
            [
             0.8888888888888888,
             "#fdca26"
            ],
            [
             1,
             "#f0f921"
            ]
           ]
          },
          "colorway": [
           "#636efa",
           "#EF553B",
           "#00cc96",
           "#ab63fa",
           "#FFA15A",
           "#19d3f3",
           "#FF6692",
           "#B6E880",
           "#FF97FF",
           "#FECB52"
          ],
          "font": {
           "color": "#2a3f5f"
          },
          "geo": {
           "bgcolor": "white",
           "lakecolor": "white",
           "landcolor": "#E5ECF6",
           "showlakes": true,
           "showland": true,
           "subunitcolor": "white"
          },
          "hoverlabel": {
           "align": "left"
          },
          "hovermode": "closest",
          "mapbox": {
           "style": "light"
          },
          "paper_bgcolor": "white",
          "plot_bgcolor": "#E5ECF6",
          "polar": {
           "angularaxis": {
            "gridcolor": "white",
            "linecolor": "white",
            "ticks": ""
           },
           "bgcolor": "#E5ECF6",
           "radialaxis": {
            "gridcolor": "white",
            "linecolor": "white",
            "ticks": ""
           }
          },
          "scene": {
           "xaxis": {
            "backgroundcolor": "#E5ECF6",
            "gridcolor": "white",
            "gridwidth": 2,
            "linecolor": "white",
            "showbackground": true,
            "ticks": "",
            "zerolinecolor": "white"
           },
           "yaxis": {
            "backgroundcolor": "#E5ECF6",
            "gridcolor": "white",
            "gridwidth": 2,
            "linecolor": "white",
            "showbackground": true,
            "ticks": "",
            "zerolinecolor": "white"
           },
           "zaxis": {
            "backgroundcolor": "#E5ECF6",
            "gridcolor": "white",
            "gridwidth": 2,
            "linecolor": "white",
            "showbackground": true,
            "ticks": "",
            "zerolinecolor": "white"
           }
          },
          "shapedefaults": {
           "line": {
            "color": "#2a3f5f"
           }
          },
          "ternary": {
           "aaxis": {
            "gridcolor": "white",
            "linecolor": "white",
            "ticks": ""
           },
           "baxis": {
            "gridcolor": "white",
            "linecolor": "white",
            "ticks": ""
           },
           "bgcolor": "#E5ECF6",
           "caxis": {
            "gridcolor": "white",
            "linecolor": "white",
            "ticks": ""
           }
          },
          "title": {
           "x": 0.05
          },
          "xaxis": {
           "automargin": true,
           "gridcolor": "white",
           "linecolor": "white",
           "ticks": "",
           "title": {
            "standoff": 15
           },
           "zerolinecolor": "white",
           "zerolinewidth": 2
          },
          "yaxis": {
           "automargin": true,
           "gridcolor": "white",
           "linecolor": "white",
           "ticks": "",
           "title": {
            "standoff": 15
           },
           "zerolinecolor": "white",
           "zerolinewidth": 2
          }
         }
        },
        "title": {
         "text": "Кол-во пользователей и общее GVM"
        },
        "xaxis": {
         "anchor": "y",
         "domain": [
          0,
          0.94
         ],
         "title": {
          "text": "ID пользователя"
         }
        },
        "yaxis": {
         "anchor": "x",
         "domain": [
          0,
          1
         ],
         "title": {
          "text": "Кол-во активных действий"
         }
        },
        "yaxis2": {
         "anchor": "x",
         "overlaying": "y",
         "side": "right",
         "title": {
          "text": "Общее GVM"
         }
        }
       }
      }
     },
     "metadata": {},
     "output_type": "display_data"
    }
   ],
   "source": [
    "from plotly.subplots import make_subplots\n",
    "fig = make_subplots(specs=[[{\"secondary_y\": True}]])\n",
    "\n",
    "fig.add_trace(go.Bar(x=graph_blue['hid'], y=graph_blue['Blue_activity_count'], name='Кол-во активных действий'), secondary_y=False)\n",
    "\n",
    "fig.add_trace(go.Scatter(x=graph_blue['hid'], y=graph_blue['Blue_gmv_total'], mode='lines', name='Общее GVM'), secondary_y=True)\n",
    "\n",
    "fig.update_layout(\n",
    "    title='Кол-во пользователей и общее GVM',\n",
    "    xaxis_title='ID пользователя',\n",
    "    yaxis=dict(title='Кол-во активных действий'),\n",
    "    yaxis2=dict(title='Общее GVM', overlaying='y', side='right')\n",
    ")\n",
    "\n",
    "fig.show()"
   ]
  },
  {
   "attachments": {},
   "cell_type": "markdown",
   "metadata": {},
   "source": [
    "Как видим выше, численная корреляция не очень-то и большая. В целом это видно и из графика. Для удобства отображения я взял сэмпл из 100 пол-ей и заменил их ID из длинного на короткое число"
   ]
  },
  {
   "attachments": {},
   "cell_type": "markdown",
   "metadata": {},
   "source": [
    "Попробуем взять только тех пользователей, у которых была активность"
   ]
  },
  {
   "cell_type": "code",
   "execution_count": 50,
   "metadata": {},
   "outputs": [],
   "source": [
    "blue_with_activity = (gvm_total_blue[\n",
    "    [\n",
    "    'hid', 'Blue_gmv_total', 'Blue_activity_count'\n",
    "    ]\n",
    "    ][\n",
    "        gvm_total_blue[['hid', 'Blue_gmv_total', 'Blue_activity_count']]['Blue_activity_count'] > 1\n",
    "    ]\n",
    ")"
   ]
  },
  {
   "cell_type": "code",
   "execution_count": 51,
   "metadata": {},
   "outputs": [
    {
     "data": {
      "text/html": [
       "<div>\n",
       "<style scoped>\n",
       "    .dataframe tbody tr th:only-of-type {\n",
       "        vertical-align: middle;\n",
       "    }\n",
       "\n",
       "    .dataframe tbody tr th {\n",
       "        vertical-align: top;\n",
       "    }\n",
       "\n",
       "    .dataframe thead th {\n",
       "        text-align: right;\n",
       "    }\n",
       "</style>\n",
       "<table border=\"1\" class=\"dataframe\">\n",
       "  <thead>\n",
       "    <tr style=\"text-align: right;\">\n",
       "      <th></th>\n",
       "      <th>Blue_gmv_total</th>\n",
       "      <th>Blue_activity_count</th>\n",
       "    </tr>\n",
       "  </thead>\n",
       "  <tbody>\n",
       "    <tr>\n",
       "      <th>Blue_gmv_total</th>\n",
       "      <td>1.000000</td>\n",
       "      <td>0.272215</td>\n",
       "    </tr>\n",
       "    <tr>\n",
       "      <th>Blue_activity_count</th>\n",
       "      <td>0.272215</td>\n",
       "      <td>1.000000</td>\n",
       "    </tr>\n",
       "  </tbody>\n",
       "</table>\n",
       "</div>"
      ],
      "text/plain": [
       "                     Blue_gmv_total  Blue_activity_count\n",
       "Blue_gmv_total             1.000000             0.272215\n",
       "Blue_activity_count        0.272215             1.000000"
      ]
     },
     "execution_count": 51,
     "metadata": {},
     "output_type": "execute_result"
    }
   ],
   "source": [
    "blue_with_activity[['Blue_gmv_total', 'Blue_activity_count']].corr()"
   ]
  },
  {
   "cell_type": "code",
   "execution_count": 52,
   "metadata": {},
   "outputs": [],
   "source": [
    "graph_blue = blue_with_activity[['hid','Blue_activity_count', 'Blue_gmv_total']].sample(100)"
   ]
  },
  {
   "cell_type": "code",
   "execution_count": 53,
   "metadata": {},
   "outputs": [],
   "source": [
    "hid_to_replace = list(range(1, len(graph_blue) + 1))"
   ]
  },
  {
   "cell_type": "code",
   "execution_count": 54,
   "metadata": {},
   "outputs": [],
   "source": [
    "graph_blue['hid'] = hid_to_replace"
   ]
  },
  {
   "cell_type": "code",
   "execution_count": 55,
   "metadata": {},
   "outputs": [
    {
     "data": {
      "application/vnd.plotly.v1+json": {
       "config": {
        "plotlyServerURL": "https://plot.ly"
       },
       "data": [
        {
         "name": "Кол-во активных действий",
         "type": "bar",
         "x": [
          1,
          2,
          3,
          4,
          5,
          6,
          7,
          8,
          9,
          10,
          11,
          12,
          13,
          14,
          15,
          16,
          17,
          18,
          19,
          20,
          21,
          22,
          23,
          24,
          25,
          26,
          27,
          28,
          29,
          30,
          31,
          32,
          33,
          34,
          35,
          36,
          37,
          38,
          39,
          40,
          41,
          42,
          43,
          44,
          45,
          46,
          47,
          48,
          49,
          50,
          51,
          52,
          53,
          54,
          55,
          56,
          57,
          58,
          59,
          60,
          61,
          62,
          63,
          64,
          65,
          66,
          67,
          68,
          69,
          70,
          71,
          72,
          73,
          74,
          75,
          76,
          77,
          78,
          79,
          80,
          81,
          82,
          83,
          84,
          85,
          86,
          87,
          88,
          89,
          90,
          91,
          92,
          93,
          94,
          95,
          96,
          97,
          98,
          99,
          100
         ],
         "xaxis": "x",
         "y": [
          33,
          3,
          12,
          3,
          2,
          3,
          24,
          3,
          30,
          6,
          7,
          3,
          5,
          2,
          11,
          3,
          19,
          2,
          12,
          2,
          3,
          43,
          3,
          4,
          13,
          6,
          5,
          4,
          2,
          5,
          5,
          3,
          2,
          17,
          2,
          22,
          10,
          2,
          4,
          28,
          3,
          2,
          2,
          35,
          237,
          7,
          7,
          6,
          2,
          5,
          5,
          27,
          2,
          2,
          3,
          2,
          8,
          2,
          32,
          10,
          2,
          9,
          2,
          14,
          12,
          3,
          10,
          2,
          9,
          3,
          2,
          2,
          3,
          2,
          5,
          2,
          2,
          17,
          4,
          6,
          2,
          2,
          2,
          2,
          5,
          3,
          3,
          2,
          14,
          3,
          7,
          15,
          2,
          11,
          15,
          2,
          6,
          2,
          28,
          3
         ],
         "yaxis": "y"
        },
        {
         "mode": "lines",
         "name": "Общее GVM",
         "type": "scatter",
         "x": [
          1,
          2,
          3,
          4,
          5,
          6,
          7,
          8,
          9,
          10,
          11,
          12,
          13,
          14,
          15,
          16,
          17,
          18,
          19,
          20,
          21,
          22,
          23,
          24,
          25,
          26,
          27,
          28,
          29,
          30,
          31,
          32,
          33,
          34,
          35,
          36,
          37,
          38,
          39,
          40,
          41,
          42,
          43,
          44,
          45,
          46,
          47,
          48,
          49,
          50,
          51,
          52,
          53,
          54,
          55,
          56,
          57,
          58,
          59,
          60,
          61,
          62,
          63,
          64,
          65,
          66,
          67,
          68,
          69,
          70,
          71,
          72,
          73,
          74,
          75,
          76,
          77,
          78,
          79,
          80,
          81,
          82,
          83,
          84,
          85,
          86,
          87,
          88,
          89,
          90,
          91,
          92,
          93,
          94,
          95,
          96,
          97,
          98,
          99,
          100
         ],
         "xaxis": "x",
         "y": [
          0,
          0,
          0,
          0,
          0,
          0,
          0,
          0,
          0,
          0,
          0,
          0,
          0,
          0,
          340,
          0,
          0,
          0,
          890,
          0,
          0,
          480,
          0,
          0,
          0,
          0,
          0,
          0,
          0,
          0,
          0,
          0,
          0,
          0,
          12,
          0,
          0,
          0,
          0,
          0,
          30,
          0,
          0,
          0,
          5354,
          0,
          0,
          0,
          0,
          0,
          0,
          0,
          0,
          0,
          0,
          0,
          0,
          0,
          0,
          0,
          0,
          0,
          0,
          0,
          0,
          0,
          4,
          0,
          0,
          0,
          0,
          0,
          12,
          0,
          0,
          0,
          0,
          1058,
          0,
          280,
          0,
          72,
          0,
          0,
          0,
          0,
          0,
          0,
          0,
          0,
          0,
          0,
          0,
          290,
          0,
          0,
          0,
          0,
          0,
          0
         ],
         "yaxis": "y2"
        }
       ],
       "layout": {
        "template": {
         "data": {
          "bar": [
           {
            "error_x": {
             "color": "#2a3f5f"
            },
            "error_y": {
             "color": "#2a3f5f"
            },
            "marker": {
             "line": {
              "color": "#E5ECF6",
              "width": 0.5
             },
             "pattern": {
              "fillmode": "overlay",
              "size": 10,
              "solidity": 0.2
             }
            },
            "type": "bar"
           }
          ],
          "barpolar": [
           {
            "marker": {
             "line": {
              "color": "#E5ECF6",
              "width": 0.5
             },
             "pattern": {
              "fillmode": "overlay",
              "size": 10,
              "solidity": 0.2
             }
            },
            "type": "barpolar"
           }
          ],
          "carpet": [
           {
            "aaxis": {
             "endlinecolor": "#2a3f5f",
             "gridcolor": "white",
             "linecolor": "white",
             "minorgridcolor": "white",
             "startlinecolor": "#2a3f5f"
            },
            "baxis": {
             "endlinecolor": "#2a3f5f",
             "gridcolor": "white",
             "linecolor": "white",
             "minorgridcolor": "white",
             "startlinecolor": "#2a3f5f"
            },
            "type": "carpet"
           }
          ],
          "choropleth": [
           {
            "colorbar": {
             "outlinewidth": 0,
             "ticks": ""
            },
            "type": "choropleth"
           }
          ],
          "contour": [
           {
            "colorbar": {
             "outlinewidth": 0,
             "ticks": ""
            },
            "colorscale": [
             [
              0,
              "#0d0887"
             ],
             [
              0.1111111111111111,
              "#46039f"
             ],
             [
              0.2222222222222222,
              "#7201a8"
             ],
             [
              0.3333333333333333,
              "#9c179e"
             ],
             [
              0.4444444444444444,
              "#bd3786"
             ],
             [
              0.5555555555555556,
              "#d8576b"
             ],
             [
              0.6666666666666666,
              "#ed7953"
             ],
             [
              0.7777777777777778,
              "#fb9f3a"
             ],
             [
              0.8888888888888888,
              "#fdca26"
             ],
             [
              1,
              "#f0f921"
             ]
            ],
            "type": "contour"
           }
          ],
          "contourcarpet": [
           {
            "colorbar": {
             "outlinewidth": 0,
             "ticks": ""
            },
            "type": "contourcarpet"
           }
          ],
          "heatmap": [
           {
            "colorbar": {
             "outlinewidth": 0,
             "ticks": ""
            },
            "colorscale": [
             [
              0,
              "#0d0887"
             ],
             [
              0.1111111111111111,
              "#46039f"
             ],
             [
              0.2222222222222222,
              "#7201a8"
             ],
             [
              0.3333333333333333,
              "#9c179e"
             ],
             [
              0.4444444444444444,
              "#bd3786"
             ],
             [
              0.5555555555555556,
              "#d8576b"
             ],
             [
              0.6666666666666666,
              "#ed7953"
             ],
             [
              0.7777777777777778,
              "#fb9f3a"
             ],
             [
              0.8888888888888888,
              "#fdca26"
             ],
             [
              1,
              "#f0f921"
             ]
            ],
            "type": "heatmap"
           }
          ],
          "heatmapgl": [
           {
            "colorbar": {
             "outlinewidth": 0,
             "ticks": ""
            },
            "colorscale": [
             [
              0,
              "#0d0887"
             ],
             [
              0.1111111111111111,
              "#46039f"
             ],
             [
              0.2222222222222222,
              "#7201a8"
             ],
             [
              0.3333333333333333,
              "#9c179e"
             ],
             [
              0.4444444444444444,
              "#bd3786"
             ],
             [
              0.5555555555555556,
              "#d8576b"
             ],
             [
              0.6666666666666666,
              "#ed7953"
             ],
             [
              0.7777777777777778,
              "#fb9f3a"
             ],
             [
              0.8888888888888888,
              "#fdca26"
             ],
             [
              1,
              "#f0f921"
             ]
            ],
            "type": "heatmapgl"
           }
          ],
          "histogram": [
           {
            "marker": {
             "pattern": {
              "fillmode": "overlay",
              "size": 10,
              "solidity": 0.2
             }
            },
            "type": "histogram"
           }
          ],
          "histogram2d": [
           {
            "colorbar": {
             "outlinewidth": 0,
             "ticks": ""
            },
            "colorscale": [
             [
              0,
              "#0d0887"
             ],
             [
              0.1111111111111111,
              "#46039f"
             ],
             [
              0.2222222222222222,
              "#7201a8"
             ],
             [
              0.3333333333333333,
              "#9c179e"
             ],
             [
              0.4444444444444444,
              "#bd3786"
             ],
             [
              0.5555555555555556,
              "#d8576b"
             ],
             [
              0.6666666666666666,
              "#ed7953"
             ],
             [
              0.7777777777777778,
              "#fb9f3a"
             ],
             [
              0.8888888888888888,
              "#fdca26"
             ],
             [
              1,
              "#f0f921"
             ]
            ],
            "type": "histogram2d"
           }
          ],
          "histogram2dcontour": [
           {
            "colorbar": {
             "outlinewidth": 0,
             "ticks": ""
            },
            "colorscale": [
             [
              0,
              "#0d0887"
             ],
             [
              0.1111111111111111,
              "#46039f"
             ],
             [
              0.2222222222222222,
              "#7201a8"
             ],
             [
              0.3333333333333333,
              "#9c179e"
             ],
             [
              0.4444444444444444,
              "#bd3786"
             ],
             [
              0.5555555555555556,
              "#d8576b"
             ],
             [
              0.6666666666666666,
              "#ed7953"
             ],
             [
              0.7777777777777778,
              "#fb9f3a"
             ],
             [
              0.8888888888888888,
              "#fdca26"
             ],
             [
              1,
              "#f0f921"
             ]
            ],
            "type": "histogram2dcontour"
           }
          ],
          "mesh3d": [
           {
            "colorbar": {
             "outlinewidth": 0,
             "ticks": ""
            },
            "type": "mesh3d"
           }
          ],
          "parcoords": [
           {
            "line": {
             "colorbar": {
              "outlinewidth": 0,
              "ticks": ""
             }
            },
            "type": "parcoords"
           }
          ],
          "pie": [
           {
            "automargin": true,
            "type": "pie"
           }
          ],
          "scatter": [
           {
            "fillpattern": {
             "fillmode": "overlay",
             "size": 10,
             "solidity": 0.2
            },
            "type": "scatter"
           }
          ],
          "scatter3d": [
           {
            "line": {
             "colorbar": {
              "outlinewidth": 0,
              "ticks": ""
             }
            },
            "marker": {
             "colorbar": {
              "outlinewidth": 0,
              "ticks": ""
             }
            },
            "type": "scatter3d"
           }
          ],
          "scattercarpet": [
           {
            "marker": {
             "colorbar": {
              "outlinewidth": 0,
              "ticks": ""
             }
            },
            "type": "scattercarpet"
           }
          ],
          "scattergeo": [
           {
            "marker": {
             "colorbar": {
              "outlinewidth": 0,
              "ticks": ""
             }
            },
            "type": "scattergeo"
           }
          ],
          "scattergl": [
           {
            "marker": {
             "colorbar": {
              "outlinewidth": 0,
              "ticks": ""
             }
            },
            "type": "scattergl"
           }
          ],
          "scattermapbox": [
           {
            "marker": {
             "colorbar": {
              "outlinewidth": 0,
              "ticks": ""
             }
            },
            "type": "scattermapbox"
           }
          ],
          "scatterpolar": [
           {
            "marker": {
             "colorbar": {
              "outlinewidth": 0,
              "ticks": ""
             }
            },
            "type": "scatterpolar"
           }
          ],
          "scatterpolargl": [
           {
            "marker": {
             "colorbar": {
              "outlinewidth": 0,
              "ticks": ""
             }
            },
            "type": "scatterpolargl"
           }
          ],
          "scatterternary": [
           {
            "marker": {
             "colorbar": {
              "outlinewidth": 0,
              "ticks": ""
             }
            },
            "type": "scatterternary"
           }
          ],
          "surface": [
           {
            "colorbar": {
             "outlinewidth": 0,
             "ticks": ""
            },
            "colorscale": [
             [
              0,
              "#0d0887"
             ],
             [
              0.1111111111111111,
              "#46039f"
             ],
             [
              0.2222222222222222,
              "#7201a8"
             ],
             [
              0.3333333333333333,
              "#9c179e"
             ],
             [
              0.4444444444444444,
              "#bd3786"
             ],
             [
              0.5555555555555556,
              "#d8576b"
             ],
             [
              0.6666666666666666,
              "#ed7953"
             ],
             [
              0.7777777777777778,
              "#fb9f3a"
             ],
             [
              0.8888888888888888,
              "#fdca26"
             ],
             [
              1,
              "#f0f921"
             ]
            ],
            "type": "surface"
           }
          ],
          "table": [
           {
            "cells": {
             "fill": {
              "color": "#EBF0F8"
             },
             "line": {
              "color": "white"
             }
            },
            "header": {
             "fill": {
              "color": "#C8D4E3"
             },
             "line": {
              "color": "white"
             }
            },
            "type": "table"
           }
          ]
         },
         "layout": {
          "annotationdefaults": {
           "arrowcolor": "#2a3f5f",
           "arrowhead": 0,
           "arrowwidth": 1
          },
          "autotypenumbers": "strict",
          "coloraxis": {
           "colorbar": {
            "outlinewidth": 0,
            "ticks": ""
           }
          },
          "colorscale": {
           "diverging": [
            [
             0,
             "#8e0152"
            ],
            [
             0.1,
             "#c51b7d"
            ],
            [
             0.2,
             "#de77ae"
            ],
            [
             0.3,
             "#f1b6da"
            ],
            [
             0.4,
             "#fde0ef"
            ],
            [
             0.5,
             "#f7f7f7"
            ],
            [
             0.6,
             "#e6f5d0"
            ],
            [
             0.7,
             "#b8e186"
            ],
            [
             0.8,
             "#7fbc41"
            ],
            [
             0.9,
             "#4d9221"
            ],
            [
             1,
             "#276419"
            ]
           ],
           "sequential": [
            [
             0,
             "#0d0887"
            ],
            [
             0.1111111111111111,
             "#46039f"
            ],
            [
             0.2222222222222222,
             "#7201a8"
            ],
            [
             0.3333333333333333,
             "#9c179e"
            ],
            [
             0.4444444444444444,
             "#bd3786"
            ],
            [
             0.5555555555555556,
             "#d8576b"
            ],
            [
             0.6666666666666666,
             "#ed7953"
            ],
            [
             0.7777777777777778,
             "#fb9f3a"
            ],
            [
             0.8888888888888888,
             "#fdca26"
            ],
            [
             1,
             "#f0f921"
            ]
           ],
           "sequentialminus": [
            [
             0,
             "#0d0887"
            ],
            [
             0.1111111111111111,
             "#46039f"
            ],
            [
             0.2222222222222222,
             "#7201a8"
            ],
            [
             0.3333333333333333,
             "#9c179e"
            ],
            [
             0.4444444444444444,
             "#bd3786"
            ],
            [
             0.5555555555555556,
             "#d8576b"
            ],
            [
             0.6666666666666666,
             "#ed7953"
            ],
            [
             0.7777777777777778,
             "#fb9f3a"
            ],
            [
             0.8888888888888888,
             "#fdca26"
            ],
            [
             1,
             "#f0f921"
            ]
           ]
          },
          "colorway": [
           "#636efa",
           "#EF553B",
           "#00cc96",
           "#ab63fa",
           "#FFA15A",
           "#19d3f3",
           "#FF6692",
           "#B6E880",
           "#FF97FF",
           "#FECB52"
          ],
          "font": {
           "color": "#2a3f5f"
          },
          "geo": {
           "bgcolor": "white",
           "lakecolor": "white",
           "landcolor": "#E5ECF6",
           "showlakes": true,
           "showland": true,
           "subunitcolor": "white"
          },
          "hoverlabel": {
           "align": "left"
          },
          "hovermode": "closest",
          "mapbox": {
           "style": "light"
          },
          "paper_bgcolor": "white",
          "plot_bgcolor": "#E5ECF6",
          "polar": {
           "angularaxis": {
            "gridcolor": "white",
            "linecolor": "white",
            "ticks": ""
           },
           "bgcolor": "#E5ECF6",
           "radialaxis": {
            "gridcolor": "white",
            "linecolor": "white",
            "ticks": ""
           }
          },
          "scene": {
           "xaxis": {
            "backgroundcolor": "#E5ECF6",
            "gridcolor": "white",
            "gridwidth": 2,
            "linecolor": "white",
            "showbackground": true,
            "ticks": "",
            "zerolinecolor": "white"
           },
           "yaxis": {
            "backgroundcolor": "#E5ECF6",
            "gridcolor": "white",
            "gridwidth": 2,
            "linecolor": "white",
            "showbackground": true,
            "ticks": "",
            "zerolinecolor": "white"
           },
           "zaxis": {
            "backgroundcolor": "#E5ECF6",
            "gridcolor": "white",
            "gridwidth": 2,
            "linecolor": "white",
            "showbackground": true,
            "ticks": "",
            "zerolinecolor": "white"
           }
          },
          "shapedefaults": {
           "line": {
            "color": "#2a3f5f"
           }
          },
          "ternary": {
           "aaxis": {
            "gridcolor": "white",
            "linecolor": "white",
            "ticks": ""
           },
           "baxis": {
            "gridcolor": "white",
            "linecolor": "white",
            "ticks": ""
           },
           "bgcolor": "#E5ECF6",
           "caxis": {
            "gridcolor": "white",
            "linecolor": "white",
            "ticks": ""
           }
          },
          "title": {
           "x": 0.05
          },
          "xaxis": {
           "automargin": true,
           "gridcolor": "white",
           "linecolor": "white",
           "ticks": "",
           "title": {
            "standoff": 15
           },
           "zerolinecolor": "white",
           "zerolinewidth": 2
          },
          "yaxis": {
           "automargin": true,
           "gridcolor": "white",
           "linecolor": "white",
           "ticks": "",
           "title": {
            "standoff": 15
           },
           "zerolinecolor": "white",
           "zerolinewidth": 2
          }
         }
        },
        "title": {
         "text": "Кол-во пользователей и общее GVM"
        },
        "xaxis": {
         "anchor": "y",
         "domain": [
          0,
          0.94
         ],
         "title": {
          "text": "ID пользователя"
         }
        },
        "yaxis": {
         "anchor": "x",
         "domain": [
          0,
          1
         ],
         "title": {
          "text": "Кол-во активных действий"
         }
        },
        "yaxis2": {
         "anchor": "x",
         "overlaying": "y",
         "side": "right",
         "title": {
          "text": "Общее GVM"
         }
        }
       }
      }
     },
     "metadata": {},
     "output_type": "display_data"
    }
   ],
   "source": [
    "from plotly.subplots import make_subplots\n",
    "fig = make_subplots(specs=[[{\"secondary_y\": True}]])\n",
    "\n",
    "fig.add_trace(go.Bar(x=graph_blue['hid'], y=graph_blue['Blue_activity_count'], name='Кол-во активных действий'), secondary_y=False)\n",
    "\n",
    "fig.add_trace(go.Scatter(x=graph_blue['hid'], y=graph_blue['Blue_gmv_total'], mode='lines', name='Общее GVM'), secondary_y=True)\n",
    "\n",
    "fig.update_layout(\n",
    "    title='Кол-во пользователей и общее GVM',\n",
    "    xaxis_title='ID пользователя',\n",
    "    yaxis=dict(title='Кол-во активных действий'),\n",
    "    yaxis2=dict(title='Общее GVM', overlaying='y', side='right')\n",
    ")\n",
    "\n",
    "fig.show()"
   ]
  },
  {
   "attachments": {},
   "cell_type": "markdown",
   "metadata": {},
   "source": [
    "Ситуация практически не изменилась, а корреляция стала даже чуть меньше"
   ]
  },
  {
   "attachments": {},
   "cell_type": "markdown",
   "metadata": {},
   "source": [
    "### Распределение геолокации и девайсов для использования"
   ]
  },
  {
   "cell_type": "code",
   "execution_count": 56,
   "metadata": {},
   "outputs": [
    {
     "data": {
      "text/plain": [
       "11.893440562955517"
      ]
     },
     "execution_count": 56,
     "metadata": {},
     "output_type": "execute_result"
    }
   ],
   "source": [
    "(clean_df[clean_df['is_msk'] == 1]['hid'].nunique() / clean_df['hid'].nunique()) * 100"
   ]
  },
  {
   "attachments": {},
   "cell_type": "markdown",
   "metadata": {},
   "source": [
    "Видим, что пользователей из Москвы всего около 12 %"
   ]
  },
  {
   "cell_type": "code",
   "execution_count": 57,
   "metadata": {},
   "outputs": [
    {
     "data": {
      "text/plain": [
       "10959"
      ]
     },
     "execution_count": 57,
     "metadata": {},
     "output_type": "execute_result"
    }
   ],
   "source": [
    "clean_df[(clean_df[['Red_apple', 'Green_apple', 'Black_apple', 'Blue_apple']] > 0).any(axis=1)]['hid'].nunique()"
   ]
  },
  {
   "cell_type": "code",
   "execution_count": 58,
   "metadata": {},
   "outputs": [
    {
     "data": {
      "text/plain": [
       "33073"
      ]
     },
     "execution_count": 58,
     "metadata": {},
     "output_type": "execute_result"
    }
   ],
   "source": [
    "clean_df[(clean_df[['Red_android', 'Green_android', 'Black_android', 'Blue_android']] > 0).any(axis=1)]['hid'].nunique()"
   ]
  },
  {
   "cell_type": "code",
   "execution_count": 59,
   "metadata": {},
   "outputs": [
    {
     "data": {
      "text/plain": [
       "67164"
      ]
     },
     "execution_count": 59,
     "metadata": {},
     "output_type": "execute_result"
    }
   ],
   "source": [
    "clean_df[(clean_df[['Red_web', 'Green_web', 'Black_web', 'Blue_web']] > 0).any(axis=1)]['hid'].nunique()"
   ]
  },
  {
   "attachments": {},
   "cell_type": "markdown",
   "metadata": {},
   "source": [
    "Распределение видим следующие: с яблоком 10 959 пользователей, с андроЕдом - 33 073, а с веб версией 67 164\n",
    "<br> Опять же, не забываем, что у нескольких пользователей может быть несколько девайсов."
   ]
  },
  {
   "attachments": {},
   "cell_type": "markdown",
   "metadata": {},
   "source": [
    "#### Разбиение пользователей на группы"
   ]
  },
  {
   "cell_type": "code",
   "execution_count": 60,
   "metadata": {},
   "outputs": [],
   "source": [
    "red_users = clean_df[clean_df['active_Red'] == 1]"
   ]
  },
  {
   "cell_type": "code",
   "execution_count": 61,
   "metadata": {},
   "outputs": [],
   "source": [
    "green_users = clean_df[clean_df['has_Green_id'] == 1]"
   ]
  },
  {
   "cell_type": "code",
   "execution_count": 62,
   "metadata": {},
   "outputs": [],
   "source": [
    "blue_users = clean_df[clean_df['has_Blue_id'] == 1]"
   ]
  },
  {
   "cell_type": "code",
   "execution_count": 63,
   "metadata": {},
   "outputs": [],
   "source": [
    "black_users = clean_df[clean_df['has_Black_id'] == 1]"
   ]
  },
  {
   "attachments": {},
   "cell_type": "markdown",
   "metadata": {},
   "source": [
    "#### Пользователи Red компании"
   ]
  },
  {
   "cell_type": "code",
   "execution_count": 64,
   "metadata": {},
   "outputs": [
    {
     "data": {
      "text/plain": [
       "9013"
      ]
     },
     "execution_count": 64,
     "metadata": {},
     "output_type": "execute_result"
    }
   ],
   "source": [
    "red_users[red_users['Red_apple'] == 1]['hid'].nunique()"
   ]
  },
  {
   "cell_type": "code",
   "execution_count": 65,
   "metadata": {},
   "outputs": [
    {
     "data": {
      "text/plain": [
       "16.251645359635045"
      ]
     },
     "execution_count": 65,
     "metadata": {},
     "output_type": "execute_result"
    }
   ],
   "source": [
    "(red_users[red_users['Red_apple'] == 1]['hid'].nunique() / red_users['hid'].nunique()) * 100"
   ]
  },
  {
   "cell_type": "code",
   "execution_count": 66,
   "metadata": {},
   "outputs": [
    {
     "data": {
      "text/plain": [
       "24855"
      ]
     },
     "execution_count": 66,
     "metadata": {},
     "output_type": "execute_result"
    }
   ],
   "source": [
    "red_users[red_users['Red_android'] == 1]['hid'].nunique()"
   ]
  },
  {
   "cell_type": "code",
   "execution_count": 67,
   "metadata": {},
   "outputs": [
    {
     "data": {
      "text/plain": [
       "44.81689175787519"
      ]
     },
     "execution_count": 67,
     "metadata": {},
     "output_type": "execute_result"
    }
   ],
   "source": [
    "(red_users[red_users['Red_android'] == 1]['hid'].nunique() / red_users['hid'].nunique()) * 100"
   ]
  },
  {
   "cell_type": "code",
   "execution_count": 68,
   "metadata": {},
   "outputs": [
    {
     "data": {
      "text/plain": [
       "45196"
      ]
     },
     "execution_count": 68,
     "metadata": {},
     "output_type": "execute_result"
    }
   ],
   "source": [
    "red_users[red_users['Red_web'] == 1]['hid'].nunique()"
   ]
  },
  {
   "cell_type": "code",
   "execution_count": 69,
   "metadata": {},
   "outputs": [
    {
     "data": {
      "text/plain": [
       "81.49443733208315"
      ]
     },
     "execution_count": 69,
     "metadata": {},
     "output_type": "execute_result"
    }
   ],
   "source": [
    "(red_users[red_users['Red_web'] == 1]['hid'].nunique() / red_users['hid'].nunique()) * 100"
   ]
  },
  {
   "attachments": {},
   "cell_type": "markdown",
   "metadata": {},
   "source": [
    "У пользователей Red компании разбиение видим следующее:\n",
    "1. Эпл в меньшинстве, всего 9 013, 16 % общего кол-ва пользователей\n",
    "2. АндроЕд наступает, 24 855, это почти 45 %\n",
    "3. Веб-версия выигрывает, 45 196 человек, 81 %\n",
    "<br> <b> P.S. </b> Да, процентов суммарно получается больше 100, так как один и тот же пользователь может пользоваться сервисом и с мобильного девайса (а может даже с двух, если богач), и с веб версии. Однако все равно можно сделать вывод, что веб версией пользуются больше всего"
   ]
  },
  {
   "attachments": {},
   "cell_type": "markdown",
   "metadata": {},
   "source": [
    "#### Пользователи Green компании"
   ]
  },
  {
   "cell_type": "code",
   "execution_count": 70,
   "metadata": {},
   "outputs": [
    {
     "data": {
      "text/plain": [
       "226"
      ]
     },
     "execution_count": 70,
     "metadata": {},
     "output_type": "execute_result"
    }
   ],
   "source": [
    "green_users[green_users['Green_apple'] == 1]['hid'].nunique()"
   ]
  },
  {
   "cell_type": "code",
   "execution_count": 71,
   "metadata": {},
   "outputs": [
    {
     "data": {
      "text/plain": [
       "25.85812356979405"
      ]
     },
     "execution_count": 71,
     "metadata": {},
     "output_type": "execute_result"
    }
   ],
   "source": [
    "(green_users[green_users['Green_apple'] == 1]['hid'].nunique() / green_users['hid'].nunique()) * 100"
   ]
  },
  {
   "cell_type": "code",
   "execution_count": 72,
   "metadata": {},
   "outputs": [
    {
     "data": {
      "text/plain": [
       "179"
      ]
     },
     "execution_count": 72,
     "metadata": {},
     "output_type": "execute_result"
    }
   ],
   "source": [
    "green_users[green_users['Green_android'] == 1]['hid'].nunique()"
   ]
  },
  {
   "cell_type": "code",
   "execution_count": 73,
   "metadata": {},
   "outputs": [
    {
     "data": {
      "text/plain": [
       "20.48054919908467"
      ]
     },
     "execution_count": 73,
     "metadata": {},
     "output_type": "execute_result"
    }
   ],
   "source": [
    "(green_users[green_users['Green_android'] == 1]['hid'].nunique() / green_users['hid'].nunique()) * 100"
   ]
  },
  {
   "cell_type": "code",
   "execution_count": 74,
   "metadata": {},
   "outputs": [
    {
     "data": {
      "text/plain": [
       "26"
      ]
     },
     "execution_count": 74,
     "metadata": {},
     "output_type": "execute_result"
    }
   ],
   "source": [
    "green_users[green_users['Green_web'] == 1]['hid'].nunique()"
   ]
  },
  {
   "cell_type": "code",
   "execution_count": 75,
   "metadata": {},
   "outputs": [
    {
     "data": {
      "text/plain": [
       "2.9748283752860414"
      ]
     },
     "execution_count": 75,
     "metadata": {},
     "output_type": "execute_result"
    }
   ],
   "source": [
    "(green_users[green_users['Green_web'] == 1]['hid'].nunique() / green_users['hid'].nunique()) * 100"
   ]
  },
  {
   "cell_type": "code",
   "execution_count": 76,
   "metadata": {},
   "outputs": [
    {
     "data": {
      "text/plain": [
       "874"
      ]
     },
     "execution_count": 76,
     "metadata": {},
     "output_type": "execute_result"
    }
   ],
   "source": [
    "green_users['hid'].nunique()"
   ]
  },
  {
   "cell_type": "code",
   "execution_count": 77,
   "metadata": {},
   "outputs": [
    {
     "data": {
      "text/plain": [
       "470"
      ]
     },
     "execution_count": 77,
     "metadata": {},
     "output_type": "execute_result"
    }
   ],
   "source": [
    "green_users[(green_users['Green_android'] == 0) & (green_users['Green_apple'] == 0) & (green_users['Green_web'] == 0)]['hid'].nunique()"
   ]
  },
  {
   "cell_type": "code",
   "execution_count": 78,
   "metadata": {},
   "outputs": [
    {
     "data": {
      "text/plain": [
       "53.775743707093824"
      ]
     },
     "execution_count": 78,
     "metadata": {},
     "output_type": "execute_result"
    }
   ],
   "source": [
    "(green_users[(green_users['Green_android'] == 0) & (green_users['Green_apple'] == 0) & (green_users['Green_web'] == 0)]['hid'].nunique() / green_users['hid'].nunique()) * 100"
   ]
  },
  {
   "attachments": {},
   "cell_type": "markdown",
   "metadata": {},
   "source": [
    "У зеленых ситуация следующая:\n",
    "1. На удивление больше всего яблочников, 226 человек, это 25 %\n",
    "2. АндроЕдов в этом случае поменьше, 179 человек, это 20 %\n",
    "3. Веб версией почти никто не пользуется, всего 26 человек, это почти 3 %\n",
    "4. Однако, есть большая прослойка людей, которая приносит GVM, но также не пользуется ни одним из девайсов, это почти 54 %, 470 человек. Так что делаю предположение, что возможно это какой-то в большей степени оффлайн сервис"
   ]
  },
  {
   "attachments": {},
   "cell_type": "markdown",
   "metadata": {},
   "source": [
    "#### Пользователи Blue компании"
   ]
  },
  {
   "cell_type": "code",
   "execution_count": 79,
   "metadata": {},
   "outputs": [
    {
     "data": {
      "text/plain": [
       "1674"
      ]
     },
     "execution_count": 79,
     "metadata": {},
     "output_type": "execute_result"
    }
   ],
   "source": [
    "blue_users[blue_users['Blue_apple'] == 1]['hid'].nunique()"
   ]
  },
  {
   "cell_type": "code",
   "execution_count": 80,
   "metadata": {},
   "outputs": [
    {
     "data": {
      "text/plain": [
       "13.133532088498354"
      ]
     },
     "execution_count": 80,
     "metadata": {},
     "output_type": "execute_result"
    }
   ],
   "source": [
    "(blue_users[blue_users['Blue_apple'] == 1]['hid'].nunique() / blue_users['hid'].nunique()) * 100"
   ]
  },
  {
   "cell_type": "code",
   "execution_count": 81,
   "metadata": {},
   "outputs": [
    {
     "data": {
      "text/plain": [
       "2867"
      ]
     },
     "execution_count": 81,
     "metadata": {},
     "output_type": "execute_result"
    }
   ],
   "source": [
    "blue_users[blue_users['Blue_android'] == 1]['hid'].nunique()"
   ]
  },
  {
   "cell_type": "code",
   "execution_count": 82,
   "metadata": {},
   "outputs": [
    {
     "data": {
      "text/plain": [
       "22.4933312411737"
      ]
     },
     "execution_count": 82,
     "metadata": {},
     "output_type": "execute_result"
    }
   ],
   "source": [
    "(blue_users[blue_users['Blue_android'] == 1]['hid'].nunique() / blue_users['hid'].nunique()) * 100"
   ]
  },
  {
   "cell_type": "code",
   "execution_count": 83,
   "metadata": {},
   "outputs": [
    {
     "data": {
      "text/plain": [
       "2806"
      ]
     },
     "execution_count": 83,
     "metadata": {},
     "output_type": "execute_result"
    }
   ],
   "source": [
    "blue_users[blue_users['Blue_web'] == 1]['hid'].nunique()"
   ]
  },
  {
   "cell_type": "code",
   "execution_count": 84,
   "metadata": {},
   "outputs": [
    {
     "data": {
      "text/plain": [
       "22.014749725404048"
      ]
     },
     "execution_count": 84,
     "metadata": {},
     "output_type": "execute_result"
    }
   ],
   "source": [
    "(blue_users[blue_users['Blue_web'] == 1]['hid'].nunique() / blue_users['hid'].nunique()) * 100"
   ]
  },
  {
   "cell_type": "code",
   "execution_count": 85,
   "metadata": {},
   "outputs": [
    {
     "data": {
      "text/plain": [
       "12746"
      ]
     },
     "execution_count": 85,
     "metadata": {},
     "output_type": "execute_result"
    }
   ],
   "source": [
    "blue_users['hid'].nunique()"
   ]
  },
  {
   "cell_type": "code",
   "execution_count": 86,
   "metadata": {},
   "outputs": [
    {
     "data": {
      "text/plain": [
       "6430"
      ]
     },
     "execution_count": 86,
     "metadata": {},
     "output_type": "execute_result"
    }
   ],
   "source": [
    "blue_users[(blue_users['Blue_android'] == 0) & (blue_users['Blue_apple'] == 0) & (blue_users['Blue_web'] == 0)]['hid'].nunique()"
   ]
  },
  {
   "cell_type": "code",
   "execution_count": 87,
   "metadata": {},
   "outputs": [
    {
     "data": {
      "text/plain": [
       "50.447199121292954"
      ]
     },
     "execution_count": 87,
     "metadata": {},
     "output_type": "execute_result"
    }
   ],
   "source": [
    "(blue_users[(blue_users['Blue_android'] == 0) & (blue_users['Blue_apple'] == 0) & (blue_users['Blue_web'] == 0)]['hid'].nunique() / blue_users['hid'].nunique()) * 100"
   ]
  },
  {
   "attachments": {},
   "cell_type": "markdown",
   "metadata": {},
   "source": [
    "У компании Blue примерно такая же ситуация как у Green:\n",
    "1. Яблочников - 1674 человека, 13 %\n",
    "2. АндроЕдов - 2867, почти 23 %\n",
    "3. У веб версии - 2806 челвоека, 22 %\n",
    "4. Также 6430 человек не пользуется ни одним из девайсов, это 50 %"
   ]
  },
  {
   "attachments": {},
   "cell_type": "markdown",
   "metadata": {},
   "source": [
    "#### Пользователи Black компании"
   ]
  },
  {
   "cell_type": "code",
   "execution_count": 88,
   "metadata": {},
   "outputs": [
    {
     "data": {
      "text/plain": [
       "325"
      ]
     },
     "execution_count": 88,
     "metadata": {},
     "output_type": "execute_result"
    }
   ],
   "source": [
    "black_users[black_users['Black_apple'] == 1]['hid'].nunique()"
   ]
  },
  {
   "cell_type": "code",
   "execution_count": 89,
   "metadata": {},
   "outputs": [
    {
     "data": {
      "text/plain": [
       "30.51643192488263"
      ]
     },
     "execution_count": 89,
     "metadata": {},
     "output_type": "execute_result"
    }
   ],
   "source": [
    "(black_users[black_users['Black_apple'] == 1]['hid'].nunique() / black_users['hid'].nunique()) * 100"
   ]
  },
  {
   "cell_type": "code",
   "execution_count": 90,
   "metadata": {},
   "outputs": [
    {
     "data": {
      "text/plain": [
       "229"
      ]
     },
     "execution_count": 90,
     "metadata": {},
     "output_type": "execute_result"
    }
   ],
   "source": [
    "black_users[black_users['Black_android'] == 1]['hid'].nunique()"
   ]
  },
  {
   "cell_type": "code",
   "execution_count": 91,
   "metadata": {},
   "outputs": [
    {
     "data": {
      "text/plain": [
       "21.502347417840376"
      ]
     },
     "execution_count": 91,
     "metadata": {},
     "output_type": "execute_result"
    }
   ],
   "source": [
    "(black_users[black_users['Black_android'] == 1]['hid'].nunique() / black_users['hid'].nunique()) * 100"
   ]
  },
  {
   "cell_type": "code",
   "execution_count": 92,
   "metadata": {},
   "outputs": [
    {
     "data": {
      "text/plain": [
       "171"
      ]
     },
     "execution_count": 92,
     "metadata": {},
     "output_type": "execute_result"
    }
   ],
   "source": [
    "black_users[black_users['Black_web'] == 1]['hid'].nunique()"
   ]
  },
  {
   "cell_type": "code",
   "execution_count": 93,
   "metadata": {},
   "outputs": [
    {
     "data": {
      "text/plain": [
       "16.056338028169016"
      ]
     },
     "execution_count": 93,
     "metadata": {},
     "output_type": "execute_result"
    }
   ],
   "source": [
    "(black_users[black_users['Black_web'] == 1]['hid'].nunique() / black_users['hid'].nunique()) * 100"
   ]
  },
  {
   "cell_type": "code",
   "execution_count": 94,
   "metadata": {},
   "outputs": [
    {
     "data": {
      "text/plain": [
       "455"
      ]
     },
     "execution_count": 94,
     "metadata": {},
     "output_type": "execute_result"
    }
   ],
   "source": [
    "black_users[(black_users['Black_android'] == 0) & (black_users['Black_apple'] == 0) & (black_users['Black_web'] == 0)]['hid'].nunique()"
   ]
  },
  {
   "attachments": {},
   "cell_type": "markdown",
   "metadata": {},
   "source": [
    "У Black компании ситуация примерно такая же"
   ]
  },
  {
   "attachments": {},
   "cell_type": "markdown",
   "metadata": {},
   "source": [
    "## Тестирование гипотез"
   ]
  },
  {
   "attachments": {},
   "cell_type": "markdown",
   "metadata": {},
   "source": [
    "В рамках этого тестового задания я решил выдвинуть несколько гипотез и проверить их:\n",
    "1. Влияние проживания в Москве на GVM\n",
    "2. Влияние девайса на GVM\n",
    "\n",
    "Также можно было бы еще проверить:\n",
    "\n",
    "1. Влияние региона на кол-во заказов (В случае с Black и Green)\n",
    "2. Влияние девайса на кол-во заказов (Такие же компании)\n",
    "3. Влияние девайсов на кол-во активных действий (В случае с Blue)\n",
    "\n",
    "Но это осталось за рамками исследования"
   ]
  },
  {
   "attachments": {},
   "cell_type": "markdown",
   "metadata": {},
   "source": [
    "### Влияние проживания в Москве на GVM"
   ]
  },
  {
   "attachments": {},
   "cell_type": "markdown",
   "metadata": {},
   "source": [
    "Для успешного проведения t-test необходимо, чтобы все три предположения были верны, а именно:\n",
    "1. Нормальность Выборки\n",
    "2. Независимость, т.е. наблюдения в каждой выборке должны быть независимы\n",
    "3. Примерно одинаковая дисперсия (либо отключать её в самом t-test)\n",
    "Поэтому перед каждой проверкой гипотезы, я сначала буду проверять выборки на эти критерии"
   ]
  },
  {
   "attachments": {},
   "cell_type": "markdown",
   "metadata": {},
   "source": [
    "Для удобства и повышения уровня абстракции я поменяю названия некоторых колонок в заранее разделенных на компании датасетах, чтобы потом использовать их в функции"
   ]
  },
  {
   "cell_type": "code",
   "execution_count": 95,
   "metadata": {},
   "outputs": [],
   "source": [
    "blue_users = blue_users[['hid', 'Blue_gmv_total', 'is_msk', 'Blue_apple', 'Blue_android', 'Blue_web']]"
   ]
  },
  {
   "cell_type": "code",
   "execution_count": 96,
   "metadata": {},
   "outputs": [],
   "source": [
    "blue_users.rename(columns={'Blue_gmv_total' : 'gvm_total', 'Blue_apple' : 'apple', 'Blue_android' : 'android', 'Blue_web' : 'web'}, inplace=True)"
   ]
  },
  {
   "cell_type": "code",
   "execution_count": 97,
   "metadata": {},
   "outputs": [],
   "source": [
    "green_users = green_users[['hid', 'Green_gvm_total', 'is_msk', 'Green_apple', 'Green_android', 'Green_web']]"
   ]
  },
  {
   "cell_type": "code",
   "execution_count": 98,
   "metadata": {},
   "outputs": [],
   "source": [
    "green_users.rename(columns={'Green_gvm_total' : 'gvm_total', 'Green_apple' : 'apple', 'Green_android' : 'android', 'Green_web' : 'web'}, inplace=True)"
   ]
  },
  {
   "cell_type": "code",
   "execution_count": 99,
   "metadata": {},
   "outputs": [],
   "source": [
    "black_users = black_users[['hid', 'Black_gvm_total', 'is_msk', 'Black_apple', 'Black_android', 'Black_web']]"
   ]
  },
  {
   "cell_type": "code",
   "execution_count": 100,
   "metadata": {},
   "outputs": [],
   "source": [
    "black_users.rename(columns={'Black_gvm_total' : 'gvm_total', 'Black_apple' : 'apple', 'Black_android' : 'android', 'Black_web' : 'web'}, inplace=True)"
   ]
  },
  {
   "cell_type": "code",
   "execution_count": 101,
   "metadata": {},
   "outputs": [],
   "source": [
    "def normality_check(list_of_df):\n",
    "    from scipy.stats import shapiro \n",
    "    for idx, (df, df_name) in enumerate(zip(list_of_df, ['blue', 'green', 'black'])):\n",
    "        print(f'Checking {df_name} dataset')\n",
    "        ### Checking msk distribution\n",
    "        if shapiro(df[df['is_msk'] == 1]['gvm_total'])[1] <= 0.05:\n",
    "            print(f\"The p-value of this data for msk region is {shapiro(df['gvm_total'])[1]}, the distribution is not normal\")\n",
    "        else:\n",
    "            print('Check for normality for msk region is passed!')\n",
    "        ### Checking non-msk distibution\n",
    "        if shapiro(df[df['is_msk'] == 0]['gvm_total'])[1] <= 0.05:\n",
    "            print(f\"The p-value of this data for non-msk regions is {shapiro(df['gvm_total'])[1]}, the distribution is not normal\")\n",
    "        else:\n",
    "            print('Check for normality for non-msk regions is passed!')\n",
    "    "
   ]
  },
  {
   "cell_type": "code",
   "execution_count": 102,
   "metadata": {},
   "outputs": [],
   "source": [
    "lst = [blue_users, green_users, black_users]"
   ]
  },
  {
   "cell_type": "code",
   "execution_count": 103,
   "metadata": {},
   "outputs": [
    {
     "name": "stdout",
     "output_type": "stream",
     "text": [
      "Checking blue dataset\n",
      "The p-value of this data for msk region is 0.0, the distribution is not normal\n",
      "The p-value of this data for non-msk regions is 0.0, the distribution is not normal\n",
      "Checking green dataset\n",
      "The p-value of this data for msk region is 1.2233335593555653e-42, the distribution is not normal\n",
      "The p-value of this data for non-msk regions is 1.2233335593555653e-42, the distribution is not normal\n",
      "Checking black dataset\n",
      "The p-value of this data for msk region is 0.0, the distribution is not normal\n",
      "The p-value of this data for non-msk regions is 0.0, the distribution is not normal\n"
     ]
    },
    {
     "name": "stderr",
     "output_type": "stream",
     "text": [
      "c:\\Users\\60112813\\Desktop\\X5-homework\\Python\\X5_solution_venv\\lib\\site-packages\\scipy\\stats\\_morestats.py:1882: UserWarning:\n",
      "\n",
      "p-value may not be accurate for N > 5000.\n",
      "\n"
     ]
    }
   ],
   "source": [
    "normality_check(lst)"
   ]
  },
  {
   "attachments": {},
   "cell_type": "markdown",
   "metadata": {},
   "source": [
    "Уже на первом тесте провал, так что t-test использовать нельзя\n",
    "<br> Как альтернативу было решено попробовать <b>Mann Whitney U Test</b>, \n",
    "<br> которому пофиг на нормальность, но не пофиг на на независимость выборок"
   ]
  },
  {
   "cell_type": "code",
   "execution_count": 104,
   "metadata": {},
   "outputs": [],
   "source": [
    "def independece_check(list_of_df):\n",
    "    for idx, (df, df_name) in enumerate(zip(list_of_df, ['blue', 'green', 'black'])):\n",
    "        print(f'Checking {df_name} dataset')\n",
    "        ### Checking correlation\n",
    "        if df[df['is_msk'] == 0]['gvm_total'].corr(df[df['is_msk'] == 1]['gvm_total']) > 0.5:\n",
    "            print(f\"The correlation is somewhat positive ({df[df['is_msk'] == 0].corr(df[df['is_msk'] == 1])}),observations are dependent to an extent\")\n",
    "        else:\n",
    "            print(f\"Observations are not dependent (correlation is {df[df['is_msk'] == 0]['gvm_total'].corr(df[df['is_msk'] == 1]['gvm_total'])})\")\n",
    "            print(f\"Variance of non-msk is {df[df['is_msk'] == 0]['gvm_total'].var()}\")\n",
    "            print(f\"Variance of msk is {df[df['is_msk'] == 1]['gvm_total'].var()}\")"
   ]
  },
  {
   "cell_type": "code",
   "execution_count": 105,
   "metadata": {},
   "outputs": [],
   "source": [
    "lst = [blue_users, green_users, black_users]"
   ]
  },
  {
   "cell_type": "code",
   "execution_count": 106,
   "metadata": {},
   "outputs": [
    {
     "name": "stdout",
     "output_type": "stream",
     "text": [
      "Checking blue dataset\n",
      "Observations are not dependent (correlation is nan)\n",
      "Variance of non-msk is 131415.86695689775\n",
      "Variance of msk is 88938.90869454492\n",
      "Checking green dataset\n",
      "Observations are not dependent (correlation is nan)\n",
      "Variance of non-msk is 92189449.88330942\n",
      "Variance of msk is 137351497.91600657\n",
      "Checking black dataset\n",
      "Observations are not dependent (correlation is nan)\n",
      "Variance of non-msk is 171439977.71130556\n",
      "Variance of msk is 218751217.08593073\n"
     ]
    }
   ],
   "source": [
    "independece_check(lst)"
   ]
  },
  {
   "attachments": {},
   "cell_type": "markdown",
   "metadata": {},
   "source": [
    "Ни одна из выборок не является зависимой, хоть и корреляцию выдаёт nan. \n",
    "<br> Он может выдавать её в случае, если есть NaN в самой выборке, или же если в выборке нет дисперсии. \n",
    "<br> В других случаях корреляция настолько близка к нулю, что результат nan. \n",
    "<br> Дисперсия везде положительная, так что делаю выводы, что продолжать тест можно"
   ]
  },
  {
   "attachments": {},
   "cell_type": "markdown",
   "metadata": {},
   "source": [
    "Однако у теста Mann Whitney U Test есть предположение, что Коэффициент асимметрии (Skewness) должен быть похожим. Это я сейчас и проверю"
   ]
  },
  {
   "cell_type": "code",
   "execution_count": 107,
   "metadata": {},
   "outputs": [],
   "source": [
    "def skewness_check(list_of_df):\n",
    "    for idx, (df, df_name) in enumerate(zip(list_of_df, ['blue', 'green', 'black'])):\n",
    "        print(f'Checking {df_name} dataset')\n",
    "        ### Checking skewness\n",
    "        if abs(df[df['is_msk'] == 0]['gvm_total'].skew() - df[df['is_msk'] == 1]['gvm_total'].skew()) < 1:\n",
    "            print(\"The skewness of the two groups is similar.\")\n",
    "        else:\n",
    "            print(\"The skewness of the two groups is different.\")"
   ]
  },
  {
   "cell_type": "code",
   "execution_count": 108,
   "metadata": {},
   "outputs": [],
   "source": [
    "lst = [blue_users, green_users, black_users]"
   ]
  },
  {
   "cell_type": "code",
   "execution_count": 109,
   "metadata": {},
   "outputs": [
    {
     "name": "stdout",
     "output_type": "stream",
     "text": [
      "Checking blue dataset\n",
      "The skewness of the two groups is different.\n",
      "Checking green dataset\n",
      "The skewness of the two groups is different.\n",
      "Checking black dataset\n",
      "The skewness of the two groups is different.\n"
     ]
    }
   ],
   "source": [
    "skewness_check(lst)"
   ]
  },
  {
   "attachments": {},
   "cell_type": "markdown",
   "metadata": {},
   "source": [
    "К сожалению, результаты теста показывают, что и Mann Whitney U Test тут неприменим для тестирования гипотезы. (Так далеко я еще не заходил :D)\n",
    "<br> Поэтому я попробую Permutation test\n",
    "<br> Размер семплов делаю одинаковыми, опираясь на кол-во наблюдений в Мск регионе"
   ]
  },
  {
   "cell_type": "code",
   "execution_count": 115,
   "metadata": {},
   "outputs": [],
   "source": [
    "def permutation_test(list_of_df):\n",
    "    from mlxtend.evaluate import permutation_test\n",
    "\n",
    "    for idx, (df, df_name) in enumerate(zip(list_of_df, ['blue', 'green', 'black'])):\n",
    "        print(f'Checking {df_name} dataset')\n",
    "        ### Permutation test\n",
    "        len_msk_region = len(df[df['is_msk'] == 1])\n",
    "\n",
    "        msk = df[df['is_msk'] == 1]['gvm_total']\n",
    "\n",
    "        non_msk = df[df['is_msk'] == 1]['gvm_total'].sample(len_msk_region)\n",
    "\n",
    "        p_value = permutation_test(msk, non_msk, method='approximate', num_rounds=1000, seed=0)\n",
    "\n",
    "        print(\"Permutation Test p-value:\", p_value)"
   ]
  },
  {
   "cell_type": "code",
   "execution_count": 116,
   "metadata": {},
   "outputs": [],
   "source": [
    "lst = [blue_users, green_users, black_users]"
   ]
  },
  {
   "cell_type": "code",
   "execution_count": 117,
   "metadata": {},
   "outputs": [
    {
     "name": "stdout",
     "output_type": "stream",
     "text": [
      "Checking blue dataset\n",
      "Permutation Test p-value: 1.0\n",
      "Checking green dataset\n",
      "Permutation Test p-value: 1.0\n",
      "Checking black dataset\n",
      "Permutation Test p-value: 1.0\n"
     ]
    }
   ],
   "source": [
    "permutation_test(lst)"
   ]
  },
  {
   "attachments": {},
   "cell_type": "markdown",
   "metadata": {},
   "source": [
    "Welp  ¯\\ _ (ツ)_/¯\n",
    "<br> Зависимости GVM от региона нет от слова совсем. Хотя я все равно бы чуть аккуратнее относился к результатам теста"
   ]
  },
  {
   "attachments": {},
   "cell_type": "markdown",
   "metadata": {},
   "source": [
    "<b> График для затравочки </br>"
   ]
  },
  {
   "cell_type": "code",
   "execution_count": null,
   "metadata": {},
   "outputs": [],
   "source": [
    "data = [\n",
    "        ['Blue', gvm_total[gvm_total['has_Blue_id'] == 1]['hid'].nunique(), gvm_total[gvm_total['has_Blue_id'] == 1]['Blue_gmv_total'].sum()],\n",
    "        ['Green', gvm_total[gvm_total['has_Green_id'] == 1]['hid'].nunique(), gvm_total[gvm_total['has_Green_id'] == 1]['Green_gvm_total'].sum()],\n",
    "        ['Black', gvm_total[gvm_total['has_Black_id'] == 1]['hid'].nunique(), gvm_total[gvm_total['has_Black_id'] == 1]['Black_gvm_total'].sum()]\n",
    "]"
   ]
  },
  {
   "cell_type": "code",
   "execution_count": 130,
   "metadata": {},
   "outputs": [],
   "source": [
    "data = [\n",
    "    ['Blue_msk_users', blue_users[blue_users['is_msk'] == 1]['hid'].nunique(), blue_users[blue_users['is_msk'] == 1]['gvm_total'].sum()],\n",
    "    ['Blue_non_msk_users', blue_users[blue_users['is_msk'] == 0]['hid'].nunique(), blue_users[blue_users['is_msk'] == 0]['gvm_total'].sum()],\n",
    "    ['Green_msk_users', green_users[green_users['is_msk'] == 1]['hid'].nunique(), green_users[green_users['is_msk'] == 1]['gvm_total'].sum()],\n",
    "    ['Green_non_msk_users', green_users[green_users['is_msk'] == 0]['hid'].nunique(), green_users[green_users['is_msk'] == 0]['gvm_total'].sum()],\n",
    "    ['Black_msk_users', black_users[black_users['is_msk'] == 1]['hid'].nunique(), black_users[black_users['is_msk'] == 1]['gvm_total'].sum()],\n",
    "    ['Black_non_msk_users', black_users[black_users['is_msk'] == 0]['hid'].nunique(), black_users[black_users['is_msk'] == 0]['gvm_total'].sum()]\n",
    "    \n",
    "]"
   ]
  },
  {
   "cell_type": "code",
   "execution_count": 131,
   "metadata": {},
   "outputs": [],
   "source": [
    "comp_users = pd.DataFrame(data, columns=['Company name', 'Number of Users', 'GVM total'])"
   ]
  },
  {
   "cell_type": "code",
   "execution_count": 134,
   "metadata": {},
   "outputs": [
    {
     "data": {
      "application/vnd.plotly.v1+json": {
       "config": {
        "plotlyServerURL": "https://plot.ly"
       },
       "data": [
        {
         "name": "Number of Users",
         "type": "bar",
         "x": [
          "Blue_msk_users",
          "Blue_non_msk_users",
          "Green_msk_users",
          "Green_non_msk_users",
          "Black_msk_users",
          "Black_non_msk_users"
         ],
         "xaxis": "x",
         "y": [
          2031,
          10715,
          669,
          205,
          385,
          680
         ],
         "yaxis": "y"
        },
        {
         "mode": "markers",
         "name": "GVM total",
         "type": "scatter",
         "x": [
          "Blue_msk_users",
          "Blue_non_msk_users",
          "Green_msk_users",
          "Green_non_msk_users",
          "Black_msk_users",
          "Black_non_msk_users"
         ],
         "xaxis": "x",
         "y": [
          58158,
          175546,
          4792806,
          1143120,
          4450874,
          4903824
         ],
         "yaxis": "y2"
        }
       ],
       "layout": {
        "template": {
         "data": {
          "bar": [
           {
            "error_x": {
             "color": "#2a3f5f"
            },
            "error_y": {
             "color": "#2a3f5f"
            },
            "marker": {
             "line": {
              "color": "#E5ECF6",
              "width": 0.5
             },
             "pattern": {
              "fillmode": "overlay",
              "size": 10,
              "solidity": 0.2
             }
            },
            "type": "bar"
           }
          ],
          "barpolar": [
           {
            "marker": {
             "line": {
              "color": "#E5ECF6",
              "width": 0.5
             },
             "pattern": {
              "fillmode": "overlay",
              "size": 10,
              "solidity": 0.2
             }
            },
            "type": "barpolar"
           }
          ],
          "carpet": [
           {
            "aaxis": {
             "endlinecolor": "#2a3f5f",
             "gridcolor": "white",
             "linecolor": "white",
             "minorgridcolor": "white",
             "startlinecolor": "#2a3f5f"
            },
            "baxis": {
             "endlinecolor": "#2a3f5f",
             "gridcolor": "white",
             "linecolor": "white",
             "minorgridcolor": "white",
             "startlinecolor": "#2a3f5f"
            },
            "type": "carpet"
           }
          ],
          "choropleth": [
           {
            "colorbar": {
             "outlinewidth": 0,
             "ticks": ""
            },
            "type": "choropleth"
           }
          ],
          "contour": [
           {
            "colorbar": {
             "outlinewidth": 0,
             "ticks": ""
            },
            "colorscale": [
             [
              0,
              "#0d0887"
             ],
             [
              0.1111111111111111,
              "#46039f"
             ],
             [
              0.2222222222222222,
              "#7201a8"
             ],
             [
              0.3333333333333333,
              "#9c179e"
             ],
             [
              0.4444444444444444,
              "#bd3786"
             ],
             [
              0.5555555555555556,
              "#d8576b"
             ],
             [
              0.6666666666666666,
              "#ed7953"
             ],
             [
              0.7777777777777778,
              "#fb9f3a"
             ],
             [
              0.8888888888888888,
              "#fdca26"
             ],
             [
              1,
              "#f0f921"
             ]
            ],
            "type": "contour"
           }
          ],
          "contourcarpet": [
           {
            "colorbar": {
             "outlinewidth": 0,
             "ticks": ""
            },
            "type": "contourcarpet"
           }
          ],
          "heatmap": [
           {
            "colorbar": {
             "outlinewidth": 0,
             "ticks": ""
            },
            "colorscale": [
             [
              0,
              "#0d0887"
             ],
             [
              0.1111111111111111,
              "#46039f"
             ],
             [
              0.2222222222222222,
              "#7201a8"
             ],
             [
              0.3333333333333333,
              "#9c179e"
             ],
             [
              0.4444444444444444,
              "#bd3786"
             ],
             [
              0.5555555555555556,
              "#d8576b"
             ],
             [
              0.6666666666666666,
              "#ed7953"
             ],
             [
              0.7777777777777778,
              "#fb9f3a"
             ],
             [
              0.8888888888888888,
              "#fdca26"
             ],
             [
              1,
              "#f0f921"
             ]
            ],
            "type": "heatmap"
           }
          ],
          "heatmapgl": [
           {
            "colorbar": {
             "outlinewidth": 0,
             "ticks": ""
            },
            "colorscale": [
             [
              0,
              "#0d0887"
             ],
             [
              0.1111111111111111,
              "#46039f"
             ],
             [
              0.2222222222222222,
              "#7201a8"
             ],
             [
              0.3333333333333333,
              "#9c179e"
             ],
             [
              0.4444444444444444,
              "#bd3786"
             ],
             [
              0.5555555555555556,
              "#d8576b"
             ],
             [
              0.6666666666666666,
              "#ed7953"
             ],
             [
              0.7777777777777778,
              "#fb9f3a"
             ],
             [
              0.8888888888888888,
              "#fdca26"
             ],
             [
              1,
              "#f0f921"
             ]
            ],
            "type": "heatmapgl"
           }
          ],
          "histogram": [
           {
            "marker": {
             "pattern": {
              "fillmode": "overlay",
              "size": 10,
              "solidity": 0.2
             }
            },
            "type": "histogram"
           }
          ],
          "histogram2d": [
           {
            "colorbar": {
             "outlinewidth": 0,
             "ticks": ""
            },
            "colorscale": [
             [
              0,
              "#0d0887"
             ],
             [
              0.1111111111111111,
              "#46039f"
             ],
             [
              0.2222222222222222,
              "#7201a8"
             ],
             [
              0.3333333333333333,
              "#9c179e"
             ],
             [
              0.4444444444444444,
              "#bd3786"
             ],
             [
              0.5555555555555556,
              "#d8576b"
             ],
             [
              0.6666666666666666,
              "#ed7953"
             ],
             [
              0.7777777777777778,
              "#fb9f3a"
             ],
             [
              0.8888888888888888,
              "#fdca26"
             ],
             [
              1,
              "#f0f921"
             ]
            ],
            "type": "histogram2d"
           }
          ],
          "histogram2dcontour": [
           {
            "colorbar": {
             "outlinewidth": 0,
             "ticks": ""
            },
            "colorscale": [
             [
              0,
              "#0d0887"
             ],
             [
              0.1111111111111111,
              "#46039f"
             ],
             [
              0.2222222222222222,
              "#7201a8"
             ],
             [
              0.3333333333333333,
              "#9c179e"
             ],
             [
              0.4444444444444444,
              "#bd3786"
             ],
             [
              0.5555555555555556,
              "#d8576b"
             ],
             [
              0.6666666666666666,
              "#ed7953"
             ],
             [
              0.7777777777777778,
              "#fb9f3a"
             ],
             [
              0.8888888888888888,
              "#fdca26"
             ],
             [
              1,
              "#f0f921"
             ]
            ],
            "type": "histogram2dcontour"
           }
          ],
          "mesh3d": [
           {
            "colorbar": {
             "outlinewidth": 0,
             "ticks": ""
            },
            "type": "mesh3d"
           }
          ],
          "parcoords": [
           {
            "line": {
             "colorbar": {
              "outlinewidth": 0,
              "ticks": ""
             }
            },
            "type": "parcoords"
           }
          ],
          "pie": [
           {
            "automargin": true,
            "type": "pie"
           }
          ],
          "scatter": [
           {
            "fillpattern": {
             "fillmode": "overlay",
             "size": 10,
             "solidity": 0.2
            },
            "type": "scatter"
           }
          ],
          "scatter3d": [
           {
            "line": {
             "colorbar": {
              "outlinewidth": 0,
              "ticks": ""
             }
            },
            "marker": {
             "colorbar": {
              "outlinewidth": 0,
              "ticks": ""
             }
            },
            "type": "scatter3d"
           }
          ],
          "scattercarpet": [
           {
            "marker": {
             "colorbar": {
              "outlinewidth": 0,
              "ticks": ""
             }
            },
            "type": "scattercarpet"
           }
          ],
          "scattergeo": [
           {
            "marker": {
             "colorbar": {
              "outlinewidth": 0,
              "ticks": ""
             }
            },
            "type": "scattergeo"
           }
          ],
          "scattergl": [
           {
            "marker": {
             "colorbar": {
              "outlinewidth": 0,
              "ticks": ""
             }
            },
            "type": "scattergl"
           }
          ],
          "scattermapbox": [
           {
            "marker": {
             "colorbar": {
              "outlinewidth": 0,
              "ticks": ""
             }
            },
            "type": "scattermapbox"
           }
          ],
          "scatterpolar": [
           {
            "marker": {
             "colorbar": {
              "outlinewidth": 0,
              "ticks": ""
             }
            },
            "type": "scatterpolar"
           }
          ],
          "scatterpolargl": [
           {
            "marker": {
             "colorbar": {
              "outlinewidth": 0,
              "ticks": ""
             }
            },
            "type": "scatterpolargl"
           }
          ],
          "scatterternary": [
           {
            "marker": {
             "colorbar": {
              "outlinewidth": 0,
              "ticks": ""
             }
            },
            "type": "scatterternary"
           }
          ],
          "surface": [
           {
            "colorbar": {
             "outlinewidth": 0,
             "ticks": ""
            },
            "colorscale": [
             [
              0,
              "#0d0887"
             ],
             [
              0.1111111111111111,
              "#46039f"
             ],
             [
              0.2222222222222222,
              "#7201a8"
             ],
             [
              0.3333333333333333,
              "#9c179e"
             ],
             [
              0.4444444444444444,
              "#bd3786"
             ],
             [
              0.5555555555555556,
              "#d8576b"
             ],
             [
              0.6666666666666666,
              "#ed7953"
             ],
             [
              0.7777777777777778,
              "#fb9f3a"
             ],
             [
              0.8888888888888888,
              "#fdca26"
             ],
             [
              1,
              "#f0f921"
             ]
            ],
            "type": "surface"
           }
          ],
          "table": [
           {
            "cells": {
             "fill": {
              "color": "#EBF0F8"
             },
             "line": {
              "color": "white"
             }
            },
            "header": {
             "fill": {
              "color": "#C8D4E3"
             },
             "line": {
              "color": "white"
             }
            },
            "type": "table"
           }
          ]
         },
         "layout": {
          "annotationdefaults": {
           "arrowcolor": "#2a3f5f",
           "arrowhead": 0,
           "arrowwidth": 1
          },
          "autotypenumbers": "strict",
          "coloraxis": {
           "colorbar": {
            "outlinewidth": 0,
            "ticks": ""
           }
          },
          "colorscale": {
           "diverging": [
            [
             0,
             "#8e0152"
            ],
            [
             0.1,
             "#c51b7d"
            ],
            [
             0.2,
             "#de77ae"
            ],
            [
             0.3,
             "#f1b6da"
            ],
            [
             0.4,
             "#fde0ef"
            ],
            [
             0.5,
             "#f7f7f7"
            ],
            [
             0.6,
             "#e6f5d0"
            ],
            [
             0.7,
             "#b8e186"
            ],
            [
             0.8,
             "#7fbc41"
            ],
            [
             0.9,
             "#4d9221"
            ],
            [
             1,
             "#276419"
            ]
           ],
           "sequential": [
            [
             0,
             "#0d0887"
            ],
            [
             0.1111111111111111,
             "#46039f"
            ],
            [
             0.2222222222222222,
             "#7201a8"
            ],
            [
             0.3333333333333333,
             "#9c179e"
            ],
            [
             0.4444444444444444,
             "#bd3786"
            ],
            [
             0.5555555555555556,
             "#d8576b"
            ],
            [
             0.6666666666666666,
             "#ed7953"
            ],
            [
             0.7777777777777778,
             "#fb9f3a"
            ],
            [
             0.8888888888888888,
             "#fdca26"
            ],
            [
             1,
             "#f0f921"
            ]
           ],
           "sequentialminus": [
            [
             0,
             "#0d0887"
            ],
            [
             0.1111111111111111,
             "#46039f"
            ],
            [
             0.2222222222222222,
             "#7201a8"
            ],
            [
             0.3333333333333333,
             "#9c179e"
            ],
            [
             0.4444444444444444,
             "#bd3786"
            ],
            [
             0.5555555555555556,
             "#d8576b"
            ],
            [
             0.6666666666666666,
             "#ed7953"
            ],
            [
             0.7777777777777778,
             "#fb9f3a"
            ],
            [
             0.8888888888888888,
             "#fdca26"
            ],
            [
             1,
             "#f0f921"
            ]
           ]
          },
          "colorway": [
           "#636efa",
           "#EF553B",
           "#00cc96",
           "#ab63fa",
           "#FFA15A",
           "#19d3f3",
           "#FF6692",
           "#B6E880",
           "#FF97FF",
           "#FECB52"
          ],
          "font": {
           "color": "#2a3f5f"
          },
          "geo": {
           "bgcolor": "white",
           "lakecolor": "white",
           "landcolor": "#E5ECF6",
           "showlakes": true,
           "showland": true,
           "subunitcolor": "white"
          },
          "hoverlabel": {
           "align": "left"
          },
          "hovermode": "closest",
          "mapbox": {
           "style": "light"
          },
          "paper_bgcolor": "white",
          "plot_bgcolor": "#E5ECF6",
          "polar": {
           "angularaxis": {
            "gridcolor": "white",
            "linecolor": "white",
            "ticks": ""
           },
           "bgcolor": "#E5ECF6",
           "radialaxis": {
            "gridcolor": "white",
            "linecolor": "white",
            "ticks": ""
           }
          },
          "scene": {
           "xaxis": {
            "backgroundcolor": "#E5ECF6",
            "gridcolor": "white",
            "gridwidth": 2,
            "linecolor": "white",
            "showbackground": true,
            "ticks": "",
            "zerolinecolor": "white"
           },
           "yaxis": {
            "backgroundcolor": "#E5ECF6",
            "gridcolor": "white",
            "gridwidth": 2,
            "linecolor": "white",
            "showbackground": true,
            "ticks": "",
            "zerolinecolor": "white"
           },
           "zaxis": {
            "backgroundcolor": "#E5ECF6",
            "gridcolor": "white",
            "gridwidth": 2,
            "linecolor": "white",
            "showbackground": true,
            "ticks": "",
            "zerolinecolor": "white"
           }
          },
          "shapedefaults": {
           "line": {
            "color": "#2a3f5f"
           }
          },
          "ternary": {
           "aaxis": {
            "gridcolor": "white",
            "linecolor": "white",
            "ticks": ""
           },
           "baxis": {
            "gridcolor": "white",
            "linecolor": "white",
            "ticks": ""
           },
           "bgcolor": "#E5ECF6",
           "caxis": {
            "gridcolor": "white",
            "linecolor": "white",
            "ticks": ""
           }
          },
          "title": {
           "x": 0.05
          },
          "xaxis": {
           "automargin": true,
           "gridcolor": "white",
           "linecolor": "white",
           "ticks": "",
           "title": {
            "standoff": 15
           },
           "zerolinecolor": "white",
           "zerolinewidth": 2
          },
          "yaxis": {
           "automargin": true,
           "gridcolor": "white",
           "linecolor": "white",
           "ticks": "",
           "title": {
            "standoff": 15
           },
           "zerolinecolor": "white",
           "zerolinewidth": 2
          }
         }
        },
        "title": {
         "text": "Number of Users and GVM total"
        },
        "xaxis": {
         "anchor": "y",
         "domain": [
          0,
          0.94
         ],
         "title": {
          "text": "Company name"
         }
        },
        "yaxis": {
         "anchor": "x",
         "domain": [
          0,
          1
         ],
         "title": {
          "text": "Number of Users"
         }
        },
        "yaxis2": {
         "anchor": "x",
         "overlaying": "y",
         "side": "right",
         "title": {
          "text": "GVM total"
         }
        }
       }
      }
     },
     "metadata": {},
     "output_type": "display_data"
    }
   ],
   "source": [
    "import plotly.graph_objects as go\n",
    "from plotly.subplots import make_subplots\n",
    "\n",
    "fig = make_subplots(specs=[[{\"secondary_y\": True}]])\n",
    "\n",
    "\n",
    "fig.add_trace(go.Bar(x=comp_users['Company name'], y=comp_users['Number of Users'], name='Number of Users'), secondary_y=False)\n",
    "\n",
    "# Add bar trace for revenue\n",
    "fig.add_trace(go.Scatter(x=comp_users['Company name'], y=comp_users['GVM total'], name='GVM total', mode='markers'), secondary_y=True)\n",
    "\n",
    "# Update layout\n",
    "fig.update_layout(title='Number of Users and GVM total',\n",
    "                  xaxis=dict(title='Company name'),\n",
    "                  yaxis=dict(title='Number of Users'),\n",
    "                  yaxis2=dict(title='GVM total', overlaying='y', side='right'))\n",
    "\n",
    "fig.show()"
   ]
  },
  {
   "attachments": {},
   "cell_type": "markdown",
   "metadata": {},
   "source": [
    "Визуально зависимости не видно. Только в случае с Green как будто что-то есть, но там в Москве намного больше пользователей напорядок больше, так что это могло сыграть свою роль в Total GVM"
   ]
  },
  {
   "attachments": {},
   "cell_type": "markdown",
   "metadata": {},
   "source": [
    "### Влияние девайса на GVM"
   ]
  },
  {
   "attachments": {},
   "cell_type": "markdown",
   "metadata": {},
   "source": [
    "Тут всё то же самое, сначала проверяю все наблюдения подходят ли они под тот или иной тест"
   ]
  },
  {
   "cell_type": "code",
   "execution_count": 144,
   "metadata": {},
   "outputs": [],
   "source": [
    "def normality_check(list_of_df):\n",
    "    from scipy.stats import shapiro \n",
    "    for idx, (df, df_name) in enumerate(zip(list_of_df, ['blue', 'green', 'black'])):\n",
    "        print(f'Checking {df_name} dataset')\n",
    "        ### Checking apple\n",
    "        if shapiro(df[df['apple'] == 1]['gvm_total'])[1] <= 0.05:\n",
    "            print(f\"The p-value of this data for apple is {shapiro(df['gvm_total'])[1]}, the distribution is not normal\")\n",
    "        else:\n",
    "            print('Check for normality for apple is passed!')\n",
    "        ### Checking apple\n",
    "        if shapiro(df[df['apple'] == 0]['gvm_total'])[1] <= 0.05:\n",
    "            print(f\"The p-value of this data for apple is {shapiro(df['gvm_total'])[1]}, the distribution is not normal\")\n",
    "        else:\n",
    "            print('Check for normality for apple is passed!')\n",
    "        \n",
    "        ### Checking android\n",
    "        if shapiro(df[df['android'] == 1]['gvm_total'])[1] <= 0.05:\n",
    "            print(f\"The p-value of this data for android is {shapiro(df['gvm_total'])[1]}, the distribution is not normal\")\n",
    "        else:\n",
    "            print('Check for normality for android is passed!')\n",
    "        ### Checking android\n",
    "        if shapiro(df[df['android'] == 0]['gvm_total'])[1] <= 0.05:\n",
    "            print(f\"The p-value of this data for android is {shapiro(df['gvm_total'])[1]}, the distribution is not normal\")\n",
    "        else:\n",
    "            print('Check for normality for android is passed!')\n",
    "    \n",
    "        ### Checking web\n",
    "        if shapiro(df[df['web'] == 1]['gvm_total'])[1] <= 0.05:\n",
    "            print(f\"The p-value of this data for web is {shapiro(df['gvm_total'])[1]}, the distribution is not normal\")\n",
    "        else:\n",
    "            print('Check for normality for web is passed!')\n",
    "        ### Checking web\n",
    "        if shapiro(df[df['web'] == 0]['gvm_total'])[1] <= 0.05:\n",
    "            print(f\"The p-value of this data for web is {shapiro(df['gvm_total'])[1]}, the distribution is not normal\")\n",
    "        else:\n",
    "            print('Check for normality for web is passed!')"
   ]
  },
  {
   "cell_type": "code",
   "execution_count": 145,
   "metadata": {},
   "outputs": [],
   "source": [
    "lst = [blue_users, green_users, black_users]"
   ]
  },
  {
   "cell_type": "code",
   "execution_count": 146,
   "metadata": {},
   "outputs": [
    {
     "name": "stdout",
     "output_type": "stream",
     "text": [
      "Checking blue dataset\n",
      "The p-value of this data for apple is 0.0, the distribution is not normal\n",
      "The p-value of this data for apple is 0.0, the distribution is not normal\n",
      "The p-value of this data for android is 0.0, the distribution is not normal\n",
      "The p-value of this data for android is 0.0, the distribution is not normal\n",
      "The p-value of this data for web is 0.0, the distribution is not normal\n",
      "The p-value of this data for web is 0.0, the distribution is not normal\n",
      "Checking green dataset\n",
      "The p-value of this data for apple is 1.2233335593555653e-42, the distribution is not normal\n",
      "The p-value of this data for apple is 1.2233335593555653e-42, the distribution is not normal\n",
      "The p-value of this data for android is 1.2233335593555653e-42, the distribution is not normal\n",
      "The p-value of this data for android is 1.2233335593555653e-42, the distribution is not normal\n",
      "The p-value of this data for web is 1.2233335593555653e-42, the distribution is not normal\n",
      "The p-value of this data for web is 1.2233335593555653e-42, the distribution is not normal\n",
      "Checking black dataset\n",
      "The p-value of this data for apple is 0.0, the distribution is not normal\n",
      "The p-value of this data for apple is 0.0, the distribution is not normal\n",
      "The p-value of this data for android is 0.0, the distribution is not normal\n",
      "The p-value of this data for android is 0.0, the distribution is not normal\n",
      "The p-value of this data for web is 0.0, the distribution is not normal\n",
      "The p-value of this data for web is 0.0, the distribution is not normal\n"
     ]
    },
    {
     "name": "stderr",
     "output_type": "stream",
     "text": [
      "c:\\Users\\60112813\\Desktop\\X5-homework\\Python\\X5_solution_venv\\lib\\site-packages\\scipy\\stats\\_morestats.py:1882: UserWarning:\n",
      "\n",
      "p-value may not be accurate for N > 5000.\n",
      "\n"
     ]
    }
   ],
   "source": [
    "normality_check(lst)"
   ]
  },
  {
   "attachments": {},
   "cell_type": "markdown",
   "metadata": {},
   "source": [
    "Как видно из тестов, ни одно из распределений не является нормальным.\n",
    "<br> Можно было бы сузить выборку до тех пользователей, которые имеют хотя бы какой-то из девайсов, но учитывая факты, которые нашлись ранее - нельзя.\n",
    "<br> В случае всех трех компаний были найдены люди, которые не пользуются ни одним из девайсов совсем"
   ]
  },
  {
   "cell_type": "code",
   "execution_count": 155,
   "metadata": {},
   "outputs": [
    {
     "data": {
      "text/plain": [
       "3667294.0"
      ]
     },
     "execution_count": 155,
     "metadata": {},
     "output_type": "execute_result"
    }
   ],
   "source": [
    "black_users[(black_users['android'] == 0) & (black_users['apple'] == 0) & (black_users['web'] == 0)]['gvm_total'].sum()"
   ]
  },
  {
   "cell_type": "code",
   "execution_count": 156,
   "metadata": {},
   "outputs": [
    {
     "data": {
      "text/plain": [
       "0.0"
      ]
     },
     "execution_count": 156,
     "metadata": {},
     "output_type": "execute_result"
    }
   ],
   "source": [
    "blue_users[(blue_users['android'] == 0) & (blue_users['apple'] == 0) & (blue_users['web'] == 0)]['gvm_total'].sum()"
   ]
  },
  {
   "cell_type": "code",
   "execution_count": 158,
   "metadata": {},
   "outputs": [
    {
     "data": {
      "text/plain": [
       "3008234.0"
      ]
     },
     "execution_count": 158,
     "metadata": {},
     "output_type": "execute_result"
    }
   ],
   "source": [
    "green_users[(green_users['android'] == 0) & (green_users['apple'] == 0) & (green_users['web'] == 0)]['gvm_total'].sum()"
   ]
  },
  {
   "attachments": {},
   "cell_type": "markdown",
   "metadata": {},
   "source": [
    "Здесь мы видим, что пользователи без девайсов приносят Black и Green довольно много, так что выборку можно уменьшить только у Blue, хотя я не уверен, что это на что-то повлияет"
   ]
  },
  {
   "cell_type": "code",
   "execution_count": 159,
   "metadata": {},
   "outputs": [],
   "source": [
    "new_blue = blue_users[(blue_users['android'] == 1) | (blue_users['apple'] == 1) | (blue_users['web'] == 1)]"
   ]
  },
  {
   "cell_type": "code",
   "execution_count": 161,
   "metadata": {},
   "outputs": [
    {
     "data": {
      "text/html": [
       "<div>\n",
       "<style scoped>\n",
       "    .dataframe tbody tr th:only-of-type {\n",
       "        vertical-align: middle;\n",
       "    }\n",
       "\n",
       "    .dataframe tbody tr th {\n",
       "        vertical-align: top;\n",
       "    }\n",
       "\n",
       "    .dataframe thead th {\n",
       "        text-align: right;\n",
       "    }\n",
       "</style>\n",
       "<table border=\"1\" class=\"dataframe\">\n",
       "  <thead>\n",
       "    <tr style=\"text-align: right;\">\n",
       "      <th></th>\n",
       "      <th>hid</th>\n",
       "      <th>gvm_total</th>\n",
       "      <th>is_msk</th>\n",
       "      <th>apple</th>\n",
       "      <th>android</th>\n",
       "      <th>web</th>\n",
       "    </tr>\n",
       "  </thead>\n",
       "  <tbody>\n",
       "    <tr>\n",
       "      <th>28</th>\n",
       "      <td>00024b3bdd5d565a4338f76f5b8f68f3</td>\n",
       "      <td>0.0</td>\n",
       "      <td>0.0</td>\n",
       "      <td>1.0</td>\n",
       "      <td>0.0</td>\n",
       "      <td>0.0</td>\n",
       "    </tr>\n",
       "    <tr>\n",
       "      <th>51</th>\n",
       "      <td>0003b76af76edd4bc65cd6e0dd78b042</td>\n",
       "      <td>0.0</td>\n",
       "      <td>0.0</td>\n",
       "      <td>0.0</td>\n",
       "      <td>1.0</td>\n",
       "      <td>0.0</td>\n",
       "    </tr>\n",
       "    <tr>\n",
       "      <th>59</th>\n",
       "      <td>0004324c7b8f97c9daec7916c3878cf6</td>\n",
       "      <td>0.0</td>\n",
       "      <td>0.0</td>\n",
       "      <td>0.0</td>\n",
       "      <td>1.0</td>\n",
       "      <td>0.0</td>\n",
       "    </tr>\n",
       "    <tr>\n",
       "      <th>72</th>\n",
       "      <td>00055e7fe62b84221d156dd46bc9f9c3</td>\n",
       "      <td>0.0</td>\n",
       "      <td>0.0</td>\n",
       "      <td>0.0</td>\n",
       "      <td>1.0</td>\n",
       "      <td>0.0</td>\n",
       "    </tr>\n",
       "    <tr>\n",
       "      <th>80</th>\n",
       "      <td>0005c61e7f6c89d0eb56323570ae446a</td>\n",
       "      <td>0.0</td>\n",
       "      <td>0.0</td>\n",
       "      <td>0.0</td>\n",
       "      <td>0.0</td>\n",
       "      <td>1.0</td>\n",
       "    </tr>\n",
       "  </tbody>\n",
       "</table>\n",
       "</div>"
      ],
      "text/plain": [
       "                                 hid  gvm_total  is_msk  apple  android  web\n",
       "28  00024b3bdd5d565a4338f76f5b8f68f3        0.0     0.0    1.0      0.0  0.0\n",
       "51  0003b76af76edd4bc65cd6e0dd78b042        0.0     0.0    0.0      1.0  0.0\n",
       "59  0004324c7b8f97c9daec7916c3878cf6        0.0     0.0    0.0      1.0  0.0\n",
       "72  00055e7fe62b84221d156dd46bc9f9c3        0.0     0.0    0.0      1.0  0.0\n",
       "80  0005c61e7f6c89d0eb56323570ae446a        0.0     0.0    0.0      0.0  1.0"
      ]
     },
     "execution_count": 161,
     "metadata": {},
     "output_type": "execute_result"
    }
   ],
   "source": [
    "new_blue.head()"
   ]
  },
  {
   "cell_type": "code",
   "execution_count": 167,
   "metadata": {},
   "outputs": [],
   "source": [
    "lst = [new_blue, green_users, black_users]"
   ]
  },
  {
   "cell_type": "code",
   "execution_count": 168,
   "metadata": {},
   "outputs": [
    {
     "name": "stdout",
     "output_type": "stream",
     "text": [
      "Checking blue dataset\n",
      "The p-value of this data for apple is 0.0, the distribution is not normal\n",
      "The p-value of this data for apple is 0.0, the distribution is not normal\n",
      "The p-value of this data for android is 0.0, the distribution is not normal\n",
      "The p-value of this data for android is 0.0, the distribution is not normal\n",
      "The p-value of this data for web is 0.0, the distribution is not normal\n",
      "The p-value of this data for web is 0.0, the distribution is not normal\n",
      "Checking green dataset\n",
      "The p-value of this data for apple is 1.2233335593555653e-42, the distribution is not normal\n",
      "The p-value of this data for apple is 1.2233335593555653e-42, the distribution is not normal\n",
      "The p-value of this data for android is 1.2233335593555653e-42, the distribution is not normal\n",
      "The p-value of this data for android is 1.2233335593555653e-42, the distribution is not normal\n",
      "The p-value of this data for web is 1.2233335593555653e-42, the distribution is not normal\n",
      "The p-value of this data for web is 1.2233335593555653e-42, the distribution is not normal\n",
      "Checking black dataset\n",
      "The p-value of this data for apple is 0.0, the distribution is not normal\n",
      "The p-value of this data for apple is 0.0, the distribution is not normal\n",
      "The p-value of this data for android is 0.0, the distribution is not normal\n",
      "The p-value of this data for android is 0.0, the distribution is not normal\n",
      "The p-value of this data for web is 0.0, the distribution is not normal\n",
      "The p-value of this data for web is 0.0, the distribution is not normal\n"
     ]
    },
    {
     "name": "stderr",
     "output_type": "stream",
     "text": [
      "c:\\Users\\60112813\\Desktop\\X5-homework\\Python\\X5_solution_venv\\lib\\site-packages\\scipy\\stats\\_morestats.py:1882: UserWarning:\n",
      "\n",
      "p-value may not be accurate for N > 5000.\n",
      "\n"
     ]
    }
   ],
   "source": [
    "normality_check(lst)"
   ]
  },
  {
   "attachments": {},
   "cell_type": "markdown",
   "metadata": {},
   "source": [
    "<b> Ничего не изменилось </b>\n",
    "<br> Попробуем взять семпл у blue"
   ]
  },
  {
   "cell_type": "code",
   "execution_count": 169,
   "metadata": {},
   "outputs": [
    {
     "name": "stdout",
     "output_type": "stream",
     "text": [
      "Checking blue dataset\n",
      "The p-value of this data for apple is 0.0, the distribution is not normal\n",
      "The p-value of this data for apple is 0.0, the distribution is not normal\n",
      "The p-value of this data for android is 0.0, the distribution is not normal\n",
      "The p-value of this data for android is 0.0, the distribution is not normal\n",
      "The p-value of this data for web is 0.0, the distribution is not normal\n",
      "The p-value of this data for web is 0.0, the distribution is not normal\n",
      "Checking green dataset\n",
      "The p-value of this data for apple is 1.2233335593555653e-42, the distribution is not normal\n",
      "The p-value of this data for apple is 1.2233335593555653e-42, the distribution is not normal\n",
      "The p-value of this data for android is 1.2233335593555653e-42, the distribution is not normal\n",
      "The p-value of this data for android is 1.2233335593555653e-42, the distribution is not normal\n",
      "The p-value of this data for web is 1.2233335593555653e-42, the distribution is not normal\n",
      "The p-value of this data for web is 1.2233335593555653e-42, the distribution is not normal\n",
      "Checking black dataset\n",
      "The p-value of this data for apple is 0.0, the distribution is not normal\n",
      "The p-value of this data for apple is 0.0, the distribution is not normal\n",
      "The p-value of this data for android is 0.0, the distribution is not normal\n",
      "The p-value of this data for android is 0.0, the distribution is not normal\n",
      "The p-value of this data for web is 0.0, the distribution is not normal\n",
      "The p-value of this data for web is 0.0, the distribution is not normal\n"
     ]
    }
   ],
   "source": [
    "lst = [new_blue.sample(1000), green_users, black_users]\n",
    "normality_check(lst)"
   ]
  },
  {
   "attachments": {},
   "cell_type": "markdown",
   "metadata": {},
   "source": [
    "<b> Всё также, без изменений, переходим к проверкам Mann Whitney U Test <b>"
   ]
  },
  {
   "cell_type": "code",
   "execution_count": 171,
   "metadata": {},
   "outputs": [],
   "source": [
    "def independece_check(list_of_df):\n",
    "    for idx, (df, df_name) in enumerate(zip(list_of_df, ['blue', 'green', 'black'])):\n",
    "        print(f'Checking {df_name} dataset')\n",
    "        ### Checking apple correlation\n",
    "        if df[df['apple'] == 0]['gvm_total'].corr(df[df['apple'] == 1]['gvm_total']) > 0.5:\n",
    "            print(f\"The correlation for apple is somewhat positive ({df[df['apple'] == 0].corr(df[df['apple'] == 1])}),observations are dependent to an extent\")\n",
    "        else:\n",
    "            print(f\"Observations are not dependent (correlation is {df[df['apple'] == 0]['gvm_total'].corr(df[df['apple'] == 1]['gvm_total'])})\")\n",
    "            print(f\"Variance of not apple is {df[df['apple'] == 0]['gvm_total'].var()}\")\n",
    "            print(f\"Variance of apple is {df[df['apple'] == 1]['gvm_total'].var()}\")\n",
    "\n",
    "        ### Checking android correlation\n",
    "        if df[df['android'] == 0]['gvm_total'].corr(df[df['android'] == 1]['gvm_total']) > 0.5:\n",
    "            print(f\"The correlation for android is somewhat positive ({df[df['androi'] == 0].corr(df[df['android'] == 1])}),observations are dependent to an extent\")\n",
    "        else:\n",
    "            print(f\"Observations are not dependent (correlation is {df[df['android'] == 0]['gvm_total'].corr(df[df['android'] == 1]['gvm_total'])})\")\n",
    "            print(f\"Variance of not android is {df[df['android'] == 0]['gvm_total'].var()}\")\n",
    "            print(f\"Variance of android is {df[df['android'] == 1]['gvm_total'].var()}\")\n",
    "\n",
    "        ### Checking web correlation\n",
    "        if df[df['web'] == 0]['gvm_total'].corr(df[df['web'] == 1]['gvm_total']) > 0.5:\n",
    "            print(f\"The correlation for web is somewhat positive ({df[df['web'] == 0].corr(df[df['web'] == 1])}),observations are dependent to an extent\")\n",
    "        else:\n",
    "            print(f\"Observations are not dependent (correlation is {df[df['web'] == 0]['gvm_total'].corr(df[df['web'] == 1]['gvm_total'])})\")\n",
    "            print(f\"Variance of not web is {df[df['web'] == 0]['gvm_total'].var()}\")\n",
    "            print(f\"Variance of web is {df[df['web'] == 1]['gvm_total'].var()}\")"
   ]
  },
  {
   "cell_type": "code",
   "execution_count": 172,
   "metadata": {},
   "outputs": [],
   "source": [
    "lst = [blue_users, green_users, black_users]"
   ]
  },
  {
   "cell_type": "code",
   "execution_count": 173,
   "metadata": {},
   "outputs": [
    {
     "name": "stdout",
     "output_type": "stream",
     "text": [
      "Checking blue dataset\n",
      "Observations are not dependent (correlation is nan)\n",
      "Variance of not apple is 36810.96861692346\n",
      "Variance of apple is 70224.06963217193\n",
      "Observations are not dependent (correlation is nan)\n",
      "Variance of not android is 45952.96037117589\n",
      "Variance of android is 45351.63600233764\n",
      "Observations are not dependent (correlation is nan)\n",
      "Variance of not web is 45813.08731101706\n",
      "Variance of web is 45513.54069850322\n",
      "Checking green dataset\n",
      "Observations are not dependent (correlation is nan)\n",
      "Variance of not apple is 126951534.19424887\n",
      "Variance of apple is 126890375.19897737\n",
      "Observations are not dependent (correlation is nan)\n",
      "Variance of not android is 123590394.9964547\n",
      "Variance of android is 141252886.83221397\n",
      "Observations are not dependent (correlation is nan)\n",
      "Variance of not web is 127885342.50909424\n",
      "Variance of web is 104062689.05846155\n",
      "Checking black dataset\n",
      "Observations are not dependent (correlation is nan)\n",
      "Variance of not apple is 175933893.18433237\n",
      "Variance of apple is 230237049.05618235\n",
      "Observations are not dependent (correlation is nan)\n",
      "Variance of not android is 210703792.13442972\n",
      "Variance of android is 127579314.50118747\n",
      "Observations are not dependent (correlation is nan)\n",
      "Variance of not web is 179161702.097943\n",
      "Variance of web is 251519507.976333\n"
     ]
    }
   ],
   "source": [
    "independece_check(lst)"
   ]
  },
  {
   "attachments": {},
   "cell_type": "markdown",
   "metadata": {},
   "source": [
    "Круто, всё как в прошлом тестировании, теперь надо проверить skewness, чтобы окончательно решить, подходит ли нам тест Mann Whitney U Test"
   ]
  },
  {
   "cell_type": "code",
   "execution_count": 174,
   "metadata": {},
   "outputs": [],
   "source": [
    "def skewness_check(list_of_df):\n",
    "    for idx, (df, df_name) in enumerate(zip(list_of_df, ['blue', 'green', 'black'])):\n",
    "        print(f'Checking {df_name} dataset')\n",
    "        ### Checking apple skewness\n",
    "        if abs(df[df['apple'] == 0]['gvm_total'].skew() - df[df['apple'] == 1]['gvm_total'].skew()) < 1:\n",
    "            print(\"The skewness of the two groups is similar.\")\n",
    "        else:\n",
    "            print(\"The skewness of the two groups is different.\")\n",
    "\n",
    "        ### Checking android skewness\n",
    "        if abs(df[df['android'] == 0]['gvm_total'].skew() - df[df['android'] == 1]['gvm_total'].skew()) < 1:\n",
    "            print(\"The skewness of the two groups is similar.\")\n",
    "        else:\n",
    "            print(\"The skewness of the two groups is different.\")\n",
    "\n",
    "        ### Checking web skewness\n",
    "        if abs(df[df['web'] == 0]['gvm_total'].skew() - df[df['web'] == 1]['gvm_total'].skew()) < 1:\n",
    "            print(\"The skewness of the two groups is similar.\")\n",
    "        else:\n",
    "            print(\"The skewness of the two groups is different.\")"
   ]
  },
  {
   "cell_type": "code",
   "execution_count": 175,
   "metadata": {},
   "outputs": [],
   "source": [
    "lst = [blue_users, green_users, black_users]"
   ]
  },
  {
   "cell_type": "code",
   "execution_count": 176,
   "metadata": {},
   "outputs": [
    {
     "name": "stdout",
     "output_type": "stream",
     "text": [
      "Checking blue dataset\n",
      "The skewness of the two groups is different.\n",
      "The skewness of the two groups is different.\n",
      "The skewness of the two groups is different.\n",
      "Checking green dataset\n",
      "The skewness of the two groups is different.\n",
      "The skewness of the two groups is similar.\n",
      "The skewness of the two groups is similar.\n",
      "Checking black dataset\n",
      "The skewness of the two groups is similar.\n",
      "The skewness of the two groups is different.\n",
      "The skewness of the two groups is different.\n"
     ]
    }
   ],
   "source": [
    "skewness_check(lst)"
   ]
  },
  {
   "attachments": {},
   "cell_type": "markdown",
   "metadata": {},
   "source": [
    "Итак, результаты следующие:\n",
    "1. Для Blue Mann Whitney U Test не подходит никак\n",
    "2. Для Green он подходит только в случае Андроида и Веба, в случае с Apple буду использовать подход из тестирования прошлой гипотезы\n",
    "3. Для Black он подходит наоборот только для Apple, а для АндроЕда и веба буду также использовать подход из прошлой гипотезы"
   ]
  },
  {
   "attachments": {},
   "cell_type": "markdown",
   "metadata": {},
   "source": [
    "#### Blue company testing"
   ]
  },
  {
   "attachments": {},
   "cell_type": "markdown",
   "metadata": {},
   "source": [
    "Определяем размер семплов"
   ]
  },
  {
   "cell_type": "code",
   "execution_count": 181,
   "metadata": {},
   "outputs": [
    {
     "data": {
      "text/plain": [
       "1674"
      ]
     },
     "execution_count": 181,
     "metadata": {},
     "output_type": "execute_result"
    }
   ],
   "source": [
    "(blue_users['apple'] == 1).sum()"
   ]
  },
  {
   "cell_type": "code",
   "execution_count": 182,
   "metadata": {},
   "outputs": [
    {
     "data": {
      "text/plain": [
       "4642"
      ]
     },
     "execution_count": 182,
     "metadata": {},
     "output_type": "execute_result"
    }
   ],
   "source": [
    "(blue_users['apple'] == 0).sum()"
   ]
  },
  {
   "cell_type": "code",
   "execution_count": 185,
   "metadata": {},
   "outputs": [
    {
     "data": {
      "text/plain": [
       "2867"
      ]
     },
     "execution_count": 185,
     "metadata": {},
     "output_type": "execute_result"
    }
   ],
   "source": [
    "(blue_users['android'] == 1).sum()"
   ]
  },
  {
   "cell_type": "code",
   "execution_count": 186,
   "metadata": {},
   "outputs": [
    {
     "data": {
      "text/plain": [
       "3449"
      ]
     },
     "execution_count": 186,
     "metadata": {},
     "output_type": "execute_result"
    }
   ],
   "source": [
    "(blue_users['android'] == 0).sum()"
   ]
  },
  {
   "cell_type": "code",
   "execution_count": 187,
   "metadata": {},
   "outputs": [
    {
     "data": {
      "text/plain": [
       "2806"
      ]
     },
     "execution_count": 187,
     "metadata": {},
     "output_type": "execute_result"
    }
   ],
   "source": [
    "(blue_users['web'] == 1).sum()"
   ]
  },
  {
   "cell_type": "code",
   "execution_count": 188,
   "metadata": {},
   "outputs": [
    {
     "data": {
      "text/plain": [
       "3510"
      ]
     },
     "execution_count": 188,
     "metadata": {},
     "output_type": "execute_result"
    }
   ],
   "source": [
    "(blue_users['web'] == 0).sum()"
   ]
  },
  {
   "cell_type": "code",
   "execution_count": 200,
   "metadata": {},
   "outputs": [],
   "source": [
    "def permutation_test(list_of_df):\n",
    "    from mlxtend.evaluate import permutation_test\n",
    "\n",
    "    for idx, (df, df_name) in enumerate(zip(list_of_df, ['blue'])):\n",
    "        print(f'Checking {df_name} dataset')\n",
    "        ### Permutation test apple\n",
    "        len_apple = len(df[df['apple'] == 1])\n",
    "\n",
    "        apple = df[df['apple'] == 1]['gvm_total']\n",
    "\n",
    "        non_apple = df[df['apple'] == 1]['gvm_total'].sample(len_apple)\n",
    "\n",
    "        p_value = permutation_test(apple, non_apple, method='approximate', num_rounds=1000, seed=0)\n",
    "\n",
    "        print(\"Permutation Test apple p-value:\", p_value)\n",
    "\n",
    "        ### Permutation test android\n",
    "        len_android = len(df[df['android'] == 1])\n",
    "\n",
    "        android = df[df['android'] == 1]['gvm_total']\n",
    "\n",
    "        non_android = df[df['android'] == 1]['gvm_total'].sample(len_android)\n",
    "\n",
    "        p_value = permutation_test(android, non_android, method='approximate', num_rounds=1000, seed=0)\n",
    "\n",
    "        print(\"Permutation Test android p-value:\", p_value)\n",
    "\n",
    "        ### Permutation test web\n",
    "        len_web = len(df[df['web'] == 1])\n",
    "\n",
    "        web = df[df['web'] == 1]['gvm_total']\n",
    "\n",
    "        non_web = df[df['web'] == 1]['gvm_total'].sample(len_web)\n",
    "\n",
    "        p_value = permutation_test(web, non_web, method='approximate', num_rounds=1000, seed=0)\n",
    "\n",
    "        print(\"Permutation Test web p-value:\", p_value)"
   ]
  },
  {
   "cell_type": "code",
   "execution_count": 201,
   "metadata": {},
   "outputs": [],
   "source": [
    "lst = [blue_users]"
   ]
  },
  {
   "cell_type": "code",
   "execution_count": 202,
   "metadata": {},
   "outputs": [
    {
     "name": "stdout",
     "output_type": "stream",
     "text": [
      "Checking blue dataset\n",
      "Permutation Test apple p-value: 1.0\n",
      "Permutation Test android p-value: 1.0\n",
      "Permutation Test web p-value: 1.0\n"
     ]
    }
   ],
   "source": [
    "permutation_test(lst)"
   ]
  },
  {
   "attachments": {},
   "cell_type": "markdown",
   "metadata": {},
   "source": [
    "Результаты показывают что в случае Blue влияния девайса на GVM нет"
   ]
  },
  {
   "attachments": {},
   "cell_type": "markdown",
   "metadata": {},
   "source": [
    "#### Green company testing"
   ]
  },
  {
   "cell_type": "code",
   "execution_count": 203,
   "metadata": {},
   "outputs": [],
   "source": [
    "def permutation_test(list_of_df):\n",
    "    from mlxtend.evaluate import permutation_test\n",
    "\n",
    "    for idx, (df, df_name) in enumerate(zip(list_of_df, ['blue'])):\n",
    "        print(f'Checking {df_name} dataset')\n",
    "        ### Permutation test apple\n",
    "        len_apple = len(df[df['apple'] == 1])\n",
    "\n",
    "        apple = df[df['apple'] == 1]['gvm_total']\n",
    "\n",
    "        non_apple = df[df['apple'] == 1]['gvm_total'].sample(len_apple)\n",
    "\n",
    "        p_value = permutation_test(apple, non_apple, method='approximate', num_rounds=1000, seed=0)\n",
    "\n",
    "        print(\"Permutation Test apple p-value:\", p_value)"
   ]
  },
  {
   "cell_type": "code",
   "execution_count": 204,
   "metadata": {},
   "outputs": [],
   "source": [
    "lst = [green_users]"
   ]
  },
  {
   "cell_type": "code",
   "execution_count": 205,
   "metadata": {},
   "outputs": [
    {
     "name": "stdout",
     "output_type": "stream",
     "text": [
      "Checking blue dataset\n",
      "Permutation Test apple p-value: 1.0\n"
     ]
    }
   ],
   "source": [
    "permutation_test(lst)"
   ]
  },
  {
   "attachments": {},
   "cell_type": "markdown",
   "metadata": {},
   "source": [
    "Опять же, у Apple и GVM взаимосвязей нет, проверим андроЕда и веб"
   ]
  },
  {
   "cell_type": "code",
   "execution_count": 214,
   "metadata": {},
   "outputs": [],
   "source": [
    "def mann_test(list_of_df):\n",
    "    import scipy.stats as stats\n",
    "\n",
    "    for idx, (df, df_name) in enumerate(zip(list_of_df, ['green'])):\n",
    "        print(f'Checking {df_name} dataset')\n",
    "        ### Mann test Android\n",
    "        len_android = len(df[df['android'] == 1])\n",
    "\n",
    "        group_android = df[df['android'] == 1]['gvm_total']\n",
    "        group_non_android = df[df['android'] == 0]['gvm_total'].sample(len_android)\n",
    "\n",
    "        t_statistic, p_value_t = stats.ttest_ind(group_android, group_non_android)\n",
    "\n",
    "        u_statistic, p_value_u = stats.mannwhitneyu(group_android, group_non_android, alternative='two-sided')\n",
    "\n",
    "        print(\"Android Independent Samples t-test:\")\n",
    "        print(\"Android t-statistic:\", t_statistic)\n",
    "        print(\"Android p-value:\", p_value_t)\n",
    "\n",
    "        print(\"\\nAndroid Mann-Whitney U test:\")\n",
    "        print(\"Android U-statistic:\", u_statistic)\n",
    "        print(\"Android p-value:\", p_value_u)\n",
    "\n",
    "        ### Mann test Web\n",
    "        len_web = len(df[df['web'] == 1])\n",
    "\n",
    "        group_web = df[df['web'] == 1]['gvm_total']\n",
    "        group_non_web = df[df['web'] == 0]['gvm_total'].sample(len_web)\n",
    "\n",
    "        t_statistic, p_value_t = stats.ttest_ind(group_web, group_non_web)\n",
    "\n",
    "        u_statistic, p_value_u = stats.mannwhitneyu(group_web, group_non_web, alternative='two-sided')\n",
    "\n",
    "        print(\"\\nWeb Independent Samples t-test:\")\n",
    "        print(\"Web t-statistic:\", t_statistic)\n",
    "        print(\"Web p-value:\", p_value_t)\n",
    "\n",
    "        print(\"\\nWeb Mann-Whitney U test:\")\n",
    "        print(\"Web U-statistic:\", u_statistic)\n",
    "        print(\"Web p-value:\", p_value_u)"
   ]
  },
  {
   "cell_type": "code",
   "execution_count": 215,
   "metadata": {},
   "outputs": [],
   "source": [
    "lst = [green_users]"
   ]
  },
  {
   "cell_type": "code",
   "execution_count": 216,
   "metadata": {},
   "outputs": [
    {
     "name": "stdout",
     "output_type": "stream",
     "text": [
      "Checking green dataset\n",
      "Android Independent Samples t-test:\n",
      "Android t-statistic: -0.2648950615207005\n",
      "Android p-value: 0.791243608444113\n",
      "\n",
      "Android Mann-Whitney U test:\n",
      "Android U-statistic: 15571.0\n",
      "Android p-value: 0.6465008326342406\n",
      "\n",
      "Web Independent Samples t-test:\n",
      "Web t-statistic: -0.516045292314959\n",
      "Web p-value: 0.6080974604671063\n",
      "\n",
      "Web Mann-Whitney U test:\n",
      "Web U-statistic: 340.5\n",
      "Web p-value: 0.9707933203865761\n"
     ]
    }
   ],
   "source": [
    "mann_test(lst)"
   ]
  },
  {
   "attachments": {},
   "cell_type": "markdown",
   "metadata": {},
   "source": [
    "Всё также, ни в одном из девайсов связи с GVM не выявлено"
   ]
  },
  {
   "attachments": {},
   "cell_type": "markdown",
   "metadata": {},
   "source": [
    "#### Black company"
   ]
  },
  {
   "cell_type": "code",
   "execution_count": 218,
   "metadata": {},
   "outputs": [],
   "source": [
    "def mann_test(list_of_df):\n",
    "    import scipy.stats as stats\n",
    "\n",
    "    for idx, (df, df_name) in enumerate(zip(list_of_df, ['black'])):\n",
    "        print(f'Checking {df_name} dataset')\n",
    "        ### Mann test Apple\n",
    "        len_apple = len(df[df['apple'] == 1])\n",
    "\n",
    "        group_apple = df[df['apple'] == 1]['gvm_total']\n",
    "        group_non_apple = df[df['apple'] == 0]['gvm_total'].sample(len_apple)\n",
    "\n",
    "        t_statistic, p_value_t = stats.ttest_ind(group_apple, group_non_apple)\n",
    "\n",
    "        u_statistic, p_value_u = stats.mannwhitneyu(group_apple, group_non_apple, alternative='two-sided')\n",
    "\n",
    "        print(\"Apple Independent Samples t-test:\")\n",
    "        print(\"Apple t-statistic:\", t_statistic)\n",
    "        print(\"Apple p-value:\", p_value_t)\n",
    "\n",
    "        print(\"\\nApple Mann-Whitney U test:\")\n",
    "        print(\"Apple U-statistic:\", u_statistic)\n",
    "        print(\"Apple p-value:\", p_value_u)"
   ]
  },
  {
   "cell_type": "code",
   "execution_count": null,
   "metadata": {},
   "outputs": [],
   "source": [
    "lst = [black_users]"
   ]
  },
  {
   "cell_type": "code",
   "execution_count": 219,
   "metadata": {},
   "outputs": [
    {
     "name": "stdout",
     "output_type": "stream",
     "text": [
      "Checking black dataset\n",
      "Apple Independent Samples t-test:\n",
      "Apple t-statistic: 2.066606801190467\n",
      "Apple p-value: 0.039342723145958346\n",
      "\n",
      "Apple Mann-Whitney U test:\n",
      "Apple U-statistic: 29358.0\n",
      "Apple p-value: 0.005946031238549428\n"
     ]
    }
   ],
   "source": [
    "mann_test(lst)"
   ]
  },
  {
   "attachments": {},
   "cell_type": "markdown",
   "metadata": {},
   "source": [
    "К сожалению, насколько я понимаю, прошлая проверка независимости дала сбой, либо я где-то ошибся, либо просто проверки по корреляции недостаточно.\n",
    "<br> Также, к сожалению, про такую проверку на независимость вспомнил только сейчас.\n",
    "<br> Так как p-value независимости выборок < 0.05, то результаты тесты воспринимать нельзя, так как нарушается одно из предположенией теста.\n",
    "<br> Попробую прогнать permutation test на всех девайсах :/"
   ]
  },
  {
   "cell_type": "code",
   "execution_count": 220,
   "metadata": {},
   "outputs": [],
   "source": [
    "def permutation_test(list_of_df):\n",
    "    from mlxtend.evaluate import permutation_test\n",
    "\n",
    "    for idx, (df, df_name) in enumerate(zip(list_of_df, ['black'])):\n",
    "        print(f'Checking {df_name} dataset')\n",
    "        ### Permutation test apple\n",
    "        len_apple = len(df[df['apple'] == 1])\n",
    "\n",
    "        apple = df[df['apple'] == 1]['gvm_total']\n",
    "\n",
    "        non_apple = df[df['apple'] == 1]['gvm_total'].sample(len_apple)\n",
    "\n",
    "        p_value = permutation_test(apple, non_apple, method='approximate', num_rounds=1000, seed=0)\n",
    "\n",
    "        print(\"Permutation Test apple p-value:\", p_value)\n",
    "\n",
    "        ### Permutation test android\n",
    "        len_android = len(df[df['android'] == 1])\n",
    "\n",
    "        android = df[df['android'] == 1]['gvm_total']\n",
    "\n",
    "        non_android = df[df['android'] == 1]['gvm_total'].sample(len_android)\n",
    "\n",
    "        p_value = permutation_test(android, non_android, method='approximate', num_rounds=1000, seed=0)\n",
    "\n",
    "        print(\"Permutation Test android p-value:\", p_value)\n",
    "\n",
    "        ### Permutation test web\n",
    "        len_web = len(df[df['web'] == 1])\n",
    "\n",
    "        web = df[df['web'] == 1]['gvm_total']\n",
    "\n",
    "        non_web = df[df['web'] == 1]['gvm_total'].sample(len_web)\n",
    "\n",
    "        p_value = permutation_test(web, non_web, method='approximate', num_rounds=1000, seed=0)\n",
    "\n",
    "        print(\"Permutation Test web p-value:\", p_value)"
   ]
  },
  {
   "cell_type": "code",
   "execution_count": 221,
   "metadata": {},
   "outputs": [],
   "source": [
    "lst = [black_users]"
   ]
  },
  {
   "cell_type": "code",
   "execution_count": 222,
   "metadata": {},
   "outputs": [
    {
     "name": "stdout",
     "output_type": "stream",
     "text": [
      "Checking black dataset\n",
      "Permutation Test apple p-value: 1.0\n",
      "Permutation Test android p-value: 1.0\n",
      "Permutation Test web p-value: 1.0\n"
     ]
    }
   ],
   "source": [
    "permutation_test(lst)"
   ]
  },
  {
   "attachments": {},
   "cell_type": "markdown",
   "metadata": {},
   "source": [
    "Получается тестирование обеих гипотез не выявило никаких взаимосвязей, хотя Permutation test я ранее не использовал, поэтому к результатам исследования отнесся бы немного скептически.\n",
    "\n",
    "<br> Ну вот и всё, спасибо за уделённое время для проверки тестового!"
   ]
  }
 ],
 "metadata": {
  "kernelspec": {
   "display_name": "Python 3",
   "language": "python",
   "name": "python3"
  },
  "language_info": {
   "codemirror_mode": {
    "name": "ipython",
    "version": 3
   },
   "file_extension": ".py",
   "mimetype": "text/x-python",
   "name": "python",
   "nbconvert_exporter": "python",
   "pygments_lexer": "ipython3",
   "version": "3.10.10"
  },
  "orig_nbformat": 4
 },
 "nbformat": 4,
 "nbformat_minor": 2
}
